{
 "cells": [
  {
   "cell_type": "markdown",
   "source": "# Juyter notebooks\n\nThis is a *Jupyter notebook*. We will be computing using Jupyter notebooks (https://jupyter.org/) and \nthe programming language *Python* (https://www.python.org/).\nJupyter notebooks provide an interactive environment where you can mix text, equations, computer code\nand visual outputs. This is new technology that is increasingly widely used, and it is all free and open-source.",
   "metadata": {
    "cell_id": "00000-a4df7d19-60cf-4bc9-8286-60af38446e95",
    "deepnote_cell_type": "markdown"
   }
  },
  {
   "cell_type": "markdown",
   "source": "# Using the Azure notebook service\n\nThe Azure notebook service provides a cloud-based Jupyter notebook environment at https://notebooks.azure.com/. \nYou can log in with your CRSid.",
   "metadata": {
    "cell_id": "00001-5dac9e43-27da-43c9-80b2-1b9b3a404511",
    "deepnote_cell_type": "markdown"
   }
  },
  {
   "cell_type": "markdown",
   "source": "## Running and viewing the course material\n\nThere are 12 notebook activities for this course, plus some other helper notebooks (including this one), arranged in a library.\n\n- Click on a notebook to view it.\n\n- Click 'Clone' to get your own, runnable and editable copy of the library. If you are not logged in you will be \n  prompted to log in. Use your CRSid.\n  \n  Experiment freely with your clone of the activity notebooks - you can always return to the master version.\n\nOnce you have your own version of the notebooks, open a notebook and run it \nvia the menu bar with  `Kernel -> Restart & Run All`. Try making an edit and then run the notebook again to see\nyour change.",
   "metadata": {
    "cell_id": "00002-b998ce5c-3e57-4dcc-91a4-eaa2c77d7218",
    "deepnote_cell_type": "markdown"
   }
  },
  {
   "cell_type": "markdown",
   "source": "## Creating your own notebooks\n\nTo create your own notebooks:\n\n1. Log in at https://notebooks.azure.com/.\n1. Go to 'Libraries' (top left of the page).\n1. Click 'New Library' to create a library (give it a suitable name, e.g. 'IA exercises').\n1. You should now be in your new library. Click 'Open in Jupyter' 'to get a Jupyter environment.\n1. At the top-right of the page, click `New -> Python 3`. You will now have a new notebook, and you're\n   ready to start working.\n\nBy default, the name of your new notebook will be 'Untitled'. Click on 'Untitled' to give your notebook\nand different name, e.g. 'Activity 02 exercises'. \n\nYou can return to https://notebooks.azure.com/ at any time, and go to 'Libraries' to see your collection\nof notebook libraries.\n\nIt would be a good idea to periodically download your notebooks for safe keeping.",
   "metadata": {
    "cell_id": "00003-5797094c-8d7d-4ed6-bfa4-3d9bc4eb08d0",
    "deepnote_cell_type": "markdown"
   }
  },
  {
   "cell_type": "markdown",
   "source": "# Editing and running notebooks\n\nJupyter notebooks have *text* cells and *code* cells. If you double-click on part of a notebook\nin a Jupyter environment (see above for creating a Jupyter environment on Azure), the cell\nwill become editable. You will see in the menu bar whether it is a text cell ('Markdown') or a code cell ('Code').\nYou can use the drop-down box at the top of a notebook to change the cell type.\nYou can use `Insert` from the menu bar to insert a new cell.\n\nThe current cell can be 'run' using `shift-return` (the current cell is highlighted by a bar on the left-hand\nside of the page). When run, a text cell will be typeset, and the code in a 'code cell' will be executed. \nAny output from a code cell will appear below the code.\n\nOften you will want to run all cells from the start of a notebook. You can do this with `Kernel -> Restart & Run All` from the notebook menu bar. In this case the cells are executed in order (first through to last).\n\nBelow is a code cell:",
   "metadata": {
    "cell_id": "00004-86ba2e71-3f5c-4f47-a88a-4b59cc705185",
    "deepnote_cell_type": "markdown"
   }
  },
  {
   "cell_type": "code",
   "metadata": {
    "cell_id": "00005-44285948-09c6-45ed-bd10-5c3f2e45c64e",
    "deepnote_cell_type": "code"
   },
   "source": "print(3 + 4)",
   "outputs": [
    {
     "name": "stdout",
     "output_type": "stream",
     "text": "7\n"
    }
   ],
   "execution_count": null
  },
  {
   "cell_type": "markdown",
   "source": "# Formatting text cells\n\nText cells are formatted using *Markdown*, and using *LaTeX* syntax for mathematics.\nMake extensive use of text cells to explain what your program does, and how it does it.\nUse mathematical typesetting to express yourself mathematically.",
   "metadata": {
    "cell_id": "00006-ef00699b-47c5-4f15-a59d-71841946c83f",
    "deepnote_cell_type": "markdown"
   }
  },
  {
   "cell_type": "markdown",
   "source": "##  Markdown\n\nYou can find all the details in the [Jupyter Markdown documentation](http://jupyter-notebook.readthedocs.io/en/latest/examples/Notebook/Working%20With%20Markdown%20Cells.html).\nBelow is a brief summary.",
   "metadata": {
    "cell_id": "00007-52d6cc3f-b2a7-49dd-a784-2f42057c9c2e",
    "deepnote_cell_type": "markdown"
   }
  },
  {
   "cell_type": "markdown",
   "source": "### Headings \n\nUsing Markdown, headings are indicated by '`#`':\n```\n# Top level heading\n## Second level heading\n### Third level heading\n```",
   "metadata": {
    "cell_id": "00008-a0a80b15-6e87-4d61-9031-fd818414570b",
    "deepnote_cell_type": "markdown"
   }
  },
  {
   "cell_type": "markdown",
   "source": "### Text style\n\nThe Markdown input\n```\nOpening passage\n\n`A passage of text`\n\n*Some more text*\n\n**Yet more text**\n\n```\n\nappears as:\n\n\nOpening passage\n\n`A passage of text`\n\n*Some more text*\n\n**Yet more text**",
   "metadata": {
    "cell_id": "00009-641eb88c-f6df-41c1-a161-e9d1035bcf7b",
    "deepnote_cell_type": "markdown"
   }
  },
  {
   "cell_type": "markdown",
   "source": "### Lists\n\nYou can create bulleted lists using:\n```\n- Option A\n- Option B\n```\nto show\n- Option A\n- Option B\n\nand enumerated lists using\n```\n1. Old approach\n1. New approach\n```\nto show\n1. Old approach\n1. New approach\n\nMarkdown resolves the list number for you.",
   "metadata": {
    "cell_id": "00010-9f364402-1ac0-4092-9daf-06b09bfcc27e",
    "deepnote_cell_type": "markdown"
   }
  },
  {
   "cell_type": "markdown",
   "source": "### Code\n\nCode can be typeset using:\n\n    ```python\n    def f(x):\n        return x*x\n    ```\n\nwhich produces\n\n```python\ndef f(x):\n    return x*x\n```",
   "metadata": {
    "cell_id": "00011-caa618b9-2a96-4e3a-a34e-b78458c510a2",
    "deepnote_cell_type": "markdown"
   }
  },
  {
   "cell_type": "markdown",
   "source": "You can include images in Jupyter notebooks - see [Jupyter Markdown documentation](http://jupyter-notebook.readthedocs.io/en/latest/examples/Notebook/Working%20With%20Markdown%20Cells.html).",
   "metadata": {
    "cell_id": "00012-53d07fed-d700-4c81-89d0-e7df63697a53",
    "deepnote_cell_type": "markdown"
   }
  },
  {
   "cell_type": "markdown",
   "source": "## LaTeX\n\nMarkdown cells support [LaTeX](https://www.latex-project.org/) syntax for typesetting mathematics. LaTeX is the leading tool for technical documents and presenting mathematics, and it is free.\n\n> Learning LaTeX now is a good investment for later in the Tripos. You might want to try https://www.overleaf.com/ for an online LaTeX environment. \n\nTo typeset an inline equation, use:\n```\nThe term of interest in this case is $\\exp(-2x) \\sin(3 x^{4})$.\n```\nwhich will appear as:\n\n'The term of interest in this case is $\\exp(-2x) \\sin(\\alpha x^{4})$.'\n\nFor a displayed equation, from\n```\nWe wish to evaluate\n\n$$\nf(x) = \\beta x^{3} \\int_{0}^{2} g(x) \\, dx\n$$\n\nwhen $\\beta = 4$.\n```\nwe get:\n\n'We wish to evaluate\n\n$$\nf(x) = \\beta x^{3} \\int_{0}^{2} g(x) \\, dx\n$$\n\nwhen $\\beta = 4$.'\n\nSearch online to learn the LaTeX commands for different mathematical symbols. If \nyou see an example of mathematical typesetting in a notebook, you can also double-click \nit in a Jupyter environment\nto see the syntax. There\nare lots of examples at https://notebooks.azure.com/library/1A-maths.",
   "metadata": {
    "cell_id": "00013-40324e94-1cbe-4bd4-820b-2681ee00b1a2",
    "deepnote_cell_type": "markdown"
   }
  },
  {
   "cell_type": "markdown",
   "source": "# Running Jupyter locally (optional)\n\n\nSee [here](00%20Part%20IA%20Michaelmas%20Term%20computing.ipynb#Running-locally) for suggestions on running\nJupyter locally.",
   "metadata": {
    "collapsed": true,
    "cell_id": "00014-9ff6b91f-21d5-4efc-9872-7866f5dcdb72",
    "deepnote_cell_type": "markdown"
   }
  },
  {
   "cell_type": "markdown",
   "source": "<a style='text-decoration:none;line-height:16px;display:flex;color:#5B5B62;padding:10px;justify-content:end;' href='https://deepnote.com?utm_source=created-in-deepnote-cell&projectId=b21ecfca-1024-46a4-860c-35a51c91b2b7' target=\"_blank\">\n<img alt='Created in deepnote.com' style='display:inline;max-height:16px;margin:0px;margin-right:7.5px;' src='data:image/svg+xml;base64,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' > </img>\nCreated in <span style='font-weight:600;margin-left:4px;'>Deepnote</span></a>",
   "metadata": {
    "tags": [],
    "created_in_deepnote_cell": true,
    "deepnote_cell_type": "markdown"
   }
  }
 ],
 "nbformat": 4,
 "nbformat_minor": 1,
 "metadata": {
  "kernelspec": {
   "display_name": "Python 3",
   "language": "python",
   "name": "python3"
  },
  "language_info": {
   "codemirror_mode": {
    "name": "ipython",
    "version": 3
   },
   "file_extension": ".py",
   "mimetype": "text/x-python",
   "name": "python",
   "nbconvert_exporter": "python",
   "pygments_lexer": "ipython3",
   "version": "3.6.6"
  },
  "deepnote_notebook_id": "240e7053-679f-4a39-ab38-cfa53396d6d8",
  "deepnote": {},
  "deepnote_execution_queue": []
 }
}