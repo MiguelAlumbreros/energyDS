{
 "cells": [
  {
   "cell_type": "markdown",
   "source": "# Introduction\n\nObject-oriented programming and design is an approach that is based around 'objects'. \nYou have already been working\nregularly with objects such as lists, tuples, dictionaries, and NumPy arrays.\n\nThe topic of object-oriented programming is a whole lecture course on its own, so in this notebook \nwe will focus on:\n\n- Classes\n- Attributes of objects\n- Class methods\n\nWe will do this primarily by example. We will not delve into inheritance and polymorphism.\n\nPython supports the object-oriented programming paradigm; in fact, everything in Python is an object.\nYou have been using concepts from object-oriented computing throughout this course.\n\n\n## Objectives\n\n- Appreciate objects as instantiations of classes\n- Understanding of attributes and methods of classes\n- Learn to create simple classes\n- Implement and use class methods",
   "metadata": {
    "cell_id": "00000-df4ae5c6-f371-4366-b4f5-6e4962740937",
    "deepnote_cell_type": "markdown"
   }
  },
  {
   "cell_type": "markdown",
   "source": "We will be using NumPy, so we import it here:",
   "metadata": {
    "cell_id": "00001-4a372bb4-6aac-4e0a-b8d3-033cd278fb67",
    "deepnote_cell_type": "markdown"
   }
  },
  {
   "cell_type": "code",
   "metadata": {
    "cell_id": "00002-2723f7d8-be6c-487a-9e89-e04ae3bc37c2",
    "deepnote_cell_type": "code"
   },
   "source": "import numpy as np",
   "outputs": [],
   "execution_count": null
  },
  {
   "cell_type": "markdown",
   "source": "# Example: Numpy array objects\n\nConsider a NumPy array:",
   "metadata": {
    "collapsed": true,
    "cell_id": "00003-86d4dfc8-4571-4c04-8f8d-e80237ebcd42",
    "deepnote_cell_type": "markdown"
   }
  },
  {
   "cell_type": "code",
   "metadata": {
    "cell_id": "00004-5a11831c-630c-45cb-8c10-5244803011a8",
    "deepnote_cell_type": "code"
   },
   "source": "A = np.array([[1, -4, 7], [2, 6, -1]])\nprint(A)",
   "outputs": [
    {
     "name": "stdout",
     "output_type": "stream",
     "text": "[[ 1 -4  7]\n [ 2  6 -1]]\n"
    }
   ],
   "execution_count": null
  },
  {
   "cell_type": "markdown",
   "source": "We already know how to check the type of an object:",
   "metadata": {
    "cell_id": "00005-2e09aee3-ac99-48b1-8c90-da077cbebbb4",
    "deepnote_cell_type": "markdown"
   }
  },
  {
   "cell_type": "code",
   "metadata": {
    "cell_id": "00006-03eb46d1-b2f4-4604-99c0-12fc6cea2c66",
    "deepnote_cell_type": "code"
   },
   "source": "print(type(A))",
   "outputs": [
    {
     "name": "stdout",
     "output_type": "stream",
     "text": "<class 'numpy.ndarray'>\n"
    }
   ],
   "execution_count": null
  },
  {
   "cell_type": "markdown",
   "source": "This says that `A` is an *instantiation* of the class `numpy.ndarray`. You can read this as '`A` is a `numpy.ndarray`'.\n\nSo what is a `numpy.ndarray`? It is a class that has *attributes* and *member functions*.",
   "metadata": {
    "cell_id": "00007-d73ceee2-6417-4f26-a566-f21e40423eda",
    "deepnote_cell_type": "markdown"
   }
  },
  {
   "cell_type": "markdown",
   "source": "## Attributes\n\nAttributes are *data* that belong to an object. The array `A` has a number of attributes. An attribute we have seen already is `shape`:",
   "metadata": {
    "cell_id": "00008-7ffa3414-25b1-4f92-ae24-1d49ef4b95c8",
    "deepnote_cell_type": "markdown"
   }
  },
  {
   "cell_type": "code",
   "metadata": {
    "cell_id": "00009-f54a2f59-4b08-45a9-9904-6931e707ba8c",
    "deepnote_cell_type": "code"
   },
   "source": "s = A.shape\nprint(s)",
   "outputs": [
    {
     "name": "stdout",
     "output_type": "stream",
     "text": "(2, 3)\n"
    }
   ],
   "execution_count": null
  },
  {
   "cell_type": "markdown",
   "source": "Every object of type `numpy.ndarray` has the attribute `shape` which describes the number of entries in the array in each direction. Other attributes are `size`, which is the total number of entries:",
   "metadata": {
    "cell_id": "00010-b53f1358-5e23-4548-ad68-d4a0a5636e11",
    "deepnote_cell_type": "markdown"
   }
  },
  {
   "cell_type": "code",
   "metadata": {
    "cell_id": "00011-32694cf8-a6f5-4a78-bc93-4ba3e3ba3859",
    "deepnote_cell_type": "code"
   },
   "source": "s = A.size\nprint(s)",
   "outputs": [
    {
     "name": "stdout",
     "output_type": "stream",
     "text": "6\n"
    }
   ],
   "execution_count": null
  },
  {
   "cell_type": "markdown",
   "source": "and `ndim`, which is the number of array dimensions (i.e. 1 for a vector, 2 for a matrix): ",
   "metadata": {
    "cell_id": "00012-21f1807b-bca4-478d-8594-9ee80d9c10ed",
    "deepnote_cell_type": "markdown"
   }
  },
  {
   "cell_type": "code",
   "metadata": {
    "cell_id": "00013-f124ca46-d4db-4f28-ad93-f22bcf3cfadd",
    "deepnote_cell_type": "code"
   },
   "source": "d = A.ndim\nprint(d)",
   "outputs": [
    {
     "name": "stdout",
     "output_type": "stream",
     "text": "2\n"
    }
   ],
   "execution_count": null
  },
  {
   "cell_type": "markdown",
   "source": "Notice that after an attribute name there are no braces, i.e. no `()`. This is a feature of attributes - we are\njust accessing some data that belongs to an object. We are not calling a function or doing any computational work.",
   "metadata": {
    "cell_id": "00014-dad84052-ed6e-43a0-80d3-8d3d1578445c",
    "deepnote_cell_type": "markdown"
   }
  },
  {
   "cell_type": "markdown",
   "source": "## Methods\n\nMethods are *functions* that are associated with a class, and perform operations on the data associated with an instantiation of a class. A `numpy.ndarray` object has a method '`min`', which returns the minimum entry in \nthe array:",
   "metadata": {
    "cell_id": "00015-669584c8-31bc-4e50-91f1-78442ab4e0e6",
    "deepnote_cell_type": "markdown"
   }
  },
  {
   "cell_type": "code",
   "metadata": {
    "cell_id": "00016-19290249-c1ae-4046-bdd1-f25b0a61e00d",
    "deepnote_cell_type": "code"
   },
   "source": "print(A.min())",
   "outputs": [
    {
     "name": "stdout",
     "output_type": "stream",
     "text": "-4\n"
    }
   ],
   "execution_count": null
  },
  {
   "cell_type": "markdown",
   "source": "Methods are functions, and as functions can take arguments. For example, we can use the method `sort` to sort the rows of an array: ",
   "metadata": {
    "cell_id": "00017-67e946b1-6e22-44f3-bcaf-35f3e4e58904",
    "deepnote_cell_type": "markdown"
   }
  },
  {
   "cell_type": "code",
   "metadata": {
    "cell_id": "00018-207766cb-e5ae-47ce-b861-178721bf2f16",
    "deepnote_cell_type": "code"
   },
   "source": "A.sort(kind='quicksort')\nprint(A)",
   "outputs": [
    {
     "name": "stdout",
     "output_type": "stream",
     "text": "[[-4  1  7]\n [-1  2  6]]\n"
    }
   ],
   "execution_count": null
  },
  {
   "cell_type": "markdown",
   "source": "where we have called the `sort` method that belongs to `numpy.ndarray`, and we have passed an argument that specifies that it should use quicksort.",
   "metadata": {
    "cell_id": "00019-810992c2-8375-4ee2-835c-d26c19f0a453",
    "deepnote_cell_type": "markdown"
   }
  },
  {
   "cell_type": "markdown",
   "source": "Object methods can take other objects as arguments. Given a two-dimensional array (matrix) $A$ and\na one-dimensional array (vector) $x$:",
   "metadata": {
    "cell_id": "00020-62e9acaf-f9dd-455f-93c4-c4e5503b4469",
    "deepnote_cell_type": "markdown"
   }
  },
  {
   "cell_type": "code",
   "metadata": {
    "cell_id": "00021-e0b55de6-85fc-4a5c-bb98-d35ebb30f0b5",
    "deepnote_cell_type": "code"
   },
   "source": "A = np.array([[1, -4, 7], [2, 6, -1]])\n\nx = np.ones(A.shape[1])\nprint(x)",
   "outputs": [
    {
     "name": "stdout",
     "output_type": "stream",
     "text": "[1. 1. 1.]\n"
    }
   ],
   "execution_count": null
  },
  {
   "cell_type": "markdown",
   "source": "We can compute $b = Ax$ using the `dot` method:",
   "metadata": {
    "cell_id": "00022-3705f8ad-0cc3-4ddf-b50d-0d94cd4b572a",
    "deepnote_cell_type": "markdown"
   }
  },
  {
   "cell_type": "code",
   "metadata": {
    "cell_id": "00023-9dc92f64-22fe-413a-8cca-5c2333d248a2",
    "deepnote_cell_type": "code"
   },
   "source": "b = A.dot(x)\nprint(b)",
   "outputs": [
    {
     "name": "stdout",
     "output_type": "stream",
     "text": "[4. 7.]\n"
    }
   ],
   "execution_count": null
  },
  {
   "cell_type": "markdown",
   "source": "# Finding class attributes and methods\n\nClass attributes and methods are usually listed in documentation. For `numpy.ndarray`, all attributes and methods are listed and explained at http://docs.scipy.org/doc/numpy/reference/generated/numpy.ndarray.html.\n\nUsing Jupyter (or IPython) you can use 'tab-completion' to see the available attributes and methods. You will often know from the name which one you need.",
   "metadata": {
    "cell_id": "00024-f4d00e9c-042c-4c10-83a9-af8f53ac8bd3",
    "deepnote_cell_type": "markdown"
   }
  },
  {
   "cell_type": "markdown",
   "source": "# Creating classes\n\nSometimes we cannot find a class (object type) that suits our problem. In this case we can make our own.\nAs a simple example, consider a class that holds a person's surname and forename:",
   "metadata": {
    "cell_id": "00025-c33d85f0-f8bd-48b7-a262-c6c25d220f82",
    "deepnote_cell_type": "markdown"
   }
  },
  {
   "cell_type": "code",
   "metadata": {
    "cell_id": "00026-7bd3e983-0d14-4849-8633-87564c6aa341",
    "deepnote_cell_type": "code"
   },
   "source": "class PersonName:\n    def __init__(self, surname, forename):\n        self.surname = surname  # Attribute\n        self.forename = forename  # Attribute\n        \n    # This is a method\n    def full_name(self):\n        \"Return full name (forename surname)\"\n        return self.forename + \" \" + self.surname\n\n    # This is a method\n    def surname_forename(self, sep=\",\"):\n        \"Return 'surname, forename', with option to specify separator\"\n        return self.surname + sep + \" \" + self.forename",
   "outputs": [],
   "execution_count": null
  },
  {
   "cell_type": "markdown",
   "source": "Before dissecting the syntax of this class, we will use it. \nWe first create an object (an instantiation) of type `PersonName`:",
   "metadata": {
    "cell_id": "00027-d617719b-8c50-454f-827a-8b072f6d4c0c",
    "deepnote_cell_type": "markdown"
   }
  },
  {
   "cell_type": "code",
   "metadata": {
    "cell_id": "00028-499e95ca-8dd0-44ed-9028-9f6c2ef5c785",
    "deepnote_cell_type": "code"
   },
   "source": "name_entry = PersonName(\"Bloggs\", \"Joanna\")\nprint(type(name_entry))",
   "outputs": [
    {
     "name": "stdout",
     "output_type": "stream",
     "text": "<class '__main__.PersonName'>\n"
    }
   ],
   "execution_count": null
  },
  {
   "cell_type": "markdown",
   "source": "We first test the attributes:",
   "metadata": {
    "cell_id": "00029-9c1c213a-d8d7-4c90-9db1-9bd9bb27bde5",
    "deepnote_cell_type": "markdown"
   }
  },
  {
   "cell_type": "code",
   "metadata": {
    "cell_id": "00030-a1c88634-cd49-4ed9-83b9-e87ae5b99f67",
    "deepnote_cell_type": "code"
   },
   "source": "print(name_entry.surname)\nprint(name_entry.forename)",
   "outputs": [
    {
     "name": "stdout",
     "output_type": "stream",
     "text": "Bloggs\nJoanna\n"
    }
   ],
   "execution_count": null
  },
  {
   "cell_type": "markdown",
   "source": "Next, we test the class methods:",
   "metadata": {
    "cell_id": "00031-65ef457f-64a4-4e39-905c-f69aef3f29fd",
    "deepnote_cell_type": "markdown"
   }
  },
  {
   "cell_type": "code",
   "metadata": {
    "cell_id": "00032-d489f6b7-3c29-4b02-b91a-42d4234af0cf",
    "deepnote_cell_type": "code"
   },
   "source": "name = name_entry.full_name()\nprint(name)\n\nname = name_entry.surname_forename()\nprint(name)\n\nname = name_entry.surname_forename(\";\")\nprint(name)",
   "outputs": [
    {
     "name": "stdout",
     "output_type": "stream",
     "text": "Joanna Bloggs\nBloggs, Joanna\nBloggs; Joanna\n"
    }
   ],
   "execution_count": null
  },
  {
   "cell_type": "markdown",
   "source": "Dissecting the class, it is declared by\n```python\nclass PersonName:\n```\nWe then have what is known as the *intialiser*:\n```python\n    def __init__(self, surname, forename):\n        self.surname = surname\n        self.forename = forename\n```\nThis is the 'function' that is called when we create an object, i.e. when we use `name_entry = PersonName(\"Bloggs\", \"Joanna\")`. The keyword '`self`' refers to the object itself - it can take time to \ndevelop an understanding of `self`. The initialiser in this case stores the surname and forename of the person (attributes). You can test when the initialiser is called by inserting a print statement.\n\nThis class has two methods:\n```python\n    def full_name(self):\n        \"Return full name (forname surname)\"\n        return self.forename + \" \" + self.surname\n\n    def surname_forename(self, sep=\",\"):\n        \"Return 'surname, forname', with option to specify separator\"\n        return self.surname + sep + \" \" + self.forename\n```\nThese methods are functions that do something with the class data. In this case, from the forename and surname\nthey return the full name of the person, formatted in different ways.",
   "metadata": {
    "cell_id": "00033-3894b1a4-ec01-4b12-8618-bf87b2882601",
    "deepnote_cell_type": "markdown"
   }
  },
  {
   "cell_type": "markdown",
   "source": "# Operators\n\nOperators like `+`, `-`, `*` and `/` are actually functions - in Python they are shorthand for functions with \nthe names `__add__`, `__sub__`, `__mul__` and `__truediv__`, respectively. By\nadding these methods to a class, we can define what the mathematical operators should do.",
   "metadata": {
    "cell_id": "00034-e5302a85-bc83-415f-ad9d-53dc80b7e542",
    "deepnote_cell_type": "markdown"
   }
  },
  {
   "cell_type": "markdown",
   "source": "## Mixed-up maths\n\nSay we want to create our own numbers with their own operations. As a simple (and very silly) example, \nwe decide we want to change notation such that '`*`' means division and '`/`' means multiplication.\n\nTo switch '`*`' and '`/`' for our special numbers, we create a class to represent our special numbers, and\nprovide it with its own `__mul__` and `__truediv__` functions.\nWe will also provide the method `__repr__(self)` - this is called when we use the `print` function. ",
   "metadata": {
    "cell_id": "00035-320fe497-4818-40c3-b1d6-a621de7a1453",
    "deepnote_cell_type": "markdown"
   }
  },
  {
   "cell_type": "code",
   "metadata": {
    "cell_id": "00036-dc0398b0-3077-49a4-9a2c-43a43338629e",
    "deepnote_cell_type": "code"
   },
   "source": "class crazynumber:\n    \"A crazy number class that switches the mutliplcation and division operations\"\n    \n    # Initialiser\n    def __init__(self, x):\n        self.x = x  # This is an attribute\n\n    # Define multiplication (*) (this is a method)\n    def __mul__(self, y):\n        return crazynumber(self.x/y.x)\n\n    # Define the division (/) (this is a method)\n    def __truediv__(self, y):\n        return crazynumber(self.x*y.x)\n    \n    # This is called when we use 'print' (this is a method)\n    def __repr__(self):\n        return str(self.x)  # Convert type to a string and return",
   "outputs": [],
   "execution_count": null
  },
  {
   "cell_type": "markdown",
   "source": "> *Note:* the method names `__mul__`, ` __truediv__`, `__repr__`, etc, should not be called directly. They \n> are mapped by Python to operators (`*` and `/` in the first two cases). The method `__repr__` is called behind the scenes when using `print`.\n\nWe now create two `crazynumber` objects:",
   "metadata": {
    "cell_id": "00037-801e5320-76ec-49fe-96cf-1307a6270ef8",
    "deepnote_cell_type": "markdown"
   }
  },
  {
   "cell_type": "code",
   "metadata": {
    "cell_id": "00038-9fc3ecd4-502e-47ac-9be3-d843640e45bb",
    "deepnote_cell_type": "code"
   },
   "source": "u = crazynumber(10)\nv = crazynumber(2)",
   "outputs": [],
   "execution_count": null
  },
  {
   "cell_type": "markdown",
   "source": "Since we have defined `*` to be division, we expect u\\*v to be equal to 5:",
   "metadata": {
    "cell_id": "00039-6bf902e2-9823-42b9-9d9a-c41e23bded2b",
    "deepnote_cell_type": "markdown"
   }
  },
  {
   "cell_type": "code",
   "metadata": {
    "cell_id": "00040-4ceca431-f53c-4351-8b05-91e8d2ce3fa9",
    "deepnote_cell_type": "code"
   },
   "source": "a = u*v  # This will call '__mul__(self, y)'\nprint(a)  # This will call '__repr__(self)'",
   "outputs": [
    {
     "name": "stdout",
     "output_type": "stream",
     "text": "5.0\n"
    }
   ],
   "execution_count": null
  },
  {
   "cell_type": "markdown",
   "source": "Testing '`/`':",
   "metadata": {
    "cell_id": "00041-d49555d8-b543-4d61-b33a-a8b04b0e3660",
    "deepnote_cell_type": "markdown"
   }
  },
  {
   "cell_type": "code",
   "metadata": {
    "cell_id": "00042-f3677742-97e8-4526-9298-ffab17ffdbae",
    "deepnote_cell_type": "code"
   },
   "source": "b = u/v\nprint(b)",
   "outputs": [
    {
     "name": "stdout",
     "output_type": "stream",
     "text": "20\n"
    }
   ],
   "execution_count": null
  },
  {
   "cell_type": "markdown",
   "source": "By providing methods, we have defined how the mathematical operators should be interpreted.",
   "metadata": {
    "cell_id": "00043-d4d8d7d7-3200-4d77-9b24-ed7e8cd597f2",
    "deepnote_cell_type": "markdown"
   }
  },
  {
   "cell_type": "markdown",
   "source": "## Equality testing\n\nWe have previously used library versions of sorting functions, and seen that they are much faster than our own implementations. What if we have a list of our own objects that we want to sort? For example,\nwe might have a `StudentEntry` class, and then have a list with a `StudentEntry` object for each student.\nThe built-in sort functions cannot know how we want to sort our list.\n\nAnother case is if we have a list of numbers, and we we want to sort according to a custom rule?\n\nThe built-in sort functions do not care about the details of our data. All they rely on\nare *comparisons*, e.g. the `<`, `>`, and `==` operators. If we equip our class with comparison operators,\nwe can use built-in sorting functions.",
   "metadata": {
    "cell_id": "00044-5dfc10d4-4897-4337-b8dd-a44513852307",
    "deepnote_cell_type": "markdown"
   }
  },
  {
   "cell_type": "markdown",
   "source": "### Custom sorting\n\nSay we want to sort a list of numbers such that all even numbers appear before odd numbers, but otherwise the usual ordering rule applies. We do not want to write our own sorting function. We can do this custom sorting by creating our own class for holding a number and equipping it with `<`, `>`, and `==` operators.\nThe functions corresponding to the operators are:\n\n- `__lt__(self, other)` (less than `other`, `<`)\n- `__gt__(self, other)` (greater than `other`, `>`)\n- `__eq__(self, other)` (equal to `other`, `==`)\n\nThe functions return `True` or `False`.",
   "metadata": {
    "cell_id": "00045-4239f2a4-bf48-4286-88f4-29f17b57797b",
    "deepnote_cell_type": "markdown"
   }
  },
  {
   "cell_type": "markdown",
   "source": "Below is a class for storing a number which obeys our custom ordering rules:",
   "metadata": {
    "cell_id": "00046-a4666f47-366e-4b64-84b3-025f78e3bedb",
    "deepnote_cell_type": "markdown"
   }
  },
  {
   "cell_type": "code",
   "metadata": {
    "cell_id": "00047-6694ed6a-bab9-47ca-8934-e8887b289e82",
    "deepnote_cell_type": "code"
   },
   "source": "class MyNumber:\n\n    def __init__(self, x):\n        self.x = x  # Store value (attribute)\n        \n    # Custom '<' operator (method)\n    def __lt__(self, other):\n        if self.x % 2 == 0 and other.x % 2 != 0:  # I am even, other is odd, so I am less than                   \n            return True\n        elif self.x % 2 != 0 and other.x % 2 == 0:  # I am odd, other is even, so I am not less than \n            return False\n        else:\n            return self.x < other.x  # Use usual ordering of numbers\n\n    # Custom '==' operator (method)\n    def __eq__(self, other):\n        return self.x == other.x\n\n    # Custom '>' operator (method)\n    def __gt__(self, other):\n        if self.x % 2 == 0 and other.x % 2 != 0:  # I am even, other is odd, so I am not greater                    \n            return False\n        elif self.x % 2 != 0 and other.x % 2 == 0:  # I am odd, other is even, so I am greater                    \n            return True\n        else:\n            return self.x > other.x  # Use usual ordering of numbers\n\n    # This function is called by Python when we try to print something   \n    def __repr__(self):\n        return str(self.x)",
   "outputs": [],
   "execution_count": null
  },
  {
   "cell_type": "markdown",
   "source": "We can perform some simple tests on the operators (insert print statements into the methods if you want\nto verify which function is called)",
   "metadata": {
    "cell_id": "00048-c6b60d90-b07b-4b8c-9774-425b8325f78c",
    "deepnote_cell_type": "markdown"
   }
  },
  {
   "cell_type": "code",
   "metadata": {
    "cell_id": "00049-79db993c-bc09-4eee-a371-b9b08f1a02ab",
    "deepnote_cell_type": "code"
   },
   "source": "x = MyNumber(4)\ny = MyNumber(3)\nprint(x < y)  # Expect True (since x is even and y is odd)\nprint(y < x)  # Expect False",
   "outputs": [
    {
     "name": "stdout",
     "output_type": "stream",
     "text": "True\nFalse\n"
    }
   ],
   "execution_count": null
  },
  {
   "cell_type": "markdown",
   "source": "We now try applying the built-in list sort function to check that the sorted list obeys our \ncustom sorting rule:",
   "metadata": {
    "cell_id": "00050-9a4b6d49-c7d4-49c4-ba2e-a6eb56b49777",
    "deepnote_cell_type": "markdown"
   }
  },
  {
   "cell_type": "code",
   "metadata": {
    "cell_id": "00051-9c566628-7f70-4dc9-8e66-5ce1cffabe98",
    "deepnote_cell_type": "code"
   },
   "source": "# Create an array of random integers\nx = np.random.randint(0, 200, 10)\n\n# Create a list of 'MyNumber' from x (using list comprehension)\ny = [MyNumber(v) for v in x]\n\n# This is the long-hand for building y\n#y = []\n#for v in x:\n#    y.append(MyNumber(v))\n\n# Use the built-in list sort method to sort the list of 'MyNumber' objects\ny.sort()\nprint(y)",
   "outputs": [
    {
     "name": "stdout",
     "output_type": "stream",
     "text": "[138, 138, 178, 19, 85, 89, 139, 139, 163, 181]\n"
    }
   ],
   "execution_count": null
  },
  {
   "cell_type": "markdown",
   "source": "Without modifying the sort algorithm, we have applied our own ordering. Approaches like this are a feature of \nobject-oriented computing. The sort algorithms sort *objects*, and the objects simply need\nthe comparison operators. The sort algorithms do not need to know the details of the objects.",
   "metadata": {
    "cell_id": "00052-b58964e2-ced1-4345-a41e-c1cfc7e02f0f",
    "deepnote_cell_type": "markdown"
   }
  },
  {
   "cell_type": "markdown",
   "source": "# Using the magic methods\n\nThe special Python methods that begin and end with double underscore (`__`) are *magic* methods. They map to special operators, typically mathematical operators such as `*`, `/`, `<`, `==`, etc.\n\nThey are standard methods in that they can be called directly on an object, but this is not their intended use.\nUse operators instead. Below is an example.",
   "metadata": {
    "cell_id": "00053-1dfefbca-e4c8-4377-bdc4-23d09186bf30",
    "deepnote_cell_type": "markdown"
   }
  },
  {
   "cell_type": "code",
   "metadata": {
    "cell_id": "00054-673ee1e3-dedd-459e-99bb-ad9a2b16dc02",
    "deepnote_cell_type": "code"
   },
   "source": "class SomePair:\n    def __init__(self, x, y):\n        self.x = x  # Store value (attribute)\n        self.y = y  # Store value (attribute)\n\n    # '==' operator (note that it has a return value)\n    def __eq__(self, other):\n        return self.x == other.x and self.y == other.y\n    \na = SomePair(23, 2)\nb = SomePair(23, 4)\n\n# Check for equality using ==\nprint(a == b)\n\n# Check for equality using __eq__ (not recommended)\nprint(a.__eq__(b))",
   "outputs": [
    {
     "name": "stdout",
     "output_type": "stream",
     "text": "False\nFalse\n"
    }
   ],
   "execution_count": null
  },
  {
   "cell_type": "markdown",
   "source": "An object does not need to have all the magic functions defined - just the ones you intend to use. If you try to use\nand operator that is not defined you will get an error.",
   "metadata": {
    "cell_id": "00055-306100d8-c6c0-4ab2-a9e9-13b350f97a8b",
    "deepnote_cell_type": "markdown"
   }
  },
  {
   "cell_type": "markdown",
   "source": "# Exercises\n\nComplete now the [12 Exercises](Exercises/12%20Exercises.ipynb) notebook.",
   "metadata": {
    "cell_id": "00056-c1260188-652a-4840-a421-557af0289b2c",
    "deepnote_cell_type": "markdown"
   }
  },
  {
   "cell_type": "markdown",
   "source": "<a style='text-decoration:none;line-height:16px;display:flex;color:#5B5B62;padding:10px;justify-content:end;' href='https://deepnote.com?utm_source=created-in-deepnote-cell&projectId=b21ecfca-1024-46a4-860c-35a51c91b2b7' target=\"_blank\">\n<img alt='Created in deepnote.com' style='display:inline;max-height:16px;margin:0px;margin-right:7.5px;' src='data:image/svg+xml;base64,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' > </img>\nCreated in <span style='font-weight:600;margin-left:4px;'>Deepnote</span></a>",
   "metadata": {
    "tags": [],
    "created_in_deepnote_cell": true,
    "deepnote_cell_type": "markdown"
   }
  }
 ],
 "nbformat": 4,
 "nbformat_minor": 1,
 "metadata": {
  "kernelspec": {
   "display_name": "Python 3",
   "language": "python",
   "name": "python3"
  },
  "language_info": {
   "codemirror_mode": {
    "name": "ipython",
    "version": 3
   },
   "file_extension": ".py",
   "mimetype": "text/x-python",
   "name": "python",
   "nbconvert_exporter": "python",
   "pygments_lexer": "ipython3",
   "version": "3.6.6"
  },
  "deepnote_notebook_id": "e030ff00-15ad-4507-b694-4829dd7e3f19",
  "deepnote": {},
  "deepnote_execution_queue": []
 }
}