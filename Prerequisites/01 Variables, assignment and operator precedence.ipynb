{
 "cells": [
  {
   "cell_type": "markdown",
   "source": "# Introduction\n\nWe begin with assignment to variables and familiar mathematical operations.\n\n\n## Objectives\n\n- Introduce expressions and basic operators\n- Introduce operator precedence\n- Understand variables and assignment",
   "metadata": {
    "id": "-2G12enao-Ae",
    "colab_type": "text",
    "cell_id": "00000-c5cdc938-544e-44d6-86f4-b84e8c9be092",
    "deepnote_cell_type": "markdown"
   }
  },
  {
   "cell_type": "markdown",
   "source": "# Evaluating expressions: simple operators\n\nWe can use Python like a calculator. Consider the simple expression $3 + 8$. We can evaluate and print this by:",
   "metadata": {
    "id": "cnS5OOAko-Af",
    "colab_type": "text",
    "cell_id": "00001-dd138a12-f351-4efd-8c2e-a432cc30d3d8",
    "deepnote_cell_type": "markdown"
   }
  },
  {
   "cell_type": "code",
   "metadata": {
    "id": "-x0Iv_YZo-Ag",
    "colab_type": "code",
    "colab": {},
    "cell_id": "00002-8a63c1e6-ed09-439f-8fae-765ba131da49",
    "deepnote_to_be_reexecuted": false,
    "source_hash": "36626a46",
    "execution_start": 1626083347573,
    "execution_millis": 10,
    "deepnote_cell_type": "code"
   },
   "source": "3 * 1",
   "outputs": [
    {
     "output_type": "execute_result",
     "execution_count": 23,
     "data": {
      "text/plain": "3"
     },
     "metadata": {}
    }
   ],
   "execution_count": null
  },
  {
   "cell_type": "markdown",
   "source": "Another simple calculation is the gravitational potential $V$ of a body of mass $m$ (point mass) at a distance $r$ from a body of mass $M$, which is given by\n\n$$\nV = \\frac{G M m}{r}\n$$\n\nwhere $G$ is the *gravitational constant*. A good approximation is $G = 6.674 \\times 10^{-11}$ N m$^{2}$ kg$^{-2}$.\n\nFor the case $M = 1.65 \\times 10^{12}$ kg, $m = 6.1 \\times 10^2$ kg and $r = 7.0 \\times 10^3$ m, we can compute the  gravitational potential $V$:",
   "metadata": {
    "id": "MzanC0N2o-Ak",
    "colab_type": "text",
    "cell_id": "00003-063570a1-0411-4f5b-9fb9-dfc23ff20770",
    "deepnote_cell_type": "markdown"
   }
  },
  {
   "cell_type": "code",
   "metadata": {
    "id": "-G6eA8Yqo-Ak",
    "colab_type": "code",
    "colab": {},
    "cell_id": "00004-dcdfca72-30db-4051-a4d5-1e61a5b236e7",
    "deepnote_to_be_reexecuted": false,
    "source_hash": "498ea3d3",
    "execution_start": 1626083375310,
    "execution_millis": 7,
    "deepnote_cell_type": "code"
   },
   "source": "6.674e-11*1.65e12*6.1e2/7.0e3",
   "outputs": [
    {
     "output_type": "execute_result",
     "execution_count": 24,
     "data": {
      "text/plain": "9.59625857142857"
     },
     "metadata": {}
    }
   ],
   "execution_count": null
  },
  {
   "cell_type": "markdown",
   "source": "We have used 'scientific notation' to input the values. For example, the number $8 \\times 10^{-2}$ can be input as `0.08` or `8e-2`. We can easily verify that the two are the same via subtraction:",
   "metadata": {
    "id": "oS2Rv89Ho-An",
    "colab_type": "text",
    "cell_id": "00005-c0205311-0377-4449-98ca-2f8dd3be227c",
    "deepnote_cell_type": "markdown"
   }
  },
  {
   "cell_type": "code",
   "metadata": {
    "id": "goj93cQKo-Ao",
    "colab_type": "code",
    "colab": {},
    "cell_id": "00006-21b53838-f6e6-4357-8d5c-3bb15cb1b65f",
    "deepnote_to_be_reexecuted": false,
    "source_hash": "a80d8e25",
    "execution_start": 1626083231220,
    "deepnote_cell_type": "code"
   },
   "source": "0.08 - 8e-2",
   "outputs": [
    {
     "output_type": "execute_result",
     "execution_count": 3,
     "data": {
      "text/plain": "0.0"
     },
     "metadata": {}
    }
   ],
   "execution_count": null
  },
  {
   "cell_type": "markdown",
   "source": "A common operation is raising a number to a power. To compute $3^4$:",
   "metadata": {
    "id": "1idSRyDlo-Aq",
    "colab_type": "text",
    "cell_id": "00007-f5202da8-e184-41ba-908d-696791719c31",
    "deepnote_cell_type": "markdown"
   }
  },
  {
   "cell_type": "code",
   "metadata": {
    "id": "7nXGf9GMo-Ar",
    "colab_type": "code",
    "colab": {},
    "cell_id": "00008-7a9daa4b-ee3c-4fb0-baa4-2a812d3c1f18",
    "deepnote_to_be_reexecuted": false,
    "source_hash": "b0234904",
    "execution_start": 1626083231263,
    "deepnote_cell_type": "code"
   },
   "source": "3**4",
   "outputs": [
    {
     "output_type": "execute_result",
     "execution_count": 4,
     "data": {
      "text/plain": "81"
     },
     "metadata": {}
    }
   ],
   "execution_count": null
  },
  {
   "cell_type": "markdown",
   "source": "The remainder is computed using the modulus operator '`%`':",
   "metadata": {
    "id": "KQhcBuBdo-At",
    "colab_type": "text",
    "cell_id": "00009-911dbe6f-6258-4333-aa94-cf75c0166e24",
    "deepnote_cell_type": "markdown"
   }
  },
  {
   "cell_type": "code",
   "metadata": {
    "id": "DIkmenn0o-Au",
    "colab_type": "code",
    "colab": {},
    "cell_id": "00010-7e9e1c41-ace8-4434-9eb8-9e9313b97424",
    "deepnote_to_be_reexecuted": false,
    "source_hash": "ed5601fb",
    "execution_start": 1626083231310,
    "deepnote_cell_type": "code"
   },
   "source": "11 % 3",
   "outputs": [
    {
     "output_type": "execute_result",
     "execution_count": 5,
     "data": {
      "text/plain": "2"
     },
     "metadata": {}
    }
   ],
   "execution_count": null
  },
  {
   "cell_type": "markdown",
   "source": "To get the quotient we use 'floor division', which uses the symbol '`//`':",
   "metadata": {
    "id": "kpBY_8MKo-Ay",
    "colab_type": "text",
    "cell_id": "00011-d3c444fc-00bc-4216-b72e-8365a18f542a",
    "deepnote_cell_type": "markdown"
   }
  },
  {
   "cell_type": "code",
   "metadata": {
    "id": "YB5CeMe2o-Ay",
    "colab_type": "code",
    "colab": {},
    "cell_id": "00012-25a11c55-8e62-4cdc-ae63-a279d1973cf2",
    "deepnote_to_be_reexecuted": false,
    "source_hash": "9d1b8a4",
    "execution_start": 1626083231376,
    "deepnote_cell_type": "code"
   },
   "source": "11 // 3",
   "outputs": [
    {
     "output_type": "execute_result",
     "execution_count": 6,
     "data": {
      "text/plain": "3"
     },
     "metadata": {}
    }
   ],
   "execution_count": null
  },
  {
   "cell_type": "markdown",
   "source": "# Operator precedence\n\nOperator precedence refers to the order in which operations are performed, e.g. multiplication before addition.\nIn the preceding examples, there was no ambiguity as to the order of the operations. However, there are common cases where order does matter, and there are two points to consider:\n\n- The expression should be evaluated correctly; and \n- The expression should be simple enough for someone else reading the code to understand what operation is being \n  performed.\n\nIt is possible to write code that is correct, but which might be very difficult for someone else (or you) to check.\n\nMost programming languages, including Python, follow the usual mathematical rules for precedence. We explore this through some examples.",
   "metadata": {
    "id": "ScDVb_Q9o-A1",
    "colab_type": "text",
    "cell_id": "00013-8cd5b5aa-3be7-4720-9e46-8519c4818e51",
    "deepnote_cell_type": "markdown"
   }
  },
  {
   "cell_type": "markdown",
   "source": "Consider the expression $4 \\cdot (7 - 2) = 20$. If we are careless, ",
   "metadata": {
    "id": "F4oKGkcwo-A3",
    "colab_type": "text",
    "cell_id": "00014-321d4828-799d-4337-9e67-4400ffeddeb4",
    "deepnote_cell_type": "markdown"
   }
  },
  {
   "cell_type": "code",
   "metadata": {
    "id": "lbQISnLao-A3",
    "colab_type": "code",
    "colab": {},
    "cell_id": "00015-c56965a7-1816-4537-9607-7ba45f5b8e05",
    "deepnote_to_be_reexecuted": false,
    "source_hash": "b7f8592a",
    "execution_start": 1626083231442,
    "deepnote_cell_type": "code"
   },
   "source": "4*7 - 2",
   "outputs": [
    {
     "output_type": "execute_result",
     "execution_count": 7,
     "data": {
      "text/plain": "26"
     },
     "metadata": {}
    }
   ],
   "execution_count": null
  },
  {
   "cell_type": "markdown",
   "source": "In the above, `4*7` is evaluated first, then `2` is subtracted because multiplication (`*`) comes before subtraction (`-`) in terms of precedence. We can control the order of the operation using brackets, just as we would on paper:",
   "metadata": {
    "id": "bIMhxUaGo-A7",
    "colab_type": "text",
    "cell_id": "00016-528f7f73-d86e-4891-b942-0483d40902a7",
    "deepnote_cell_type": "markdown"
   }
  },
  {
   "cell_type": "code",
   "metadata": {
    "id": "9YEzSEzoo-A7",
    "colab_type": "code",
    "colab": {},
    "cell_id": "00017-fd3785f7-595d-4ac1-8285-d3280cc54a22",
    "deepnote_to_be_reexecuted": false,
    "source_hash": "18048e1d",
    "execution_start": 1626083231496,
    "deepnote_cell_type": "code"
   },
   "source": "4*(7 - 2)",
   "outputs": [
    {
     "output_type": "execute_result",
     "execution_count": 8,
     "data": {
      "text/plain": "20"
     },
     "metadata": {}
    }
   ],
   "execution_count": null
  },
  {
   "cell_type": "markdown",
   "source": "A common example where readability is a concern is \n\n$$\n\\frac{10}{2 \\times 50} = 0.1\n$$\n\nThe code",
   "metadata": {
    "id": "IVbrO-DUo-A9",
    "colab_type": "text",
    "cell_id": "00018-a61d06a2-a45a-47ef-bc6f-97033471bc51",
    "deepnote_cell_type": "markdown"
   }
  },
  {
   "cell_type": "code",
   "metadata": {
    "id": "-q68Oq8mo-A-",
    "colab_type": "code",
    "colab": {},
    "cell_id": "00019-1ef9de4b-2457-439e-8e5e-8a9d79ff81d0",
    "deepnote_to_be_reexecuted": false,
    "source_hash": "14866ac2",
    "execution_start": 1626083231544,
    "deepnote_cell_type": "code"
   },
   "source": "10/2*50",
   "outputs": [
    {
     "output_type": "execute_result",
     "execution_count": 9,
     "data": {
      "text/plain": "250.0"
     },
     "metadata": {}
    }
   ],
   "execution_count": null
  },
  {
   "cell_type": "markdown",
   "source": "is incorrect. The multiplication and division have the same precedence, so the expression is evaluated 'left-to-right'. The correct result is computed from ",
   "metadata": {
    "id": "uhi7twcno-BA",
    "colab_type": "text",
    "cell_id": "00020-4d4757d2-e11e-4ffb-9564-1a971093bc16",
    "deepnote_cell_type": "markdown"
   }
  },
  {
   "cell_type": "code",
   "metadata": {
    "id": "QM_HrbE5o-BA",
    "colab_type": "code",
    "colab": {},
    "cell_id": "00021-ed86871c-a3d6-4fe7-8857-11eab6f1291d",
    "deepnote_to_be_reexecuted": false,
    "source_hash": "d9ee4448",
    "execution_start": 1626083231580,
    "deepnote_cell_type": "code"
   },
   "source": "10/2/50",
   "outputs": [
    {
     "output_type": "execute_result",
     "execution_count": 10,
     "data": {
      "text/plain": "0.1"
     },
     "metadata": {}
    }
   ],
   "execution_count": null
  },
  {
   "cell_type": "markdown",
   "source": "but this is hard to read and could easily lead to errors in a program. I would recommend using brackets to make the order clear:",
   "metadata": {
    "id": "UN7ycB1vo-BD",
    "colab_type": "text",
    "cell_id": "00022-720b4e1c-ea2f-46c9-92da-c81ab8dccdfb",
    "deepnote_cell_type": "markdown"
   }
  },
  {
   "cell_type": "code",
   "metadata": {
    "id": "xqYJ18IHo-BD",
    "colab_type": "code",
    "colab": {},
    "cell_id": "00023-56af4b4d-6fa6-4f93-956e-c90e9f8c2cab",
    "deepnote_to_be_reexecuted": false,
    "source_hash": "84e7a3a",
    "execution_start": 1626083231630,
    "deepnote_cell_type": "code"
   },
   "source": "10/(2*50)",
   "outputs": [
    {
     "output_type": "execute_result",
     "execution_count": 11,
     "data": {
      "text/plain": "0.1"
     },
     "metadata": {}
    }
   ],
   "execution_count": null
  },
  {
   "cell_type": "markdown",
   "source": "Here is an example that computes $2^{3} \\cdot 4 = 32$ which is technically correct but not ideal in terms of readability:",
   "metadata": {
    "id": "lv5q1zAxo-BG",
    "colab_type": "text",
    "cell_id": "00024-45c84232-88bd-4695-8a47-f7bd28199f6b",
    "deepnote_cell_type": "markdown"
   }
  },
  {
   "cell_type": "code",
   "metadata": {
    "id": "mGfj58fTo-BH",
    "colab_type": "code",
    "colab": {},
    "cell_id": "00025-9b50d3d5-489e-4d7c-b611-e73ce78d1f87",
    "deepnote_to_be_reexecuted": false,
    "source_hash": "55ffd5ce",
    "execution_start": 1626083231631,
    "deepnote_cell_type": "code"
   },
   "source": "2**3*4",
   "outputs": [
    {
     "output_type": "execute_result",
     "execution_count": 12,
     "data": {
      "text/plain": "32"
     },
     "metadata": {}
    }
   ],
   "execution_count": null
  },
  {
   "cell_type": "markdown",
   "source": "Better would be:",
   "metadata": {
    "id": "i00NoLQWo-BJ",
    "colab_type": "text",
    "cell_id": "00026-6f7721f5-d558-477b-a268-7a3e0cc38480",
    "deepnote_cell_type": "markdown"
   }
  },
  {
   "cell_type": "code",
   "metadata": {
    "id": "i1JD7WfUo-BK",
    "colab_type": "code",
    "colab": {},
    "cell_id": "00027-f56ff984-6d52-4b83-b622-3e3acab2f5de",
    "deepnote_to_be_reexecuted": false,
    "source_hash": "2b6c967a",
    "execution_start": 1626083231631,
    "deepnote_cell_type": "code"
   },
   "source": "(2**3)*4",
   "outputs": [
    {
     "output_type": "execute_result",
     "execution_count": 13,
     "data": {
      "text/plain": "32"
     },
     "metadata": {}
    }
   ],
   "execution_count": null
  },
  {
   "cell_type": "markdown",
   "source": "# Variables and assignment\n\nThe above code snippets were helpful for doing some arithmetic, but we could easily do the same with a pocket calculator. Also, the snippets are not very helpful if we want to change the value of one of the numbers in an expression, and not very helpful if we wanted to use the value of the expression in a subsequent computation. To improve things, we need *assignment*.\n\nWhen we compute something, we usually want to store the result so that we can use it in subsequent computations. *Variables* are what we use to store something, e.g.:",
   "metadata": {
    "id": "sI7bSOz9o-BM",
    "colab_type": "text",
    "cell_id": "00028-dd4f857f-d08c-4ae2-a84f-52706ac5b7b1",
    "deepnote_cell_type": "markdown"
   }
  },
  {
   "cell_type": "code",
   "metadata": {
    "id": "ZtUv5bPHo-BM",
    "colab_type": "code",
    "colab": {},
    "cell_id": "00029-bcacba3a-357b-4be5-8d0e-2169d9bd351a",
    "deepnote_to_be_reexecuted": false,
    "source_hash": "67063585",
    "execution_start": 1626083231632,
    "deepnote_cell_type": "code"
   },
   "source": "c = 10\nprint(c)",
   "outputs": [
    {
     "name": "stdout",
     "text": "10\n",
     "output_type": "stream"
    }
   ],
   "execution_count": null
  },
  {
   "cell_type": "markdown",
   "source": "Above, the variable `c` is used to 'hold' the value `10`. The function `print` is used to print the value of a variable to the output (more on functions later).\n\nSay we want to compute $c = a + b$, where $a = 2$ and $b = 11$:",
   "metadata": {
    "id": "G95jvGelo-BP",
    "colab_type": "text",
    "cell_id": "00030-bf51d00e-6113-4ec4-91c2-e9524d1115a9",
    "deepnote_cell_type": "markdown"
   }
  },
  {
   "cell_type": "code",
   "metadata": {
    "id": "iPxv0VWKo-BP",
    "colab_type": "code",
    "colab": {},
    "cell_id": "00031-47f768e4-ee68-4957-9c4c-bcd3a9a60306",
    "deepnote_to_be_reexecuted": false,
    "source_hash": "1c5393c7",
    "execution_start": 1626083231633,
    "deepnote_cell_type": "code"
   },
   "source": "a = 2\nb = 11\nc = a + b\nprint(c)",
   "outputs": [
    {
     "name": "stdout",
     "text": "13\n",
     "output_type": "stream"
    }
   ],
   "execution_count": null
  },
  {
   "cell_type": "markdown",
   "source": "What is happening above is that the expression on the right-hand side of the assignment operator '`=`' is evaluated and then stored as the variable on the left-hand side. You can think of the variable as a 'handle' for a value.\nIf we want to change the value of $a$ to $4$ and recompute the sum, we would just replace `a = 2` with `a = 4` and execute the code (try this yourself by running this notebook interactively).\n\nThe above looks much like standard algebra. There are however some subtle differences. Take for example:",
   "metadata": {
    "id": "A6-Dvkgao-BS",
    "colab_type": "text",
    "cell_id": "00032-caeb7077-854f-460c-badb-2097d8aa1961",
    "deepnote_cell_type": "markdown"
   }
  },
  {
   "cell_type": "code",
   "metadata": {
    "id": "hyQ-WKMFo-BS",
    "colab_type": "code",
    "colab": {},
    "cell_id": "00033-d22a1527-865e-4dd3-843d-2da294e41593",
    "deepnote_to_be_reexecuted": false,
    "source_hash": "20bf791b",
    "execution_start": 1626083231653,
    "deepnote_cell_type": "code"
   },
   "source": "a = 2\nb = 11\na = a + b\nprint(a)",
   "outputs": [
    {
     "name": "stdout",
     "text": "13\n",
     "output_type": "stream"
    }
   ],
   "execution_count": null
  },
  {
   "cell_type": "markdown",
   "source": "This is not a valid algebraic statement since '`a`' appears on both sides of '`=`', but it is a very common statement in a computer program. What happens is that the expression on the right-hand side is evaluated (the values assigned to `a` and `b` are summed), and the result is assigned to the left-hand side (to the variable `a`). There is a mathematical notation for this type of assignment:\n\n$$\na \\leftarrow a +b \n$$\n\nwhich says 'sum $a$ and $b$, and copy the result to $a$'. You will see this notation in some books, especially when looking at *algorithms*.",
   "metadata": {
    "id": "PJIhYxklo-BV",
    "colab_type": "text",
    "cell_id": "00034-1af3be1e-4b26-43db-8292-3bd659d21258",
    "deepnote_cell_type": "markdown"
   }
  },
  {
   "cell_type": "markdown",
   "source": "## Shortcuts\n\nAdding or subtracting variables is such a common operation that most languages provides shortcuts. For addition:",
   "metadata": {
    "id": "ClqgzQxbo-BW",
    "colab_type": "text",
    "cell_id": "00035-85796864-ba4b-4ffb-8141-4de002c7ab3e",
    "deepnote_cell_type": "markdown"
   }
  },
  {
   "cell_type": "code",
   "metadata": {
    "id": "014xiBWPo-BW",
    "colab_type": "code",
    "colab": {},
    "cell_id": "00036-e8362c82-ce08-4e2c-aae5-7b1cfb42290b",
    "deepnote_to_be_reexecuted": false,
    "source_hash": "ca2f9290",
    "execution_start": 1626083231654,
    "deepnote_cell_type": "code"
   },
   "source": "# Long-hand addition\na = 1\na = a + 4\nprint(a)\n\n# Short-hand addition\na = 1\na += 4\nprint(a)",
   "outputs": [
    {
     "name": "stdout",
     "text": "5\n5\n",
     "output_type": "stream"
    }
   ],
   "execution_count": null
  },
  {
   "cell_type": "markdown",
   "source": "> In Python, any text following the hash (`#`) symbol is a 'comment'. Comments are not executed by the program; \n> they help us document and explain what our programs do. Use lots of comments in your programs.\n\nFor subtraction:",
   "metadata": {
    "id": "8EJ3q68ro-BY",
    "colab_type": "text",
    "cell_id": "00037-57c4cccd-688d-4741-97c9-2529d9fe4871",
    "deepnote_cell_type": "markdown"
   }
  },
  {
   "cell_type": "code",
   "metadata": {
    "id": "IuI1B7Pfo-BY",
    "colab_type": "code",
    "colab": {},
    "cell_id": "00038-25b7491c-0470-44f9-abb5-90312b2d6180",
    "deepnote_to_be_reexecuted": false,
    "source_hash": "6d3f25ec",
    "execution_start": 1626083231654,
    "deepnote_cell_type": "code"
   },
   "source": "# Long-hand subtraction\na = 1\nb = 4\na = a - b\nprint(a)\n\n# Short-hand subtraction\na = 1\nb = 4\na -= b\nprint(a)",
   "outputs": [
    {
     "name": "stdout",
     "text": "-3\n-3\n",
     "output_type": "stream"
    }
   ],
   "execution_count": null
  },
  {
   "cell_type": "markdown",
   "source": "Analogous assignment operators exist for multiplication and division:",
   "metadata": {
    "id": "GLKYOE-Zo-Ba",
    "colab_type": "text",
    "cell_id": "00039-6a8c7051-13cf-4987-8a73-ce9a03f58db8",
    "deepnote_cell_type": "markdown"
   }
  },
  {
   "cell_type": "code",
   "metadata": {
    "id": "SIZUp3O4o-Bb",
    "colab_type": "code",
    "colab": {},
    "cell_id": "00040-11a29608-c3d1-472a-b746-10225c332543",
    "deepnote_to_be_reexecuted": false,
    "source_hash": "eb8c4985",
    "execution_start": 1626083231655,
    "deepnote_cell_type": "code"
   },
   "source": "# Long-hand multiplication\na = 10\nc = 2\na = c*a\nprint(a)\n\n# Short-hand multiplication\na = 10\nc = 2\na *= c\nprint(a)\n\n# Long-hand division\na = 1\na = a/4\nprint(a)\n\n# Short-hand division\na = 1\na /= 4\nprint(a)",
   "outputs": [
    {
     "name": "stdout",
     "text": "20\n20\n0.25\n0.25\n",
     "output_type": "stream"
    }
   ],
   "execution_count": null
  },
  {
   "cell_type": "markdown",
   "source": "## Naming variables\n\nIt is good practice to use meaningful variable names in a computer program. Say you used  '`x`' for time, and '`t`' for position, you or someone else will almost certainly make errors at some point.\nIf you do not use well considered variable names:\n\n1. You're much more likely to make errors.\n1. When you come back to your program after some time, you will have trouble recalling and understanding \n   what the program does.\n1. It will be difficult for others to understand your program - serious programming is almost always a team effort.\n\nLanguages have rules for what charcters can be used in variable names. As a rough guide, in Python variable names can use letters and digits, but cannot start with a digit.\n\nSometimes for readability it is useful to have variable names that are made up of two words. A convention is\nto separate the words in the variable name using an underscore '`_`'. For example, a good variable name for storing the number of days would be \n```python\nnum_days = 10\n```\nPython is a case-sensitive language, e.g. the variables '`A`' and '`a`' are different. Some languages, such as\nFortran, are case-insensitive.\n\nLanguages have reserved keywords that cannot be used as variable names as they are used for other purposes. The reserved keywords in Python are:",
   "metadata": {
    "id": "vRDIiTm2o-Bd",
    "colab_type": "text",
    "cell_id": "00041-7e6401d0-b43e-442e-acd3-9944ed6e565a",
    "deepnote_cell_type": "markdown"
   }
  },
  {
   "cell_type": "code",
   "metadata": {
    "id": "jVg-CbjOo-Bd",
    "colab_type": "code",
    "colab": {},
    "cell_id": "00042-fe9c95c2-95ee-4c06-9ac2-d6e86a2a8fe6",
    "deepnote_to_be_reexecuted": false,
    "source_hash": "f791f98b",
    "execution_start": 1626083231658,
    "deepnote_cell_type": "code"
   },
   "source": "import keyword\nprint(keyword.kwlist)",
   "outputs": [
    {
     "name": "stdout",
     "text": "['False', 'None', 'True', 'and', 'as', 'assert', 'async', 'await', 'break', 'class', 'continue', 'def', 'del', 'elif', 'else', 'except', 'finally', 'for', 'from', 'global', 'if', 'import', 'in', 'is', 'lambda', 'nonlocal', 'not', 'or', 'pass', 'raise', 'return', 'try', 'while', 'with', 'yield']\n",
     "output_type": "stream"
    }
   ],
   "execution_count": null
  },
  {
   "cell_type": "markdown",
   "source": "If you try to assign something to a reserved keyword, you will get an error.\n\nPython 3 supports Unicode, which allows you to use a very wide range of symbols, including Greek characters:",
   "metadata": {
    "id": "OOKduuJZo-Bf",
    "colab_type": "text",
    "cell_id": "00043-969582a6-c372-486d-925b-c2d996612e90",
    "deepnote_cell_type": "markdown"
   }
  },
  {
   "cell_type": "code",
   "metadata": {
    "id": "fKB-BrSZo-Bg",
    "colab_type": "code",
    "colab": {},
    "cell_id": "00044-8017b391-9ea6-4434-8ef8-6e24079b7bab",
    "deepnote_to_be_reexecuted": false,
    "source_hash": "62be4cad",
    "execution_start": 1626083231661,
    "deepnote_cell_type": "code"
   },
   "source": "θ = 10\nα = 12\nβ = θ + α\nprint(β)",
   "outputs": [
    {
     "name": "stdout",
     "text": "22\n",
     "output_type": "stream"
    }
   ],
   "execution_count": null
  },
  {
   "cell_type": "markdown",
   "source": "Greek symbols and other symbols can be input in a Jupyter notebook by typing the LaTeX command for the symbol and then pressing the `tab` key, e.g. '`\\theta`' followed by pressing the `tab` key.",
   "metadata": {
    "id": "LGYQA_s6o-Bj",
    "colab_type": "text",
    "cell_id": "00045-e5966e94-4c94-4859-af1e-e6cb2d1d51c8",
    "deepnote_cell_type": "markdown"
   }
  },
  {
   "cell_type": "markdown",
   "source": "# Exercises\n\nComplete now the [01 Exercises](Exercises/01%20Exercises.ipynb) notebook.",
   "metadata": {
    "id": "99yo28Gdo-Bj",
    "colab_type": "text",
    "cell_id": "00046-40f13ca1-a1eb-41eb-a577-a26c160aef96",
    "deepnote_cell_type": "markdown"
   }
  },
  {
   "cell_type": "markdown",
   "source": "<a style='text-decoration:none;line-height:16px;display:flex;color:#5B5B62;padding:10px;justify-content:end;' href='https://deepnote.com?utm_source=created-in-deepnote-cell&projectId=b21ecfca-1024-46a4-860c-35a51c91b2b7' target=\"_blank\">\n<img alt='Created in deepnote.com' style='display:inline;max-height:16px;margin:0px;margin-right:7.5px;' src='data:image/svg+xml;base64,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' > </img>\nCreated in <span style='font-weight:600;margin-left:4px;'>Deepnote</span></a>",
   "metadata": {
    "tags": [],
    "created_in_deepnote_cell": true,
    "deepnote_cell_type": "markdown"
   }
  }
 ],
 "nbformat": 4,
 "nbformat_minor": 0,
 "metadata": {
  "colab": {
   "name": "01 Variables, assignment and operator precedence.ipynb",
   "version": "0.3.2",
   "provenance": [],
   "collapsed_sections": []
  },
  "language_info": {
   "codemirror_mode": {
    "name": "ipython",
    "version": 3
   },
   "file_extension": ".py",
   "mimetype": "text/x-python",
   "name": "python",
   "nbconvert_exporter": "python",
   "pygments_lexer": "ipython3",
   "version": "3.6.6"
  },
  "kernelspec": {
   "display_name": "Python 3",
   "language": "python",
   "name": "python3"
  },
  "deepnote_notebook_id": "fe4b03a8-ec29-4005-9e7c-bbfd5dd00c52",
  "deepnote": {},
  "deepnote_execution_queue": []
 }
}