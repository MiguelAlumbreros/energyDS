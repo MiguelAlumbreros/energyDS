{
 "cells": [
  {
   "cell_type": "markdown",
   "source": "# Introduction\n\nIt is bad when a program crashes without an error message. It is even worse when a program used in \nengineering, science or finance computes an erroneous result. A crash without an informative error message causes\nfrustration, and it costs time because we get no information on what went wrong, and this makes it hard to fix. \nAn erroneous result used in an engineering design could risk life.\nWith good software engineering we can mitigate these risks.\n\n\n## Bugs and testing\n\nPrograms have bugs and users make mistakes. It is important to minimise the number of bugs,\nand where possible detect user mistakes. We do this through careful engineering of a program,\nerror checking and extensive (automated) testing. Testing is critical in engineering programs to build confidence that\na program computes the 'right' thing. Good software engineering and thorough testing would have prevented both the Patriot missile and Ariane 5 failures that were discussed in Activity 03.\n\nTesting is not a one-off exercise. As you develop programs, it is good practice to add tests as you go. It is also good to test very small units of a program so that if a test fails you can quickly narrow down the possible causes.\nModern software development uses *continuous integration*, in which a suite of tests is run every time a change is made to a code. This helps catch issues early. It also helps tremendously when more than one person is working on a program. You may add a feature today and test it, but tomorrow your colleague might make a seemingly unrelated change that breaks your feature. Continuous testing helps in this case.\n\n\n## Objectives\n\n- Introduction to raising exceptions\n- Use exception handling\n- Creation of tests",
   "metadata": {
    "cell_id": "00000-83466041-e2c4-42fe-ac94-4dde655b7caf",
    "deepnote_cell_type": "markdown"
   }
  },
  {
   "cell_type": "markdown",
   "source": "# Errors and exceptions\n\nThere are two types of program errors: *syntax errors* and *exceptions*.\n\n\n## Syntax errors\n\nSyntax errors are when the syntax of a program does not conform to the rules of the language. These are (generally) easy to detect because the interpreter/compiler will print an error. You will have seen plenty of syntax error messages by now!\n\n\n## Exceptions\n\nExceptions are when something unexpected or anomalous occurs during the execution of a program. The syntax is correct, but something goes\nwrong while a program is running. Simple examples, where a well-engineered program will *raise an exception*, include:\n\n- Attempting to divide by zero;\n- Receiving negative data when only positive data is permitted, e.g. taking the \n  log of a negative number, or a negative integer for the number students in a class;\n- Unexpected integer overflows; and\n- Attempting to compute the dot product between two vectors of different lengths.\n\nThese are all cases that can be tested in a program. We should check \nfor invalid data and attempts to use our programs beyond the limits of their designs,\nand in these cases raise an exception with an informative message.\n\n\n### USS Yorktown Smart Ship\n\nUSS Yorktown was used for the US Navy Smart Ship program. A computer system was fitted to operate a control \ncentre from the bridge. In 1997, a crew member entered data into the system that led to an attempted division \nby zero. This caused the ship's computer systems and the ship's propulsion systems to shut down.\nThis would have been avoided with good software engineering and exception handling.\nYou can find more at https://en.wikipedia.org/wiki/USS_Yorktown_(CG-48)#Smart_ship_testbed.\n\n<img src=\"https://upload.wikimedia.org/wikipedia/commons/a/a1/USS_Yorktown_%28CG-48%29%3B04014806.jpg\" width=\"400\" />",
   "metadata": {
    "cell_id": "00001-862f7c90-08f9-4329-930a-5d296455c53b",
    "deepnote_cell_type": "markdown"
   }
  },
  {
   "cell_type": "markdown",
   "source": "# Raising exceptions\n\n*Raising an exception* is what happens when we trigger an exception. It is sometimes called *throwing an exception*. Python peforms some checks for us. For example, if we have a list of length 5:\n```python\ncolours = [\"green\", \"blue\", \"yellow\", \"red\", \"orange\"]\n```\nand we attempt to index beyond the end of the list:\n```python\nc = colours[6]\n```\nwe will see the error message:\n```python\n---------------------------------------------------------------------------\nIndexError                                Traceback (most recent call last)\n<ipython-input-26-322e6eedcde5> in <module>()\n      1 colours = [\"green\", \"blue\", \"yellow\", \"red\", \"orange\"]\n----> 2 c = colours[6]\nIndexError: list index out of range\n```",
   "metadata": {
    "cell_id": "00002-8e353635-4b82-44bf-a8f1-82005c78cdd2",
    "deepnote_cell_type": "markdown"
   }
  },
  {
   "cell_type": "markdown",
   "source": "Python can check for some errors, but not all. We need to include checks in our programs to raise exceptions when something unexpected happens or invalid input is received. This reduces the likelihood of our engineering programs computing incorrect results, which could have serious consequences, and it makes it easier to debug programs. \n\nBelow we build on some examples from earlier notebooks to add exception handling.",
   "metadata": {
    "collapsed": true,
    "cell_id": "00003-a06b82f7-eea7-4afb-8ef6-01b092c7af8c",
    "deepnote_cell_type": "markdown"
   }
  },
  {
   "cell_type": "markdown",
   "source": "## Parameter validity checking\n\nIn the first notebook we looked at the gravitational potential $V$ of a body of mass $m$ (point mass) at a distance $r$ from a body of mass $M$:\n\n$$\nV = \\frac{G M m}{r}\n$$\n\nwhere $G$ is the *gravitational constant*. This expression makes sense only for $G, M, m \\ge 0$ and $r > 0$. Implementing computation of the gravitational potential as a function:",
   "metadata": {
    "cell_id": "00004-9854f3d9-09b1-4039-9f12-262c6b268ae3",
    "deepnote_cell_type": "markdown"
   }
  },
  {
   "cell_type": "code",
   "metadata": {
    "cell_id": "00005-66066794-1b92-420a-8d60-d9c01d099da1",
    "deepnote_cell_type": "code"
   },
   "source": "def gravity_potential(G, M, m, r):\n    return G*M*m/r\n    \nV = gravity_potential(6.674e-11, 1.65e12, 6.1e2, 7e3)\nprint(V)",
   "outputs": [
    {
     "name": "stdout",
     "output_type": "stream",
     "text": "9.59625857142857\n"
    }
   ],
   "execution_count": null
  },
  {
   "cell_type": "markdown",
   "source": "A user could easily make a typographical error and make $G$, $M$, or $m$ negative, or we might encounter a case where $r$ becomes zero. In any of these cases, the computed gravitational potential would not be sensible but the above program would return a value and proceed.\n\nRather than return an obviously wrong result, we can guard against easy-to-detect errors by checking the validity of the arguments and raising exceptions in the case of invalid data, e.g.:",
   "metadata": {
    "cell_id": "00006-dde0e4c6-9743-4fb4-9f43-3eeb6ce0c127",
    "deepnote_cell_type": "markdown"
   }
  },
  {
   "cell_type": "code",
   "metadata": {
    "cell_id": "00007-57727777-541a-4f36-ac51-5498d89aa25d",
    "deepnote_cell_type": "code"
   },
   "source": "def gravity_potential(G, M, m, r):\n    if G < 0:\n        raise ValueError(\"Gravitational constant must be greater than or equal to zero\")\n    if M < 0:\n        raise ValueError(\"Mass M must be greater than or equal to zero\")\n    if m < 0:\n        raise ValueError(\"Mass m must be greater than or equal to zero\")\n    if r <= 0:\n        raise ValueError(\"Distance r must be greater than zero\")\n    return G*M*m/r\n\nV = gravity_potential(6.674e-11, 1.65e12, 6.1e2, 7e3)",
   "outputs": [],
   "execution_count": null
  },
  {
   "cell_type": "markdown",
   "source": "Now, if we attempt\n\n```python\nV = gravity_potential(-6.674e-11, 1.65e12, 6.1e2, 7e3)\n```\n\nwe would see:\n\n```python\n---------------------------------------------------------------------------\nValueError                                Traceback (most recent call last)\n<ipython-input-20-ef1cff047ffd> in <module>()\n     10     return G*M*m/r\n     11 \n---> 12 V = gravity_potential(-6.674e-11, 1.65e12, 6.1e2, 7e3)\n\n<ipython-input-20-ef1cff047ffd> in gravity_potential(G, M, m, r)\n      1 def gravity_potential(G, M, m, r):\n      2     if G < 0:\n----> 3         raise ValueError(\"Gravitational constant must be greater than or equal to zero\")\n      4     if M < 0:\n      5         raise ValueError(\"Mass M must be greater than or equal to zero\")\n\n```\n```\nValueError: Gravitational constant must be greater than or equal to zero\n```",
   "metadata": {
    "cell_id": "00008-a9553765-6109-4663-8cb2-7991da345373",
    "deepnote_cell_type": "markdown"
   }
  },
  {
   "cell_type": "markdown",
   "source": "The error is detected and a message is printed that makes clear what the problem is. The message also shows where in the program the exception was raised.\n\nBe liberal with the addition of checks in your programs.",
   "metadata": {
    "cell_id": "00009-ca62f8cb-a3ac-41a1-9146-be2ac704edcd",
    "deepnote_cell_type": "markdown"
   }
  },
  {
   "cell_type": "markdown",
   "source": "### Exception types\n\nAbove we have used the exception type '`ValueError`'. There are multiple built-in exception types (see https://docs.python.org/3/library/exceptions.html), and we can even write our own. Pick the exception type that\nbest describes the type of error encountered. Above, we have used the exception type `ValueError` because it describes what we were checking for. If none of the specific built-in exceptions accurately describe the error, '`RuntimeError`' is often the best choice.",
   "metadata": {
    "cell_id": "00010-1cdebc11-36b6-4d38-ab4b-f3c3e25d636b",
    "deepnote_cell_type": "markdown"
   }
  },
  {
   "cell_type": "markdown",
   "source": "## Averting the Ariane 5 explosion\n\nRecall from Activity 03 that an Ariane 5 rocket exploded shortly after takeoff due to an integer overflow - the navigation software attempted to convert a 64-bit float (it was a velocity component) to a 16-bit integer. The largest value a 16-bit integer can store is 32767, and the velocity of the rocket exceeded 32767.\n\nThe below snippet of code would have raised an informative exception in pre-launch testing, which could then have been easily fixed.",
   "metadata": {
    "cell_id": "00011-07df63e9-f94d-4bf4-a4c9-d3cb8c272fd2",
    "deepnote_cell_type": "markdown"
   }
  },
  {
   "cell_type": "code",
   "metadata": {
    "cell_id": "00012-11e311e9-bcf8-4507-8a57-b2c5681dc110",
    "deepnote_cell_type": "code"
   },
   "source": "import numpy as np\n\ndef cast_velocity(v):\n    \"Cast velocity to 16-bit with checking for overflow\"\n    \n    # Largest number a 16-bit int can store (http://docs.scipy.org/doc/numpy/reference/generated/numpy.iinfo.html)\n    max16_it = np.iinfo(np.int16).max\n\n    # Assign float velocity to 16-bit int if safe, otherwise raise exception\n    if abs(v) <= max16_it:\n         return np.int16(v)\n    else:\n        raise OverflowError(\"Cannot safely cast velocity to 16-bit int.\")\n\n        \n# Cast rocket velocity to 16-bit int. If velocity is greater than 32767 an exception will be raised.\nv = cast_velocity(32767.0)",
   "outputs": [],
   "execution_count": null
  },
  {
   "cell_type": "markdown",
   "source": "Increase the velocity to over 32767 to see what happens.\n\nThis bug should have been detected during pre-launch testing. However, \nunexpected issues could arise during rocket flight and we cannot just shut down the control software. \nThe program needs to attempt to recover the situation.\nNext we look at how to handle problems that arise during execution of a program. ",
   "metadata": {
    "cell_id": "00013-23024470-1a27-4620-bcb1-0fc6dec3e0a7",
    "deepnote_cell_type": "markdown"
   }
  },
  {
   "cell_type": "markdown",
   "source": "# Catching and handling exceptions\n\nWhen an exception is raised, by default a program will exit. However, we do not always want to exit a program\nwhen we encounter an exception. Sometimes we want to 'catch' the exception and do something else. \n\n\n### Exception handling and the USS Yorktown\n\nIn the case of the USS Yorktown, the ship's software should not stop if input data \nleads to a divide-by-zero, nor should it proceed erroneously and without warning.\nThe software needs to 'catch' the divide-by-zero exception, and do something else.\nThis might be reducing propulsion and asking for revised input.\n\nIn Python we catch exceptions with\n```python\ntry:\n    # Attempt to do something here that might raise an exception\nexcept FooError:\n    # If a 'FooError' exception is raised above, do something here. For other exception types\n    # the program will exit (if FooError is left out, any exception will end up here)\n```\nThis is the basic and most common construct. It can be made more elaborate.",
   "metadata": {
    "cell_id": "00014-ea29fc75-aaeb-45c1-a6de-9b8b37cfb7a2",
    "deepnote_cell_type": "markdown"
   }
  },
  {
   "cell_type": "markdown",
   "source": "## Checking interactive user input\n\nSay our program asks the user to enter their age, and they enter an invalid value (negative number, something other than a number, etc). A program should raise an exception when an invalid value is input, but rather than exiting it would be better to ask the user to enter their age again. Here is an example:",
   "metadata": {
    "cell_id": "00015-bcb72449-85c0-430f-af9f-f9bb34b025a0",
    "deepnote_cell_type": "markdown"
   }
  },
  {
   "cell_type": "code",
   "metadata": {
    "cell_id": "00016-b1788a72-545f-4b7d-a6fc-b7d2f0c11625",
    "deepnote_cell_type": "code"
   },
   "source": "def get_user_age():\n    \"Function that asks user for their age. If input is invalid, user is prompted to try again\"\n    try:\n        # Get age from user input - if conversion to int fails Python raises an exception\n        age = int(input('How old are you? '))\n\n        # Conversion to int has been successful, but we need to check that age is positive. Raise\n        # exception if age is less than 0\n        if age < 0:\n            raise ValueError(\"Age must be a positive integer\")\n\n        return age\n    except:\n        # Getting age from user input unsuccessful, so print message\n        print(\"Invalid age entered. Please try again\")\n\n        # Prompt user again to input age\n        return get_user_age()\n\n    \n# Uncomment the below lines to test\n# age = get_user_age()\n# print(age)",
   "outputs": [],
   "execution_count": null
  },
  {
   "cell_type": "markdown",
   "source": "## Example: integer type conversion\n\nBelow is another (contrived) take on the Ariane 5 rocket. Our preference is to cast the velocity \ncomponent (float) to a 16-bit integer, but if the value is too large for a 16-bit integer we want to cast to a 32-bit integer. If the float is too large for a 32-bit integer we want to exit the program with an error message.\n\nWe first provide two functions for converting to a integer: the first to a 16-bit integer and the second to a 32-bit integer: ",
   "metadata": {
    "cell_id": "00017-21e4bc21-bf0d-4051-82f0-db8594045d12",
    "deepnote_cell_type": "markdown"
   }
  },
  {
   "cell_type": "code",
   "metadata": {
    "cell_id": "00018-ba030e76-11ce-463a-afbf-203713fb0df8",
    "deepnote_cell_type": "code"
   },
   "source": "def cast_velocity16(v):\n    \"Convert to a 16-bit int. Raise exception if this will cause an overflow\"\n    if abs(v) <= np.iinfo(np.int16).max:\n         return np.int16(v)\n    else:\n        raise OverflowError(\"Cannot safely cast velocity to 16-bit int.\")\n\n        \ndef cast_velocity32(v):\n    \"Convert to a 32-bit int. Raise exception if this will cause an overflow\"\n    if abs(v) <= np.iinfo(np.int32).max:\n         return np.int32(v)\n    else:\n        raise OverflowError(\"Cannot safely cast velocity to 32-bit int.\")",
   "outputs": [],
   "execution_count": null
  },
  {
   "cell_type": "markdown",
   "source": "We now perform a conversion, trying first to convert to a 16-bit integer, and if that is unsuccessful we attempt\na conversion to a 32-bit integer:",
   "metadata": {
    "cell_id": "00019-6298c16e-9974-4d65-bd5d-924fc0e4e710",
    "deepnote_cell_type": "markdown"
   }
  },
  {
   "cell_type": "code",
   "metadata": {
    "cell_id": "00020-dfbc95aa-84c6-4c8a-9291-c4d389a42d57",
    "deepnote_cell_type": "code"
   },
   "source": "def cast_velocity(v):\n    try:\n        # Try to cast v to a 16-bit int\n        return cast_velocity16(v)\n    except OverflowError:\n        # If cast to 16-bit int failed (and exception raised), try casting to a 32-bit int\n        try:\n            return cast_velocity32(v)\n        except OverflowError:\n            # If cast to 32-bit int failed, raise exception\n            raise RuntimeError(\"Could not safely cast velocity to an available int type.\")\n\n# Velocity to cast (too large for a 16-bit int)\nv_int = cast_velocity(42767.0)            \nprint(v_int)\nprint(type(v_int))\n\n# Velocity to cast (small enough for a 16-bit int)\nv_int = cast_velocity(3210.0)            \nprint(v_int)\nprint(type(v_int))",
   "outputs": [
    {
     "name": "stdout",
     "output_type": "stream",
     "text": "42767\n<class 'numpy.int32'>\n3210\n<class 'numpy.int16'>\n"
    }
   ],
   "execution_count": null
  },
  {
   "cell_type": "markdown",
   "source": "# Testing\n\nTesting is a critical part of software engineering for enhancing program quality, and for building the\nconfidence we\nand others will have in a program. Testing is not only performed when developing a new program. Programs should\ncome\nwith a suite of tests that can be run regularly. This helps detect errors that might inadvertently creep into a program. For large projects, these tests might be run nightly or even every time a change is made to a program (the latter is known as *continuous integration*).\nAny program used for engineering analysis and design should have an \nextensive suite of tests.\nIt would be negligent to use a program in real-life engineering analysis that is not covered by extensive testing.\n\nWhen testing a program, we should test for both valid and invalid input data. For the valid cases the\ncomputed result should be checked against a known correct solution. For the invalid data cases, tests should check that an exception is raised. We will consider the former, and address the latter in an optional section.\n\nIdeally, tests for a large program should have different levels of granularity. Some tests should test small blocks (individual functions), ideally in isolation from other parts of a program. The cause of unexpected behaviour in a large program can then be pin-pointed quickly. Higher level tests should test a program as a whole, and would typically represent user cases.\n\nThe programming examples in the preceding notebooks included little or no checking/testing. From now, we want\nto add more checks to our programs. For an example of correctness testing, let's\nconsider the Fibonacci series from Activity 04. The function for computing Fibonacci numbers is:",
   "metadata": {
    "cell_id": "00021-fb793033-734f-4878-99e1-c6427ae791d7",
    "deepnote_cell_type": "markdown"
   }
  },
  {
   "cell_type": "code",
   "metadata": {
    "cell_id": "00022-6ff50efb-24f6-4977-9353-99f4c947d7eb",
    "deepnote_cell_type": "code"
   },
   "source": "def f(n): \n    \"Compute the nth Fibonacci number using recursion\"\n    if n == 0:\n        return 0  # This doesn't call f, so it breaks out of the recursion loop\n    elif n == 1:\n        return 1  # This doesn't call f, so it breaks out of the recursion loop\n    else:\n        return f(n - 1) + f(n - 2)  # This calls f for n-1 and n-2 (recursion), and returns the sum ",
   "outputs": [],
   "execution_count": null
  },
  {
   "cell_type": "markdown",
   "source": "To build our confidence that the function is correct, we can check a number of computed terms in the series against\nknown results. A helpful tool for this is the `assert` keyword:",
   "metadata": {
    "cell_id": "00023-c79dc422-1d57-4fd8-8681-4d4adbe62bac",
    "deepnote_cell_type": "markdown"
   }
  },
  {
   "cell_type": "code",
   "metadata": {
    "cell_id": "00024-0c679c69-54ee-44ac-bac8-25a9f0353c54",
    "deepnote_cell_type": "code"
   },
   "source": "assert f(0) == 0\nassert f(1) == 1\nassert f(2) == 1\nassert f(3) == 2\nassert f(10) == 55\nassert f(15) == 610",
   "outputs": [],
   "execution_count": null
  },
  {
   "cell_type": "markdown",
   "source": "If all the assertions are true, there should be no output. Try changing one of the checks to trigger an assertion failure.",
   "metadata": {
    "cell_id": "00025-25fda85b-2941-4d8b-adfb-eefd723f903a",
    "deepnote_cell_type": "markdown"
   }
  },
  {
   "cell_type": "markdown",
   "source": "## Test frameworks (optional)\n\nTesting is so important to good software engineering that there are many tools to help us to write and run tests. A popular and powerful testing library for Python is `pytest` (http://doc.pytest.org/en/latest/). Before using it, \nwe need to check that it is installed. We try to import it, and if that fails we install it:",
   "metadata": {
    "cell_id": "00026-fe45ee6c-807b-461d-a269-617d20c8c803",
    "deepnote_cell_type": "markdown"
   }
  },
  {
   "cell_type": "code",
   "metadata": {
    "cell_id": "00027-83e77f68-0798-4b31-8a7b-5843cfca1fd5",
    "deepnote_cell_type": "code"
   },
   "source": "try: \n    import pytest\nexcept:\n    try:\n        !{sys.executable} -m pip -q install pytest\n        import pytest\n    except ImportError:\n        !{sys.executable} -m pip -q --user install pytest",
   "outputs": [],
   "execution_count": null
  },
  {
   "cell_type": "markdown",
   "source": "We have seen some simple testing of the Fibonacci series that checks for correctness. For the gravity potential problem at the start of the notebook we could also add some checks for correctness. But, we also would like \nan automated process to test that an exception *is* raised when user input is invalid.",
   "metadata": {
    "cell_id": "00028-ebe7bc91-bd92-45d0-a04a-f8258686bec1",
    "deepnote_cell_type": "markdown"
   }
  },
  {
   "cell_type": "markdown",
   "source": "Consider the gravity potential problem from the start of the notebook:",
   "metadata": {
    "cell_id": "00029-bd11acff-4657-4019-a837-d2554a6770b4",
    "deepnote_cell_type": "markdown"
   }
  },
  {
   "cell_type": "code",
   "metadata": {
    "cell_id": "00030-2cc05de2-3ec4-427b-845b-57e8c3942a31",
    "deepnote_cell_type": "code"
   },
   "source": "def gravity_potential(G, M, m, r):\n    if G < 0:\n        raise ValueError(\"Gravitational constant must be greater than or equal to zero\")\n    if M < 0:\n        raise ValueError(\"Mass M must be greater than or equal to zero\")\n    if m < 0:\n        raise ValueError(\"Mass m must be greater than or equal to zero\")\n    if r <= 0:\n        raise ValueError(\"Distance r must be greater than zero\")\n    return G*M*m/r",
   "outputs": [],
   "execution_count": null
  },
  {
   "cell_type": "markdown",
   "source": "We now would like to add some tests that check that invalid data raises an exception, i.e. we want to exit with an error if the function `gravity_potential` *does not* raise an exception. We can do this with PyTest:",
   "metadata": {
    "cell_id": "00031-72b9a621-6fbc-4e4c-906a-c74c73ed9333",
    "deepnote_cell_type": "markdown"
   }
  },
  {
   "cell_type": "code",
   "metadata": {
    "cell_id": "00032-5c22dae8-d599-4864-89b1-c483562327e0",
    "deepnote_cell_type": "code"
   },
   "source": "# Use PyTest to check that ValueError is raised for invalid input data\nimport pytest\n\n# Check that G < zero raises a ValueError\nwith pytest.raises(ValueError):\n    gravity_potential(-6.674e-11, 1.65e12, 6.1e2, 7e3)\n\n# Check that M < zero raises a ValueError\nwith pytest.raises(ValueError):\n    gravity_potential(6.674e-11, -1.65e12, 6.1e2, 7e3)\n\n# Check that m < zero raises a ValueError\nwith pytest.raises(ValueError):\n    gravity_potential(6.674e-11, 1.65e12, -6.1e2, 7e3)\n\n# Check that r < zero raises a ValueError\nwith pytest.raises(ValueError):\n    gravity_potential(6.674e-11, 1.65e12, 6.1e2, -7e3)\n\n# Check that r=0 raises a ValueError\nwith pytest.raises(ValueError):\n    gravity_potential(6.674e-11, 1.65e12, 6.1e2, 0.0)",
   "outputs": [],
   "execution_count": null
  },
  {
   "cell_type": "markdown",
   "source": "We should test that our programs compute correct results, and we should check that exceptions are indeed raised\nfor invalid input data.",
   "metadata": {
    "cell_id": "00033-50b3a03a-672f-4d4f-82b3-3fc7d84bf6bd",
    "deepnote_cell_type": "markdown"
   }
  },
  {
   "cell_type": "markdown",
   "source": "# Exercises\n\nComplete now the [09 Exercises](Exercises/09%20Exercises.ipynb) notebook.",
   "metadata": {
    "cell_id": "00034-7b51ebc7-0764-4810-ba3a-e122062f4fbb",
    "deepnote_cell_type": "markdown"
   }
  },
  {
   "cell_type": "markdown",
   "source": "<a style='text-decoration:none;line-height:16px;display:flex;color:#5B5B62;padding:10px;justify-content:end;' href='https://deepnote.com?utm_source=created-in-deepnote-cell&projectId=b21ecfca-1024-46a4-860c-35a51c91b2b7' target=\"_blank\">\n<img alt='Created in deepnote.com' style='display:inline;max-height:16px;margin:0px;margin-right:7.5px;' src='data:image/svg+xml;base64,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' > </img>\nCreated in <span style='font-weight:600;margin-left:4px;'>Deepnote</span></a>",
   "metadata": {
    "tags": [],
    "created_in_deepnote_cell": true,
    "deepnote_cell_type": "markdown"
   }
  }
 ],
 "nbformat": 4,
 "nbformat_minor": 1,
 "metadata": {
  "kernelspec": {
   "display_name": "Python 3",
   "language": "python",
   "name": "python3"
  },
  "language_info": {
   "codemirror_mode": {
    "name": "ipython",
    "version": 3
   },
   "file_extension": ".py",
   "mimetype": "text/x-python",
   "name": "python",
   "nbconvert_exporter": "python",
   "pygments_lexer": "ipython3",
   "version": "3.6.6"
  },
  "deepnote_notebook_id": "a5b64383-dfde-4918-9068-124aa07297ae",
  "deepnote": {},
  "deepnote_execution_queue": []
 }
}