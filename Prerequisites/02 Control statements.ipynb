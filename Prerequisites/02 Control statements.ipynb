{
 "cells": [
  {
   "cell_type": "markdown",
   "source": "# Introduction\n\nControl statements allow a program to change what it does depending on input or other data.\nTypical flows in a computer program involve structures like:\n\n- if 'X' do task 'A', else if 'Y' do task 'B'\n- perform the task 'A' 'N' times\n- perform the task 'B' until 'X' is true\n\nThese flows are implemented using what are called 'control statements'. They are also known as branching - the path a program follows depends on the input data. Control statements are a major part of all non-trivial computer programs.\n\n\n## Objectives\n\n- Introduce Boolean types\n- Introduce comparison operators\n- Learn to use control statements\n\n\n## Example of a control statement in pseudo code\n\nAn electric window opener, attached to a rain sensor and a temperature \ngauge, might be controlled by the following program:\n\n    if raining:  # If raining, close the window\n        close_window()\n    else if temperature > 26:  # If the temperature is over 26 deg, open window\n        open_window()\n    else if temperature < 19:  # If the temperature is below 19 deg, close window\n        close_window()\n    else:  # Otherwise, do nothing and leave window as it is\n        pass\n\nIt is easy to imagine the program being made more sophisticated using the time of the day and the day of the week, or being attached to a smoke alarm.\n\nWe will look at different types of control statements, but first we need to introduce boolean types and comparison operators.",
   "metadata": {
    "cell_id": "00000-65dd2f9d-b284-41af-8e35-6854e2e762c6",
    "deepnote_cell_type": "markdown"
   }
  },
  {
   "cell_type": "markdown",
   "source": "# Booleans\n\nBefore starting with control statements, we need to introduce booleans.\nA Boolean is a type of variable that can take on one of two values - true or false.",
   "metadata": {
    "cell_id": "00001-a9099508-b71a-4efc-ab04-703ee58e21a7",
    "deepnote_cell_type": "markdown"
   }
  },
  {
   "cell_type": "code",
   "metadata": {
    "ExecuteTime": {
     "end_time": "2020-07-08T09:30:54.355301Z",
     "start_time": "2020-07-08T09:30:54.351645Z"
    },
    "cell_id": "00002-e6651630-b424-4855-949e-62518f24bb81",
    "deepnote_cell_type": "code"
   },
   "source": "a = True\nprint(a)\n\na = False\nprint(a)",
   "execution_count": null,
   "outputs": []
  },
  {
   "cell_type": "markdown",
   "source": "Booleans are used extensively in control statements.",
   "metadata": {
    "cell_id": "00003-88c08628-6349-43f6-8fb8-f92eb08cf37f",
    "deepnote_cell_type": "markdown"
   }
  },
  {
   "cell_type": "markdown",
   "source": "# Comparison operators\n\nWe often want to check in a program how two variables are related to each other, for example if one is less than the other, or if two variables are equal. We do this with 'comparison operators', such as `<`, `<=`, `>`, `>=` and `==`. \n\nBelow is an example checking if a number `a` is less than or greater than a number `b`:",
   "metadata": {
    "cell_id": "00004-a82d92da-9289-473a-84bb-f885aba89ad8",
    "deepnote_cell_type": "markdown"
   }
  },
  {
   "cell_type": "code",
   "metadata": {
    "cell_id": "00005-2e5440a0-da7e-463f-b2ff-0ff189e1b143",
    "deepnote_cell_type": "code"
   },
   "source": "a = 10.0\nb = 9.9\nprint(a < b)\nprint(a > b)",
   "execution_count": null,
   "outputs": [
    {
     "name": "stdout",
     "output_type": "stream",
     "text": "False\nTrue\n"
    }
   ]
  },
  {
   "cell_type": "markdown",
   "source": "Equality is checked using '`==`', and '`!=`' is used to test if two variables are not equal. Below are some examples to read through.",
   "metadata": {
    "cell_id": "00006-8f8c51d5-0807-4d66-9fe2-a407f0bb414d",
    "deepnote_cell_type": "markdown"
   }
  },
  {
   "cell_type": "code",
   "metadata": {
    "cell_id": "00007-b91f9005-800a-4c45-9ba9-4fe3a3076404",
    "deepnote_cell_type": "code"
   },
   "source": "a = 14\nb = -9\nc = 14\n\n# Check if a is equal to b \nprint(\"Is a equal to b?\")\nprint(a == b)\n\n# Check if a is equal to c \nprint(\"Is a equal to c?\")\nprint(a == c)\n\n# Check if a is not equal to c \nprint(\"Is a not equal to c?\")\nprint(a != c)\n\n# Check if a is less than or equal to b \nprint(\"Is a less than or equal to b?\")\nprint(a <= b)\n\n# Check if a is less than or equal to c \nprint(\"Is a less than or equal to c?\")\nprint(a <= c)\n\n# Check if two colours are the same\ncolour0 = 'blue'\ncolour1 = 'green'\nprint(\"Is colour0 the same as colour1?\")\nprint(colour0 == colour1)",
   "execution_count": null,
   "outputs": [
    {
     "name": "stdout",
     "output_type": "stream",
     "text": "Is a equal to b?\nFalse\nIs a equal to c?\nTrue\nIs a not equal to c?\nFalse\nIs a less than or equal to b?\nFalse\nIs a less than or equal to c?\nTrue\nIs colour0 the same as colour1?\nFalse\n"
    }
   ]
  },
  {
   "cell_type": "markdown",
   "source": "# Boolean operators\n\nIn the above we have only used one comparison at a time. Boolean operators allow us to 'string' together multiple checks using the operators '`and`', '`or`' and '`not`'.\nThe operators '`and`' and '`or`' take a boolean on either side, and the code\n```python\nX and Y\n```\nwill evaluate to `True` if `X` *and* `Y` are both true, and otherwise will evaluate to `False`. The code\n```python\nX or Y\n```\nwill evaluate to `True` if `X` *or* `Y` is true, and otherwise will evaluate to `False`.\nHere are some examples:",
   "metadata": {
    "cell_id": "00008-5ed13600-c760-4066-84ad-caf4f7d8ea9d",
    "deepnote_cell_type": "markdown"
   }
  },
  {
   "cell_type": "code",
   "metadata": {
    "cell_id": "00009-50d69d3c-ee02-45be-9a72-eb4a3106ce46",
    "deepnote_cell_type": "code"
   },
   "source": "# If 10 < 9 (false) and 15 < 20 (true) -> false\nprint(10 < 9 and 15 < 20)",
   "execution_count": null,
   "outputs": [
    {
     "name": "stdout",
     "output_type": "stream",
     "text": "False\n"
    }
   ]
  },
  {
   "cell_type": "code",
   "metadata": {
    "cell_id": "00010-9b681c1b-db61-4a29-a321-df6ec3bc28a9",
    "deepnote_cell_type": "code"
   },
   "source": "# Check if 10 < 9 (false) or 15 < 20 (true) -> true\nprint(10 < 9 or 15 < 20)",
   "execution_count": null,
   "outputs": [
    {
     "name": "stdout",
     "output_type": "stream",
     "text": "True\n"
    }
   ]
  },
  {
   "cell_type": "markdown",
   "source": "The meaning of the statement becomes clear if read it left-to-right.\n\nBelow is a very simple example that, given the current time of day reports \n\n- true if it is lunch time; and \n- true if we are outside of working hours.",
   "metadata": {
    "cell_id": "00011-790f2f5b-6afa-4c59-9db6-08483eb7b1e5",
    "deepnote_cell_type": "markdown"
   }
  },
  {
   "cell_type": "code",
   "metadata": {
    "cell_id": "00012-d8f064a2-4e62-4491-acef-9d5d68981cf2",
    "deepnote_cell_type": "code"
   },
   "source": "time = 13.05  # The current time\n\nwork_starts = 8.00  # Start of working day \nwork_ends = 17.00  # End of working day\n\nlunch_starts = 13.00  # Start of lunchtime\nlunch_ends = 14.00  # End of lunchtime\n\n# Check if it's lunch time\nprint(\"Is it lunchtime?\")\nis_lunchtime = time >= lunch_starts and time < lunch_ends\nprint(is_lunchtime)\n\n# Check if we're outside of working hours\nprint(\"Are we outside of working hours?\")\noutside_working_hours = time < work_starts or time >= work_ends\nprint(outside_working_hours)",
   "execution_count": null,
   "outputs": [
    {
     "name": "stdout",
     "output_type": "stream",
     "text": "Is it lunchtime?\nTrue\nAre we outside of working hours?\nFalse\n"
    }
   ]
  },
  {
   "cell_type": "markdown",
   "source": "Note that the comparison operators (`>=`, `<=`, `<` and `>`) are evaluated before the Boolean operators (`and`, `or`).\n\nIn Python, the '`not`' operator negates a statement, e.g.:",
   "metadata": {
    "cell_id": "00013-be8b9f7d-eb79-40bf-ba18-102f7c1f710d",
    "deepnote_cell_type": "markdown"
   }
  },
  {
   "cell_type": "code",
   "metadata": {
    "cell_id": "00014-20cf1a39-a313-47d1-9821-ecea94c82699",
    "deepnote_cell_type": "code"
   },
   "source": "# Is 12 *not* less than 7 -> true\na = 12\nb = 7\nprint(not a < b)",
   "execution_count": null,
   "outputs": [
    {
     "name": "stdout",
     "output_type": "stream",
     "text": "True\n"
    }
   ]
  },
  {
   "cell_type": "markdown",
   "source": "Only use '`not`' when it makes a program easy to read. For example,",
   "metadata": {
    "cell_id": "00015-5b5b3f35-e66b-4d23-b2e9-37ec175e9121",
    "deepnote_cell_type": "markdown"
   }
  },
  {
   "cell_type": "code",
   "metadata": {
    "cell_id": "00016-9c9dc57c-a89a-43d7-8533-84406d42f64e",
    "deepnote_cell_type": "code"
   },
   "source": "print(not 12 == 7)",
   "execution_count": null,
   "outputs": [
    {
     "name": "stdout",
     "output_type": "stream",
     "text": "True\n"
    }
   ]
  },
  {
   "cell_type": "markdown",
   "source": "is not good practice. Better is",
   "metadata": {
    "cell_id": "00017-e2256e5d-0fcc-4729-9e2a-74cfff584959",
    "deepnote_cell_type": "markdown"
   }
  },
  {
   "cell_type": "code",
   "metadata": {
    "cell_id": "00018-1aee45f0-9adc-4ff8-8aa3-0d285f1a6269",
    "deepnote_cell_type": "code"
   },
   "source": "print(12 != 7)",
   "execution_count": null,
   "outputs": [
    {
     "name": "stdout",
     "output_type": "stream",
     "text": "True\n"
    }
   ]
  },
  {
   "cell_type": "markdown",
   "source": "Here is a double-negation, which is very cryptic (and poor programming):",
   "metadata": {
    "cell_id": "00019-2afac6d7-0c99-489f-a006-4085a604ca6f",
    "deepnote_cell_type": "markdown"
   }
  },
  {
   "cell_type": "code",
   "metadata": {
    "cell_id": "00020-8b0c2463-2c65-4ff7-9c89-6b30dcb57078",
    "deepnote_cell_type": "code"
   },
   "source": "print(not not 12 == 7)",
   "execution_count": null,
   "outputs": [
    {
     "name": "stdout",
     "output_type": "stream",
     "text": "False\n"
    }
   ]
  },
  {
   "cell_type": "markdown",
   "source": "## Multiple comparison operators\n\nThe examples so far use at most two comparison operators. In some cases we might want to perform more checks. We can control the order of evaluation using brackets. For example, if we want to check if a number is strictly between 100 and 200, or between 10 and 50:",
   "metadata": {
    "cell_id": "00021-e7872a3a-c1c4-4451-b8e4-2b1399a20fc8",
    "deepnote_cell_type": "markdown"
   }
  },
  {
   "cell_type": "code",
   "metadata": {
    "cell_id": "00022-8de852d2-5974-471c-92ea-98b77d0f3435",
    "deepnote_cell_type": "code"
   },
   "source": "value = 150.5\nprint ((value > 100 and value < 200) or (value > 10 and value < 50)) ",
   "execution_count": null,
   "outputs": [
    {
     "name": "stdout",
     "output_type": "stream",
     "text": "True\n"
    }
   ]
  },
  {
   "cell_type": "markdown",
   "source": "The two checks in the brackets are evaluated first (each evaluates to `True` or `False`), and then the '`or`' checks if one of the two is true.",
   "metadata": {
    "cell_id": "00023-69475cee-f3c5-4cc0-915f-4894787636f5",
    "deepnote_cell_type": "markdown"
   }
  },
  {
   "cell_type": "markdown",
   "source": "# Control statements\n\nNow that we've covered comparison, we are ready to look at control statements. These are a central part of computing. Here is a control statement in pseudo code:\n\n    if A is true\n        Perform task X (only)\n    else if B is true\n        Perform task Y (only)\n    else   \n        Perform task Z (only)\n\nThe above is an 'if' statement. Another type of control statement is\n\n    do task X 10 times\n    \nWe make this concrete below with some examples.",
   "metadata": {
    "cell_id": "00024-01bbc3b1-d841-4180-8c86-473c1b3ef684",
    "deepnote_cell_type": "markdown"
   }
  },
  {
   "cell_type": "markdown",
   "source": "## `if` statements\n\nBelow is a simple example that demonstrates the Python syntax for an if-else control statement. \nFor a value assigned to a variable `x`, the program prints a message and modifies `x`.\nThe message and the modification of `x` depend on the initial value of `x`:",
   "metadata": {
    "cell_id": "00025-9d919b0c-546c-4937-8766-23c8b8e06adc",
    "deepnote_cell_type": "markdown"
   }
  },
  {
   "cell_type": "code",
   "metadata": {
    "cell_id": "00026-490f2bb6-800b-4658-b991-4452a48621a6",
    "deepnote_cell_type": "code"
   },
   "source": "x = -10.0  # Initial x value\n\nif x > 0.0:  \n    print('Initial x is greater than zero')\n    x -= 20.0\nelif x < 0.0:  \n    print('Initial x is less than zero')\n    x += 21.0\nelse: \n    print('Initial x is not less than zero and not greater than zero, therefore it must be zero')\n    x *= 2.5\n\n# Print new x value\nprint(\"New x value:\", x)",
   "execution_count": null,
   "outputs": [
    {
     "name": "stdout",
     "output_type": "stream",
     "text": "Initial x is less than zero\nNew x value: 11.0\n"
    }
   ]
  },
  {
   "cell_type": "markdown",
   "source": "Try changing the value of `x` and re-running the cell to see the different paths the code can follow.",
   "metadata": {
    "cell_id": "00027-b8073a4e-8480-45bb-87ab-4a89a0b1904a",
    "deepnote_cell_type": "markdown"
   }
  },
  {
   "cell_type": "markdown",
   "source": "We now dissect the control statement example. The control statement begins with an `if`, followed by the expression to check, followed by '`:`'\n```python\nif x > 0.0:\n```\nBelow that is a block of code, indented by four spaces, that is executed if the check (`x > 0.0`) is true:\n````python\n    print('Initial x is greater than zero')\n    x -= 20.0\n````\nand in which case the program will then move beyond the end of the control statement. If the check evaluates to false, then the `elif` (else if) check  \n```python\nelif x < 0.0:\n    print('Initial x is less than zero')\n    x += 21.0\n```      \nis performed, and if true '`print('x is less than zero')`' is executed and the control block is exited. The code following the `else` statement is executed\n```python\nelse:\n    print('Initial x is not less than zero and not greater than zero, therefore it must be zero')\n```\nif none of the preceding statements were true.",
   "metadata": {
    "cell_id": "00028-e862a70f-0d6b-43b4-8dcc-d887fb5261ff",
    "deepnote_cell_type": "markdown"
   }
  },
  {
   "cell_type": "markdown",
   "source": "### Example: currency trading\n\nA currency trader makes a commission by selling US dollars to travellers at a rate below the market rate. The mark-down multiplier they apply is show below.  \n\n|Amount (GBP)                                |reduction on market rate |\n|--------------------------------------------|-------------------------|\n| Less than $100$                            | 0.9                     |   \n| From $100$ and less than $1,000$           | 0.925                   |   \n| From $1,000$ and less than $10,000$        | 0.95                    |   \n| From $10,000$ and less than $100,000$      | 0.97                    |   \n| Over $100,000$                             | 0.98                    |   \n\nThe currency trader incurs extra costs for handling cash over electronic transactions, so for cash transactions they retain an extra 10% after conversion. \n\nAt the current market rate 1 GBP is 1.33153 USD.",
   "metadata": {
    "cell_id": "00029-ac5c6a54-24e5-4f7a-91af-14b0dd88eea8",
    "deepnote_cell_type": "markdown"
   }
  },
  {
   "cell_type": "code",
   "metadata": {
    "cell_id": "00030-86227148-d027-4e21-b27b-d8be2400929d",
    "deepnote_cell_type": "code"
   },
   "source": "GBP  = 15600.05  # The amount in GBP to be changed into USD\ncash = True  # True if selling cash, otherwise False\n\nmarket_rate = 1.33153  # 1 GBP is worth this many dollars at the market rate\n\n# Apply the appropriate reduction depending on the amount being sold\nif GBP < 100:\n    USD = 0.9*market_rate*GBP\nelif GBP < 1000:  \n    USD = 0.925*market_rate*GBP\nelif GBP < 10000:\n    USD = 0.95*market_rate*GBP\nelif GBP < 100000:\n    USD = 0.97*market_rate*GBP\nelse:\n    USD = 0.98*market_rate*GBP\n\nif cash:\n    USD *= 0.9  # recall that this is shorthand for USD = 0.9*USD \n    \nprint(\"Amount in GBP sold:\", GBP)\nprint(\"Amount in USD purchased:\", USD)\nprint(\"Effective rate:\", USD/GBP)",
   "execution_count": null,
   "outputs": [
    {
     "name": "stdout",
     "output_type": "stream",
     "text": "Amount in GBP sold: 15600.05\nAmount in USD purchased: 18133.898885284503\nEffective rate: 1.1624256900000003\n"
    }
   ]
  },
  {
   "cell_type": "markdown",
   "source": "## `for` loops\n\nA `for` loop is a block that repeats an operation a specified number of times (loops). The concept is rich, but we start with the simplest and most common usage:",
   "metadata": {
    "cell_id": "00031-df803e45-72a7-41b9-b88f-9926617d3432",
    "deepnote_cell_type": "markdown"
   }
  },
  {
   "cell_type": "code",
   "metadata": {
    "cell_id": "00032-aa6fc5e2-6cb7-4c9e-b76e-1e2090862291",
    "deepnote_cell_type": "code"
   },
   "source": "for n in range(4):\n    print(\"----\")\n    print(n, n**2)",
   "execution_count": null,
   "outputs": [
    {
     "name": "stdout",
     "output_type": "stream",
     "text": "----\n0 0\n----\n1 1\n----\n2 4\n----\n3 9\n"
    }
   ]
  },
  {
   "cell_type": "markdown",
   "source": "The above executes 4 loops, over the integers 0, 1, 2 and 3. The statement \n```python\nfor n in range(4):\n```\nsays that we want to loop over four integers, and by default it starts from zero\n(see https://docs.python.org/3/library/stdtypes.html#range for the documentation for `range`). \nThe value of `n` is incremented in each loop iteration. The code we want to execute inside the loop is indented four spaces: \n```python\n    print(\"----\")\n    print(n, n**2)\n```\nThe loop starts from zero and does not include 4 - `range(4)` is a shortcut for `range(0, 4)`. We can change the starting value if we need to:",
   "metadata": {
    "cell_id": "00033-0422e9aa-9e08-4ace-a5c0-e87dbc13d823",
    "deepnote_cell_type": "markdown"
   }
  },
  {
   "cell_type": "code",
   "metadata": {
    "cell_id": "00034-e6fd15ca-58b0-494e-b0a4-ead3ef1ea69e",
    "deepnote_cell_type": "code"
   },
   "source": "for i in range(-2, 3):\n    print(i)",
   "execution_count": null,
   "outputs": [
    {
     "name": "stdout",
     "output_type": "stream",
     "text": "-2\n-1\n0\n1\n2\n"
    }
   ]
  },
  {
   "cell_type": "markdown",
   "source": "The loop starts at -2, but does not include 3. If we want to step by three rather than one:",
   "metadata": {
    "cell_id": "00035-494c4299-dd37-4103-8c75-671c75ed9f20",
    "deepnote_cell_type": "markdown"
   }
  },
  {
   "cell_type": "code",
   "metadata": {
    "cell_id": "00036-c53f06b2-29cc-452d-aff2-78c84c9f01aa",
    "deepnote_cell_type": "code"
   },
   "source": "for n in range(0, 10, 3):\n    print(n)",
   "execution_count": null,
   "outputs": [
    {
     "name": "stdout",
     "output_type": "stream",
     "text": "0\n3\n6\n9\n"
    }
   ]
  },
  {
   "cell_type": "markdown",
   "source": "### Example: conversion table from degrees Fahrenheit to degrees Celsius\n\nWe can use a `for` loop to create a conversion table from degrees Fahrenheit ($T_F$) to degrees Celsius ($T_c$), using the formula:\n\n$$\nT_c = 5(T_f - 32)/9\n$$\n\nComputing the conversion from -100 F to 200 F in steps of 20 F (not including 200 F):",
   "metadata": {
    "cell_id": "00037-34aa0bf8-1ba0-4e9a-a97e-1c80409972a3",
    "deepnote_cell_type": "markdown"
   }
  },
  {
   "cell_type": "code",
   "metadata": {
    "cell_id": "00038-174d1e2a-110e-4a93-966a-14ca2c00ffd8",
    "deepnote_cell_type": "code"
   },
   "source": "print(\"T_f,    T_c\")\nfor Tf in range(-100, 200, 20):\n    print(Tf, (Tf - 32)*5/9)",
   "execution_count": null,
   "outputs": [
    {
     "name": "stdout",
     "output_type": "stream",
     "text": "T_f,    T_c\n-100 -73.33333333333333\n-80 -62.22222222222222\n-60 -51.111111111111114\n-40 -40.0\n-20 -28.88888888888889\n0 -17.77777777777778\n20 -6.666666666666667\n40 4.444444444444445\n60 15.555555555555555\n80 26.666666666666668\n100 37.77777777777778\n120 48.888888888888886\n140 60.0\n160 71.11111111111111\n180 82.22222222222223\n"
    }
   ]
  },
  {
   "cell_type": "markdown",
   "source": "## `while` loops\n\nWe have seen that `for` loops perform an operation a specified number of times. A `while` loop performs a task while a specified statement is true. For example:",
   "metadata": {
    "cell_id": "00039-d87eac9e-c4ab-4e41-b0a1-8a0a151defa4",
    "deepnote_cell_type": "markdown"
   }
  },
  {
   "cell_type": "code",
   "metadata": {
    "cell_id": "00040-5d657ec1-5136-49d1-a095-64a71b779e69",
    "deepnote_cell_type": "code"
   },
   "source": "print(\"Start of while statement\")\nx = -2\nwhile x < 5:\n    print(x)\n    x += 1  # Increment x\nprint(\"End of while statement\")",
   "execution_count": null,
   "outputs": [
    {
     "name": "stdout",
     "output_type": "stream",
     "text": "Start of while statement\n-2\n-1\n0\n1\n2\n3\n4\nEnd of while statement\n"
    }
   ]
  },
  {
   "cell_type": "markdown",
   "source": "The body of the `while` statement, which follows the `while` statement and is indented four spaces, is executed and repeated until `x < 5` is `False`.\n\nIt can be quite easy to crash your computer using a `while` loop. E.g.,\n```python\nx = -2\nwhile x < 5:\n    print(x)\n```\nwill continue indefinitely since `x < 5 == False`  will never be satisfied. This is known as an *infinite loop*. It is usually good practice to add checks to avoid getting stuck in an infinite loop, e.g. specify a maximum number of permitted loops.\n\nThe above example could have been implemented using a `for` loop and a `for` loop would be preferred in this case. The following is an example of where a `while` is appropriate:",
   "metadata": {
    "cell_id": "00041-c6c15ea8-63e1-406e-a18c-6b50ea3f94a8",
    "deepnote_cell_type": "markdown"
   }
  },
  {
   "cell_type": "code",
   "metadata": {
    "cell_id": "00042-a56e6aba-0e96-47c8-84be-34b53c479c96",
    "deepnote_cell_type": "code"
   },
   "source": "x = 0.9\nwhile x > 0.001:\n    # Square x (we could have used the shorthand x *= x)\n    x = x*x\n    print(x)",
   "execution_count": null,
   "outputs": [
    {
     "name": "stdout",
     "output_type": "stream",
     "text": "0.81\n0.6561000000000001\n0.43046721000000016\n0.18530201888518424\n0.03433683820292518\n0.001179018457773862\n1.390084523771456e-06\n"
    }
   ]
  },
  {
   "cell_type": "markdown",
   "source": "since we might not know beforehand how many steps are required before `x > 0.001` becomes false. \n\nIf $x \\ge 1$, the above would lead to an infinite loop. To make a code robust, it would be good practice to check that $x < 1$ before entering the `while` loop.",
   "metadata": {
    "cell_id": "00043-5d4a6dbd-55ee-425c-bd0f-7a73476b7803",
    "deepnote_cell_type": "markdown"
   }
  },
  {
   "cell_type": "markdown",
   "source": "## `break`, `continue` and `pass`\n\n### `break`\n\nSometimes we want to break out of a `for` or `while` loop. Maybe in a `for` loop we can check if something is true, and then exit the loop prematurely, e.g.",
   "metadata": {
    "cell_id": "00044-21eb40d1-6c96-4141-883b-3dd639e2f30c",
    "deepnote_cell_type": "markdown"
   }
  },
  {
   "cell_type": "code",
   "metadata": {
    "cell_id": "00045-32717856-50bc-434a-a41f-6dbefd42e1dc",
    "deepnote_cell_type": "code"
   },
   "source": "for x in range(10):\n    print(x)\n    if x == 5:\n        print(\"Time to break out\")\n        break",
   "execution_count": null,
   "outputs": [
    {
     "name": "stdout",
     "output_type": "stream",
     "text": "0\n1\n2\n3\n4\n5\nTime to break out\n"
    }
   ]
  },
  {
   "cell_type": "markdown",
   "source": "Below is a program for finding prime numbers that uses a `break` statement. Take some time to understand what it does. It might be helpful to add some print statements to understand the flow.",
   "metadata": {
    "cell_id": "00046-6f17c63c-0e84-465b-b325-cbff30ac9383",
    "deepnote_cell_type": "markdown"
   }
  },
  {
   "cell_type": "code",
   "metadata": {
    "cell_id": "00047-5f74de18-5acb-4c75-a448-392214130233",
    "deepnote_cell_type": "code"
   },
   "source": "N = 50  # Check numbers up 50 for primes (excludes 50)\n\n# Loop over all numbers from 2 to 50 (excluding 50)\nfor n in range(2, N):\n\n    # Assume that n is prime\n    n_is_prime = True\n\n    # Check if n can be divided by m, where m ranges from 2 to n (excluding n)\n    for m in range(2, n):\n         if n % m == 0:  # This is true if the remainder for n/m is equal to zero\n            # We've found that n is divisable by m, so it can't be a prime number. \n            # No need to check for more values of m, so set n_is_prime = False and\n            # exit the 'm' loop.\n            n_is_prime = False\n            break\n\n    #  If n is prime, print to screen        \n    if n_is_prime:\n        print(n)",
   "execution_count": null,
   "outputs": [
    {
     "name": "stdout",
     "output_type": "stream",
     "text": "2\n3\n5\n7\n11\n13\n17\n19\n23\n29\n31\n37\n41\n43\n47\n"
    }
   ]
  },
  {
   "cell_type": "markdown",
   "source": "Try modifying the code for finding prime numbers such that it finds the first $N$ prime numbers (since you do not know how many numbers you need to check to find $N$ primes, use a `while` loop).",
   "metadata": {
    "cell_id": "00048-bf98ad66-69af-482d-b995-e439644533d8",
    "deepnote_cell_type": "markdown"
   }
  },
  {
   "cell_type": "markdown",
   "source": "### `continue`\n\nSometimes we want to go prematurely to the next iteration in a loop, skipping the remaining code.\nFor this we use `continue`. Here is an example that loops over 20 numbers (0 to 19) and checks if the number is divisible by 4. If it is divisible by 4 it prints a message before moving to the next value. If it is not divisible by 4 it advances the loop. ",
   "metadata": {
    "cell_id": "00049-8f2e3234-8d71-4076-ba03-fa730a139a8a",
    "deepnote_cell_type": "markdown"
   }
  },
  {
   "cell_type": "code",
   "metadata": {
    "cell_id": "00050-a3fb2885-7ba9-4d47-8e94-c07732a1882c",
    "deepnote_cell_type": "code"
   },
   "source": "for j in range(20):\n    if j % 4 == 0:  # Check remained of j/4\n        continue  # jump to next iteration over j\n    print(\"Number is not divisible by 4:\", j)",
   "execution_count": null,
   "outputs": [
    {
     "name": "stdout",
     "output_type": "stream",
     "text": "Number is not divisible by 4: 1\nNumber is not divisible by 4: 2\nNumber is not divisible by 4: 3\nNumber is not divisible by 4: 5\nNumber is not divisible by 4: 6\nNumber is not divisible by 4: 7\nNumber is not divisible by 4: 9\nNumber is not divisible by 4: 10\nNumber is not divisible by 4: 11\nNumber is not divisible by 4: 13\nNumber is not divisible by 4: 14\nNumber is not divisible by 4: 15\nNumber is not divisible by 4: 17\nNumber is not divisible by 4: 18\nNumber is not divisible by 4: 19\n"
    }
   ]
  },
  {
   "cell_type": "markdown",
   "source": "### `pass`\n\nSometimes we need a statement that does nothing. It is often used during development where syntactically some code is required but which you have not yet written. For example:  ",
   "metadata": {
    "cell_id": "00051-a945d282-2254-4e43-a0d9-4e617ab31ec1",
    "deepnote_cell_type": "markdown"
   }
  },
  {
   "cell_type": "code",
   "metadata": {
    "cell_id": "00052-b278752a-33db-45b5-a32b-e714f3c8aa0f",
    "deepnote_cell_type": "code"
   },
   "source": "for x in range(10):\n    if x < 5:\n        # TODO: implement handling of x < 5 when other cases finished \n        pass\n    elif x < 9:\n        print(x*x)\n    else:\n        print(x)",
   "execution_count": null,
   "outputs": [
    {
     "name": "stdout",
     "output_type": "stream",
     "text": "25\n36\n49\n64\n9\n"
    }
   ]
  },
  {
   "cell_type": "markdown",
   "source": "It can also help readability. Maybe in a program there is nothing to be done, but someone reading the code might reasonably think that something should be done and suspect a bug. Using `pass` says to the reader that it was the programmer's intention that nothing should be done.",
   "metadata": {
    "cell_id": "00053-b89947da-11e9-4837-a948-c52460235e16",
    "deepnote_cell_type": "markdown"
   }
  },
  {
   "cell_type": "markdown",
   "source": "## Infinite loops: cause and guarding against\n\nA common bug, especially when using `while` statements, is the [infinite loop](https://en.wikipedia.org/wiki/Infinite_loop). This is when a loop is entered but never terminates (exits).\nInfinite loops can render a system unresponsive, sometimes requiring a shutdown to restore function.\n\nIt is good practice, espeically when learning, to add guards against infinite loops. For example, ",
   "metadata": {
    "cell_id": "00054-eccd5b10-8797-4437-80e1-3ff82b3d031d",
    "deepnote_cell_type": "markdown"
   }
  },
  {
   "cell_type": "code",
   "metadata": {
    "cell_id": "00055-9bb27461-d734-4ccd-b5a9-e9b31cdd341a",
    "deepnote_cell_type": "code"
   },
   "source": "x = 0.0\n\ncounter = 0\nwhile x < 0.05:\n\n    # Guard against infinite loop\n    counter += 1\n    if counter > 2000:\n        print(\"Loop count exceeded 2000. Exiting\")\n        break",
   "execution_count": null,
   "outputs": [
    {
     "name": "stdout",
     "output_type": "stream",
     "text": "Loop count exceeded 2000. Exiting\n"
    }
   ]
  },
  {
   "cell_type": "markdown",
   "source": "# Exercises\n\nComplete now the [02 Exercises](Exercises/02%20Exercises.ipynb) notebook.",
   "metadata": {
    "cell_id": "00056-c25579fc-e47b-45ef-8bbb-bc18a9d3f85e",
    "deepnote_cell_type": "markdown"
   }
  },
  {
   "cell_type": "markdown",
   "source": "<a style='text-decoration:none;line-height:16px;display:flex;color:#5B5B62;padding:10px;justify-content:end;' href='https://deepnote.com?utm_source=created-in-deepnote-cell&projectId=b21ecfca-1024-46a4-860c-35a51c91b2b7' target=\"_blank\">\n<img alt='Created in deepnote.com' style='display:inline;max-height:16px;margin:0px;margin-right:7.5px;' src='data:image/svg+xml;base64,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' > </img>\nCreated in <span style='font-weight:600;margin-left:4px;'>Deepnote</span></a>",
   "metadata": {
    "tags": [],
    "created_in_deepnote_cell": true,
    "deepnote_cell_type": "markdown"
   }
  }
 ],
 "nbformat": 4,
 "nbformat_minor": 1,
 "metadata": {
  "hide_input": false,
  "kernelspec": {
   "display_name": "Python 3",
   "language": "python",
   "name": "python3"
  },
  "language_info": {
   "codemirror_mode": {
    "name": "ipython",
    "version": 3
   },
   "file_extension": ".py",
   "mimetype": "text/x-python",
   "name": "python",
   "nbconvert_exporter": "python",
   "pygments_lexer": "ipython3",
   "version": "3.7.3"
  },
  "toc": {
   "base_numbering": 1,
   "nav_menu": {},
   "number_sections": true,
   "sideBar": true,
   "skip_h1_title": false,
   "title_cell": "Table of Contents",
   "title_sidebar": "Contents",
   "toc_cell": false,
   "toc_position": {},
   "toc_section_display": true,
   "toc_window_display": false
  },
  "varInspector": {
   "cols": {
    "lenName": 16,
    "lenType": 16,
    "lenVar": 40
   },
   "kernels_config": {
    "python": {
     "delete_cmd_postfix": "",
     "delete_cmd_prefix": "del ",
     "library": "var_list.py",
     "varRefreshCmd": "print(var_dic_list())"
    },
    "r": {
     "delete_cmd_postfix": ") ",
     "delete_cmd_prefix": "rm(",
     "library": "var_list.r",
     "varRefreshCmd": "cat(var_dic_list()) "
    }
   },
   "types_to_exclude": [
    "module",
    "function",
    "builtin_function_or_method",
    "instance",
    "_Feature"
   ],
   "window_display": false
  },
  "deepnote_notebook_id": "91a4d3fa-12b5-44a0-8afd-e6cbb81f7d29",
  "deepnote": {},
  "deepnote_execution_queue": []
 }
}