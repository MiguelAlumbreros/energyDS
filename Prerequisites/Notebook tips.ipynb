{
 "cells": [
  {
   "cell_type": "markdown",
   "source": "# IPython magic commands\n\nWhen using Python with Jupyter, we are actually using the *IPython kernel* to run code. [IPython](https://ipython.org/) has what are known as *magic commands* that help us interact with Jupyter. \nMagic commands are prefixed by '`%`'.\nMagic commands are *not* part of the Python language; they are specific to IPython. In a plain Python program, magic commands would not be recognised and would lead to an error.\n\nWe summarise below the magic functions that are used in the Activity notebooks.\nThe full documentation for IPython magic commands is available [here](http://ipython.readthedocs.io/en/stable/interactive/magics.html).",
   "metadata": {
    "id": "y1vo6uLEo30O",
    "colab_type": "text",
    "cell_id": "00000-d0815a78-5c69-4b7a-9923-078925c9abbb",
    "deepnote_cell_type": "markdown"
   }
  },
  {
   "cell_type": "markdown",
   "source": "## Matplotlib\n\nTo display plots inline in a notebook, we use the magic command:",
   "metadata": {
    "id": "OvyX_bW4o30P",
    "colab_type": "text",
    "cell_id": "00001-505b7172-1f58-4c13-a8e0-f3a582453e77",
    "deepnote_cell_type": "markdown"
   }
  },
  {
   "cell_type": "code",
   "metadata": {
    "id": "DGPqN4i8o30P",
    "colab_type": "code",
    "colab": {},
    "cell_id": "00002-940aa28c-9f1b-4034-9d91-aa02c931eb7d",
    "deepnote_cell_type": "code"
   },
   "source": "%matplotlib inline",
   "execution_count": 0,
   "outputs": []
  },
  {
   "cell_type": "markdown",
   "source": "The full documentation for Matplotlib magic functions is [here](http://ipython.readthedocs.io/en/stable/interactive/magics.html#magic-matplotlib).",
   "metadata": {
    "id": "TBW3iFjEo30S",
    "colab_type": "text",
    "cell_id": "00003-fc5e6205-4763-40ee-ab28-d4bcfc363ae9",
    "deepnote_cell_type": "markdown"
   }
  },
  {
   "cell_type": "markdown",
   "source": "## Timing programs\n\nWe can use magic commands to time our programs. This is particularly useful when investigating the performance of\ndifferent implementations.",
   "metadata": {
    "id": "26YehuY2o30S",
    "colab_type": "text",
    "cell_id": "00004-6e978798-5a85-467f-ba9d-e67bc9fa29fa",
    "deepnote_cell_type": "markdown"
   }
  },
  {
   "cell_type": "markdown",
   "source": "### Simple timing\n\nThe magic command [`%time`](http://ipython.readthedocs.io/en/stable/interactive/magics.html?highlight=timeit#magic-time) is used to time parts of a program.\nWe just add\n```python\n%time\n```\nin front of the function call we wish to time, and the time taken will be displayed. Below is an example:",
   "metadata": {
    "id": "EKTuhOGGo30T",
    "colab_type": "text",
    "cell_id": "00005-f4e3102b-e0e8-4af2-b6fc-11f5c6bcfcfd",
    "deepnote_cell_type": "markdown"
   }
  },
  {
   "cell_type": "code",
   "metadata": {
    "id": "QKgw6neXo30T",
    "colab_type": "code",
    "colab": {},
    "outputId": "6936bf03-a680-456c-821b-9b3b0087600e",
    "cell_id": "00006-50a9ae41-22b3-4195-820f-3f9a1ea9fede",
    "deepnote_cell_type": "code"
   },
   "source": "def f(x):\n    s = \"\"\n    for i in range(x):\n        s += \" \"\n    return s\n\n%time p = f(100000)",
   "execution_count": 0,
   "outputs": [
    {
     "output_type": "stream",
     "text": "CPU times: user 7.99 ms, sys: 0 ns, total: 7.99 ms\nWall time: 7.94 ms\n",
     "name": "stdout"
    }
   ]
  },
  {
   "cell_type": "markdown",
   "source": "Usually we are interested in the '`Wall time`', which is the real (wall clock) time elapsed \nto run the function.",
   "metadata": {
    "id": "wvfd2NnKo30X",
    "colab_type": "text",
    "cell_id": "00007-82467010-afb7-4b88-a447-12394fcc0af1",
    "deepnote_cell_type": "markdown"
   }
  },
  {
   "cell_type": "markdown",
   "source": "### Detailed timing\n\nSometimes we want to get the time as a variable, for example to produce a plot of time versus problem size.\nIn this case we use [`%timeit`](http://ipython.readthedocs.io/en/stable/interactive/magics.html?highlight=timeit#magic-timeit).\n\n`%timeit` has a number of options, including:\n\n- `-o`: Return a `TimeitResult` variable that we can query\n- `-q`: Quiet (supress output) \n- `-n`: Number of times to run code\n- `-r`: How many times to run `timeit`\n\nThe return value can be queried in several ways. Below are examples.",
   "metadata": {
    "id": "bynWlhJGo30X",
    "colab_type": "text",
    "cell_id": "00008-10d490d7-189e-484f-a72e-c903f5bfebe9",
    "deepnote_cell_type": "markdown"
   }
  },
  {
   "cell_type": "code",
   "metadata": {
    "id": "y41kXa8bo30Y",
    "colab_type": "code",
    "colab": {},
    "outputId": "cb5cb715-37b1-4136-d215-611ba04b2b1b",
    "cell_id": "00009-ea75ab67-987e-422f-8fcd-3cf466febbc5",
    "deepnote_cell_type": "code"
   },
   "source": "# Problem size to test\nN = 1000000\n\n# Time the command 'p = f(N)' once, suppressing output (-q).\nt = %timeit -o -n1 -r1 -q p = f(N)\n\n# Get best (only) timing\nprint(\"Best time: {}\".format(t.best))\n\n# Time the command 'p = f(N)' twice, calling three times each (not quiet)\nt = %timeit -o -n3 -r2 p = f(N)\n\n# Get results of all runs as a list (length will be 2 since we used -r2)\nprint(\"Time for all runs: {}\".format(t.all_runs))\n\n# Best time will be 1/3 (since we used of lowest value in t.all_runs\nprint(\"Time for best runs: {}\".format(t.best))",
   "execution_count": 0,
   "outputs": [
    {
     "output_type": "stream",
     "text": "Best time: 0.05672190198674798\n58.4 ms ± 869 µs per loop (mean ± std. dev. of 2 runs, 3 loops each)\nTime for all runs: [0.17265189500176348, 0.17786804199567996]\nTime for best runs: 0.05755063166725449\n",
     "name": "stdout"
    }
   ]
  },
  {
   "cell_type": "markdown",
   "source": "<a style='text-decoration:none;line-height:16px;display:flex;color:#5B5B62;padding:10px;justify-content:end;' href='https://deepnote.com?utm_source=created-in-deepnote-cell&projectId=b21ecfca-1024-46a4-860c-35a51c91b2b7' target=\"_blank\">\n<img alt='Created in deepnote.com' style='display:inline;max-height:16px;margin:0px;margin-right:7.5px;' src='data:image/svg+xml;base64,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' > </img>\nCreated in <span style='font-weight:600;margin-left:4px;'>Deepnote</span></a>",
   "metadata": {
    "tags": [],
    "created_in_deepnote_cell": true,
    "deepnote_cell_type": "markdown"
   }
  }
 ],
 "nbformat": 4,
 "nbformat_minor": 0,
 "metadata": {
  "colab": {
   "name": "Notebook tips.ipynb",
   "version": "0.3.2",
   "provenance": []
  },
  "language_info": {
   "codemirror_mode": {
    "name": "ipython",
    "version": 3
   },
   "file_extension": ".py",
   "mimetype": "text/x-python",
   "name": "python",
   "nbconvert_exporter": "python",
   "pygments_lexer": "ipython3",
   "version": "3.6.6"
  },
  "kernelspec": {
   "display_name": "Python 3",
   "language": "python",
   "name": "python3"
  },
  "deepnote_notebook_id": "b9bc3ac4-a552-4cbb-ba3c-c578880b73f8",
  "deepnote": {},
  "deepnote_execution_queue": []
 }
}