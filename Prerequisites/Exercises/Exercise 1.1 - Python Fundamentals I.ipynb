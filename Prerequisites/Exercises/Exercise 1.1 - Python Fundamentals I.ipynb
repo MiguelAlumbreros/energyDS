{
 "cells": [
  {
   "cell_type": "markdown",
   "source": "# Data Science for Construction, Architecture and Engineering\n\n### Week 1 -  Introduction and Python Fundamentals\n\n### Exercise Set 1.1 - Python Fundamentals - Variables and Operators\n\nThis set of exercises is the first of two sets for Week 1. These exercises are designed to give you some hands on experience in trying out the concepts from the first set of videos for this week.\n\nThere is an introduction video available to explain the process of using this exercise video.\n\nThese exercises were adapted from the Introduction to Python resources from [Garth Wells](https://notebooks.azure.com/garth-wells/projects/CUED-IA-Computing-Michaelmas).",
   "metadata": {
    "id": "6ja6S3Po4C9I",
    "colab_type": "text",
    "cell_id": "00000-6d6993e0-3e33-4727-8b6f-37659518cb53",
    "deepnote_cell_type": "markdown"
   }
  },
  {
   "cell_type": "markdown",
   "source": "# Exercise Set 01.1\n\nThere are two exercises in this set, each one focused on a generic exercise in the use of Python variables and operators.\n\n### Please note that you will need to use the resultant output from Exercise 01.1.2 for the Quiz 1.1.",
   "metadata": {
    "id": "4rVMs5nJMWRF",
    "colab_type": "text",
    "cell_id": "00001-0590e6b3-04fe-4a6f-9975-0af4ac8ef38a",
    "deepnote_cell_type": "markdown"
   }
  },
  {
   "cell_type": "markdown",
   "source": "## Exercise 01.1.1 - Simple Python Operations\n\nDegrees Fahrenheit ($T_F$) are converted to degrees Celsius ($T_c$) using the formula:\n\n$$\nT_c = 5(T_f - 32)/9\n$$\n\nWrite a program to convert 78 degrees Fahrenheit to degrees Celsius and print the result.\nWrite your program such that you can easily change the temperature in Fahrenheit that you are converting from.\n\nUse the variable name `T_c` for the temperature in degrees Celsius.",
   "metadata": {
    "id": "MeE39azs4oct",
    "colab_type": "text",
    "cell_id": "00002-91baa887-a511-4e56-891b-6ae6810589a2",
    "deepnote_cell_type": "markdown"
   }
  },
  {
   "cell_type": "code",
   "metadata": {
    "id": "C6bGD7LT43dc",
    "colab_type": "code",
    "colab": {},
    "cell_id": "00003-c6c4abf6-0edb-4e93-8e3a-30bf110a7800",
    "deepnote_cell_type": "code"
   },
   "source": "T_f = 78\n# YOUR CODE HERE",
   "execution_count": 0,
   "outputs": []
  },
  {
   "cell_type": "markdown",
   "source": "## Exercise 01.1.2 - Python Slightly More Complex Operations\n\nYou have been tasked with developing a mortgage affordability test tool. A component is to compute the monthly interest payments for a range of scenarios.\n\nInterest on a particular mortgage is charged at fixed rate above the Bank of England (BoE) 'official Bank Rate'. Interest is computed per annum, and interest payments spread equally over each month of the year.\nWrite a program that computes the interest payable each month, with variables for:\n\n1. Loan principal (amount borrowed)\n1. Official Bank Rate (percentage, expressed per annum)\n1. Rate over the official Bank Rate (percentage, expressed per annum)\n\nTest your program with a loan principal of £150,000, BoE rate of 0.5%, and rate over the \nBoE rate of 1.49%. Use the variable name `interest` for the monthly interest amount.",
   "metadata": {
    "id": "8Q-zAbOIUE-1",
    "colab_type": "text",
    "cell_id": "00004-c9a671aa-fcf0-4fe7-b160-d2feba5073a7",
    "deepnote_cell_type": "markdown"
   }
  },
  {
   "cell_type": "code",
   "metadata": {
    "id": "i3D1ElSYXKMf",
    "colab_type": "code",
    "colab": {},
    "cell_id": "00005-1498ecac-6a6b-46fd-b206-e0f0590ddc69",
    "deepnote_cell_type": "code"
   },
   "source": "# Assign data to variables\nprincipal = 150000\n\n# YOUR CODE HERE",
   "execution_count": 0,
   "outputs": []
  },
  {
   "cell_type": "markdown",
   "source": "### Please write down the number that you calculated for the variable `interest` and input in Quiz 1.1",
   "metadata": {
    "id": "dM8DLp5J6GuM",
    "colab_type": "text",
    "cell_id": "00006-c9c48c2a-fe5e-438d-9494-930e7c2e5db6",
    "deepnote_cell_type": "markdown"
   }
  },
  {
   "cell_type": "markdown",
   "source": "## Exercise 01.1.3 - Python Order or Operations and Comparators\n\nCompare the computed values of \n\n$$ \nd_0 = a \\cdot b + a  \\cdot  c\n$$\n\nand \n\n$$ \nd_1 = a \\cdot (b + c)\n$$\n\nwhen $a = 100$, $b = 0.1$ and $c = 0.2$. Store $d_{0}$ in the variable `d0` and $d_{1}$ in the variable `d1`.\n\n\nTry checking for equality, e.g. `print(d0 == d1)`. ",
   "metadata": {
    "colab_type": "text",
    "id": "mydd0-8fFeIV",
    "cell_id": "00007-c99980db-0623-49ba-a0c7-c9ec31c26cb1",
    "deepnote_cell_type": "markdown"
   }
  },
  {
   "cell_type": "code",
   "metadata": {
    "id": "CBWKWO3eFjNL",
    "colab_type": "code",
    "colab": {},
    "cell_id": "00008-0b525322-5376-497c-ac11-7ea2fa5c7d72",
    "deepnote_cell_type": "code"
   },
   "source": "# YOUR CODE HERE",
   "execution_count": 0,
   "outputs": []
  },
  {
   "cell_type": "code",
   "metadata": {
    "id": "pikK_jLGFtfk",
    "colab_type": "code",
    "colab": {},
    "cell_id": "00009-c61643bc-7153-4af2-ac64-7da0c1b17cbe",
    "deepnote_cell_type": "code"
   },
   "source": "",
   "execution_count": 0,
   "outputs": []
  },
  {
   "cell_type": "markdown",
   "source": "<a style='text-decoration:none;line-height:16px;display:flex;color:#5B5B62;padding:10px;justify-content:end;' href='https://deepnote.com?utm_source=created-in-deepnote-cell&projectId=b21ecfca-1024-46a4-860c-35a51c91b2b7' target=\"_blank\">\n<img alt='Created in deepnote.com' style='display:inline;max-height:16px;margin:0px;margin-right:7.5px;' src='data:image/svg+xml;base64,PD94bWwgdmVyc2lvbj0iMS4wIiBlbmNvZGluZz0iVVRGLTgiPz4KPHN2ZyB3aWR0aD0iODBweCIgaGVpZ2h0PSI4MHB4IiB2aWV3Qm94PSIwIDAgODAgODAiIHZlcnNpb249IjEuMSIgeG1sbnM9Imh0dHA6Ly93d3cudzMub3JnLzIwMDAvc3ZnIiB4bWxuczp4bGluaz0iaHR0cDovL3d3dy53My5vcmcvMTk5OS94bGluayI+CiAgICA8IS0tIEdlbmVyYXRvcjogU2tldGNoIDU0LjEgKDc2NDkwKSAtIGh0dHBzOi8vc2tldGNoYXBwLmNvbSAtLT4KICAgIDx0aXRsZT5Hcm91cCAzPC90aXRsZT4KICAgIDxkZXNjPkNyZWF0ZWQgd2l0aCBTa2V0Y2guPC9kZXNjPgogICAgPGcgaWQ9IkxhbmRpbmciIHN0cm9rZT0ibm9uZSIgc3Ryb2tlLXdpZHRoPSIxIiBmaWxsPSJub25lIiBmaWxsLXJ1bGU9ImV2ZW5vZGQiPgogICAgICAgIDxnIGlkPSJBcnRib2FyZCIgdHJhbnNmb3JtPSJ0cmFuc2xhdGUoLTEyMzUuMDAwMDAwLCAtNzkuMDAwMDAwKSI+CiAgICAgICAgICAgIDxnIGlkPSJHcm91cC0zIiB0cmFuc2Zvcm09InRyYW5zbGF0ZSgxMjM1LjAwMDAwMCwgNzkuMDAwMDAwKSI+CiAgICAgICAgICAgICAgICA8cG9seWdvbiBpZD0iUGF0aC0yMCIgZmlsbD0iIzAyNjVCNCIgcG9pbnRzPSIyLjM3NjIzNzYyIDgwIDM4LjA0NzY2NjcgODAgNTcuODIxNzgyMiA3My44MDU3NTkyIDU3LjgyMTc4MjIgMzIuNzU5MjczOSAzOS4xNDAyMjc4IDMxLjY4MzE2ODMiPjwvcG9seWdvbj4KICAgICAgICAgICAgICAgIDxwYXRoIGQ9Ik0zNS4wMDc3MTgsODAgQzQyLjkwNjIwMDcsNzYuNDU0OTM1OCA0Ny41NjQ5MTY3LDcxLjU0MjI2NzEgNDguOTgzODY2LDY1LjI2MTk5MzkgQzUxLjExMjI4OTksNTUuODQxNTg0MiA0MS42NzcxNzk1LDQ5LjIxMjIyODQgMjUuNjIzOTg0Niw0OS4yMTIyMjg0IEMyNS40ODQ5Mjg5LDQ5LjEyNjg0NDggMjkuODI2MTI5Niw0My4yODM4MjQ4IDM4LjY0NzU4NjksMzEuNjgzMTY4MyBMNzIuODcxMjg3MSwzMi41NTQ0MjUgTDY1LjI4MDk3Myw2Ny42NzYzNDIxIEw1MS4xMTIyODk5LDc3LjM3NjE0NCBMMzUuMDA3NzE4LDgwIFoiIGlkPSJQYXRoLTIyIiBmaWxsPSIjMDAyODY4Ij48L3BhdGg+CiAgICAgICAgICAgICAgICA8cGF0aCBkPSJNMCwzNy43MzA0NDA1IEwyNy4xMTQ1MzcsMC4yNTcxMTE0MzYgQzYyLjM3MTUxMjMsLTEuOTkwNzE3MDEgODAsMTAuNTAwMzkyNyA4MCwzNy43MzA0NDA1IEM4MCw2NC45NjA0ODgyIDY0Ljc3NjUwMzgsNzkuMDUwMzQxNCAzNC4zMjk1MTEzLDgwIEM0Ny4wNTUzNDg5LDc3LjU2NzA4MDggNTMuNDE4MjY3Nyw3MC4zMTM2MTAzIDUzLjQxODI2NzcsNTguMjM5NTg4NSBDNTMuNDE4MjY3Nyw0MC4xMjg1NTU3IDM2LjMwMzk1NDQsMzcuNzMwNDQwNSAyNS4yMjc0MTcsMzcuNzMwNDQwNSBDMTcuODQzMDU4NiwzNy43MzA0NDA1IDkuNDMzOTE5NjYsMzcuNzMwNDQwNSAwLDM3LjczMDQ0MDUgWiIgaWQ9IlBhdGgtMTkiIGZpbGw9IiMzNzkzRUYiPjwvcGF0aD4KICAgICAgICAgICAgPC9nPgogICAgICAgIDwvZz4KICAgIDwvZz4KPC9zdmc+' > </img>\nCreated in <span style='font-weight:600;margin-left:4px;'>Deepnote</span></a>",
   "metadata": {
    "tags": [],
    "created_in_deepnote_cell": true,
    "deepnote_cell_type": "markdown"
   }
  }
 ],
 "nbformat": 4,
 "nbformat_minor": 0,
 "metadata": {
  "colab": {
   "name": "Exercise 1.1 - Python Fundamentals I",
   "provenance": [
    {
     "file_id": "1vHY4YcsGCXf4TRtZJmzYKC83WQsnumsg",
     "timestamp": 1586317105093
    }
   ],
   "collapsed_sections": []
  },
  "kernelspec": {
   "name": "python3",
   "display_name": "Python 3"
  },
  "deepnote_notebook_id": "646109f4-1447-4c4f-96c7-a3bc81c67e69",
  "deepnote": {},
  "deepnote_execution_queue": []
 }
}