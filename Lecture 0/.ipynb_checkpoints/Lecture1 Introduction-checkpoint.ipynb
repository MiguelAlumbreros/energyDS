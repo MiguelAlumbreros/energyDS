{
 "cells": [
  {
   "cell_type": "markdown",
   "source": "# Lecture 1: Data science for energy engineers",
   "metadata": {
    "cell_id": "00000-d0e2cae7-affa-45e3-82eb-df89622c31b9",
    "deepnote_cell_type": "markdown"
   }
  },
  {
   "cell_type": "markdown",
   "source": "## Data is the new electricity",
   "metadata": {
    "cell_id": "00001-1aeb307e-f9d7-47ac-b646-a66df7a0b664",
    "deepnote_cell_type": "markdown"
   }
  },
  {
   "cell_type": "markdown",
   "source": "Data and artificial intelligence have been termed the new electricity by prominent [business practitioners](https://www.youtube.com/watch?v=VIAFQ5p2dxU) and [researchers](https://www.youtube.com/watch?v=21EiKfQYZXc). This is because of the ubiquity of data today, and the products that make use of artificial intelligence algorithms to make sense of this data. We use data science to refer to the end-to-end process of acquiring relevant data, analysing and manipulating it to create real-world value.\n\nData-driven algorithms allow us to build robust, adaptable systems, as opposed to rule-based systems with hard-coded parameters.  However, the latest innovations in data science are driven by three key developments:\n1. Computational power has increased manifold over the last few decades.\n2. The amount of available data has likewise grown explosively during this time.\n3. Algorithmic evolution and availability of open source toolkits (such as this one) have contributed greatly to democratizing data science.\n",
   "metadata": {
    "cell_id": "00002-ed50e4a7-4e1f-4828-bc3e-c67ddff5a4f5",
    "deepnote_cell_type": "markdown"
   }
  },
  {
   "cell_type": "markdown",
   "source": "## Data use cases in energy\n\nWe start off by highlighting some of the most common use cases of applying data science in energy engineering. The list is by no means exhaustive, but the interested reader is referred to [this](https://www.sciencedirect.com/science/article/pii/S037877961500293X?casa_token=PMDOZOsOu9kAAAAA:NEZUJTiwOL6OqzBXAZ2GKZn9NF5LkHVJd1E2lJ6SK8tS6zS2gg5Hnynd1dGjApYXSHkrpK2xEg) and [this](https://www.mdpi.com/1996-1073/9/5/348) review for more details.",
   "metadata": {
    "cell_id": "00003-f3810009-ebe1-4572-b6a8-439e8e1ff0ef",
    "deepnote_cell_type": "markdown"
   }
  },
  {
   "cell_type": "markdown",
   "source": "### Smarter buildings\nData can be used to optimize design and operation of building and building components. For instance:\n1. Architects and building engineers use data from simulations and previous projects to design buildings that minimize the lifetime costs (and emissions). This idea is embraced by the industry standard cost-optimality criterion to design and/or refurbish buildings in a sustainable manner.\n2. Building engineers use energy demand data of a building for space conditioning (e.g. heating or cooling) to determine whether energy efficiency investments make economic sense for an existing building. This includes replacing building facade by better insulating materials or replacing an outdated HVAC system (heating, ventilation, air conditioning) by a modern, more efficient system such as a heat pump.\n3. Building energy management systems also make use of real-time data to make buildings more responsive to user needs (for instance through recognizing preferred temperature set-points by detecting occupancy etc.). This has two key advantages: it increases user comfort, and also cuts down on unnecessary energy demand.\n4. Historic building energy demand can also help practitioners identify the optimal dimensioning of distributed energy resources, e.g. rooftop solar PV and electrical battery systems. However, not only can data guide the optimal design choices, it also helps with optimizing the operation of these systems in practice. This topic is the focus of much of this course.\n\n### Smarter energy grids\nData can also be used to optimize grid operation on a scale larger than an individual building. For instance:\n1. Practitioners use real world data to identify the optimal location for utility scale solar and wind farms. This helps minimize the levelised cost of electricity production. Furthermore, once these renewable energy projects are realized, plant operators use historical production data to detect and predict faults. Data is also used to model degradation of such systems: e.g. to better understand the drivers that affect the longevity of solar PV panels, wind turbines or battery-inverter systems.\n2. Grid operators use data from numerous sources to make forecasts for generation and consumption of energy. These forecasts are then used to commission enough flexibility to ensure grid operation can continue in a stable manner. This data-driven analysis can be conducted by the transmission system operators (TSOs) for the national grid, and by the distribution system operators (DSOs) for the local or regional grids. This flexibility is often offered by aggregators through automated demand response.\n3. On a related note, data-driven analysis is also used extensively by entities such as energy traders, who make forecasts for future electricity prices, and then use this information to optimize energy generation and/or consumption.\n\nWhile we focus on electricity in this course, the same concepts apply to other energy sources such as gas.",
   "metadata": {
    "cell_id": "00004-263f2f2c-8713-4e43-9aae-cf7c4c285196",
    "deepnote_cell_type": "markdown"
   }
  },
  {
   "cell_type": "markdown",
   "source": "## Types of practical data science projects\n\nSo, how does an end to end workflow in such a data science project in energy look like? There are a few different ways of looking at this, which we explore in this section.",
   "metadata": {
    "ExecuteTime": {
     "end_time": "2020-06-07T20:19:23.561433Z",
     "start_time": "2020-06-07T20:19:23.540884Z"
    },
    "cell_id": "00005-57aff6ca-826e-4e1b-b199-ff216f04e82e",
    "deepnote_cell_type": "markdown"
   }
  },
  {
   "cell_type": "markdown",
   "source": "### The [supervised learning](https://en.wikipedia.org/wiki/Supervised_learning) view\nThis view is focused more on forecasting related problems. More specifically, if your project is related to forecasting energy consumption and/or production, then this view is likely the most appropriate. Forecasting energy is mostly posed as a regression problem (i.e. the output of your machine learning models is a continuous value). This project is usually split into two parts:\n1. A training phase, where you use collected training examples to train a model \n2. An evaluation (or inference) phase, where you use the trained model to make predictions for cases that you did not see in the training process\n\nTo summarize, the question we want to answer in this case is: 'if you have historical demand (or generation) data, how can you forecast it for the future?' The bird's level overview is visualized in the figure below. We will deal with how to make forecasts in lecture 3. \n\n<img src=\"slearn.png\" style=\"width: 640px;\">\n\nNote that there are other use cases of supervised learning in the energy domain, however we do not deal with them in this course.\n",
   "metadata": {
    "cell_id": "00006-4479eacc-a3e8-4f33-b45f-2f3b0367c29d",
    "deepnote_cell_type": "markdown"
   }
  },
  {
   "cell_type": "markdown",
   "source": "### The end to end workflow\nWhile forecasting lets you better understand the future, it does not allow you to 'close the loop' or take any actions to affect the future. End to end data science solutions, on the other hand, create actionable insights and schedules etc. from forecasts. In the case of energy projects, it is straightforward to use demand and production forecasts to optimize schedules (e.g. in trading portfolios). A common example is to charge large-scale battery storage systems (either thermal or electrical) when the prices are low and discharge them when the prices are high. This is known as cost arbitrage, and you will learn how to do it in lecture 4.\n\nThe following image shows an overview of the end to end data science project. Note that such a project includes forecasting as a component, but greatly expands the scope. An alternative to this forecast-control staged process is to use reinforcement learning, which often combines the two into a single block (as model-free control). While we do not cover reinforcement learning in this course, we discuss some of the remaining building blocks (data sensing etc.) in the next section.\n\n<img src=\"Pipeline.png\" style=\"width: 200px;\">\n(Image courtesy Lex Friedman)\n",
   "metadata": {
    "cell_id": "00007-117645ed-a6cc-4558-bd26-15011773582b",
    "deepnote_cell_type": "markdown"
   }
  },
  {
   "cell_type": "markdown",
   "source": "### The [A/B testing](https://en.wikipedia.org/wiki/A/B_testing) view\nThis view builds further on the other two views, and answerrs questions such as 'given two different algorithms, how do I know which one will lead to the greatest improvement'. As such, it deals with ways to designing experiments and drawing (statistically significant) conclusions from the gathered evidence. One example of such a test is to run two different closed-loop forecasting and optimization algorithms on two identical populations (e.g. sets of buildings). Assuming that the two populations are otherwise identical, the results of such an experiment can help identify the real world usefulness of the two algorithms, and give an indication about which to use in practice.\n\nAn example of A/B testing is given below. Note that A/B testing is a special class of randomized experimentation, where we test only two variants in a single experiment. Such tests are used extensively in energy as well as other domains. However, we will not cover them further in this course.\n\n<img src=\"ab_testing.png\" style=\"width: 640px;\">\n",
   "metadata": {
    "cell_id": "00008-add946fe-93d8-439e-ac09-a3de15833011",
    "deepnote_cell_type": "markdown"
   }
  },
  {
   "cell_type": "markdown",
   "source": "### Other views\n\nIt is also possible to look at data science projects in energy in a number of other ways. These include:\n1. Using unsupervised learning to cluster buildings with similar energy demand. Another possibility is to use unsupervised learning algorithms to reduce the dimensionlaity of data, for example using principle component analysis etc.\n2. There are genuine concerns surrounding the use of electricity consumption in buildings. This has sparked a number of debates surrounding data privacy and security. Privacy-preserving learning algorithms provide one way to utilize data to still create value, while preserving the user's privacy.\n3. Many data-driven algorithms require enormous amounts of training data, before they can be utilized for practical purposes. Learning from simulations and transfer learning present two key approaches to mitigate these issues.\n\nWe do not discuss these further in this course, however the interested reader can find more details [here]().",
   "metadata": {
    "cell_id": "00009-0c2ab1fe-ffe4-49b8-a84c-ad3e8d3d07fd",
    "deepnote_cell_type": "markdown"
   }
  },
  {
   "cell_type": "markdown",
   "source": "## Practical concerns in data science projects",
   "metadata": {
    "cell_id": "00010-58d2100e-268c-4cb7-936b-59aa4ce43b6f",
    "deepnote_cell_type": "markdown"
   }
  },
  {
   "cell_type": "markdown",
   "source": "The 'smart' component of most data science projects is often made possible by an enormous effort to gather, store, curate and transmit the appropriate data. This is also evident in the end to end workflow figure above, where sensors (and sensed data) form an integral part of the overall value chain. In this section, we briefly address data acquisition, storage and processing. However, we deal with loading and working with data in lecture 2.",
   "metadata": {
    "cell_id": "00011-6042245d-492e-4473-84e0-288f5a10cb2a",
    "deepnote_cell_type": "markdown"
   }
  },
  {
   "cell_type": "markdown",
   "source": "### Data acquisition",
   "metadata": {
    "cell_id": "00012-95eaaf38-e789-4924-9d1e-82fde82900ae",
    "deepnote_cell_type": "markdown"
   }
  },
  {
   "cell_type": "markdown",
   "source": "Data sensing and acquisition forms the foundation on which any data science project is built. As such, the quality of the data determines, to a large part, the fate of the project and how much value it can create. A rule of thumb that applies to these projects is therefore, 'Garbage-in-Garbage-out', or GIGO for short. \n\nDespite the amount of data being generated every second, sensing relevant data can still be expensive. This is specially true for the case of energy systems, where many privacy concerns exist. For optimal operation of the grid, we ideally want perfect visibility of both demand and supply side, in high spatial and temporal resolution. The reality is a bit different:\n\n1. On the demand side, as we move from larger commercial buildings to residential buildings, the state of smart metering usually degrades quickly. While some European countries have made progress in smart metering infrastructure, this is by no means universal. Furthermore, even when this data is being recorded, it will seldom be available for public consumption (for good reasons). However, even in larger installations where electricity demand is being logged, legacy systems might often prevent export of this data. Likewise, even when the overall electricity demand in a building might be recorded, it will not give the full picture which can be obtained by sub-metering individual loads (such as heating, ventilation etc.). This is an expensive proposition, not just because of the investment cost for sensors, but also the huge amounts of data that requires to be transmitted and stored.\n2. On the supply side, large electricity generators and centralized, utility scale power plants record operational data. However, on the building level, the output of distributed energy resources such as solar panels is seldom monitored. Thus, even in cases where this data is being generated, very often it is not analysed to see if there are opportunities for further optimization (by dealing with shading or soiling etc.).\n",
   "metadata": {
    "cell_id": "00013-9fb43b4c-affa-43e6-a9c7-731652f3c7fe",
    "deepnote_cell_type": "markdown"
   }
  },
  {
   "cell_type": "markdown",
   "source": "### Data storage",
   "metadata": {
    "cell_id": "00014-b6870ce5-c7b0-4159-8b8b-bdda28a5fba3",
    "deepnote_cell_type": "markdown"
   }
  },
  {
   "cell_type": "markdown",
   "source": "As alluded to earlier, once the sensors are in place to gather data, the next step is to decide where to record it and make it available for subsequent analysis etc. This can be done via multiple ways: \n\n1. The sensors recording the data can write it to a database which can then be accessed by data scientists.\n2. Alternatively, the sensors can make the data available on demand. In this case, the data does not get written continuously, thereby reducing its volume.\n\nWhich solution works better depends on the problem at hand. In the next lecture, we look into a number of popular file formats to load and analyse energy data.\n\nIn addition to storing data for subsequent use, it is also often necessary to store machine learning models trained using this data. In the Python programming language, there are a number of ways to do this. This includes storing the files in the same (binary) format as your data. More recently, formats specialized for machine learning models such as ONYX have also developed.\n\nFinally, it is important to keep in mind that the data, code and models all need to be versioned correctly for replication purposes. Online services such as Github can provide part of this service to open-source and private projects.",
   "metadata": {
    "cell_id": "00015-aab8699f-604e-4acf-9656-36509e369099",
    "deepnote_cell_type": "markdown"
   }
  },
  {
   "cell_type": "markdown",
   "source": "### Processing",
   "metadata": {
    "cell_id": "00016-014b2ce7-f77f-4a71-be02-be6af2939e37",
    "deepnote_cell_type": "markdown"
   }
  },
  {
   "cell_type": "markdown",
   "source": "Once the data can be retrieved for further analysis, we can start off with analyzing it. This can be done either on your own computer or on the cloud (as in this course). Increasingly, edge computation is becoming feasible with the growing computational power on sensing devices. Such processing is the focus of this course.\n",
   "metadata": {
    "cell_id": "00017-031784ff-0e96-4c64-b5c1-cdaba6c5138b",
    "deepnote_cell_type": "markdown"
   }
  },
  {
   "cell_type": "markdown",
   "source": "## Course structure",
   "metadata": {
    "cell_id": "00018-8a075669-a50b-47cd-bfd1-3a8c71d4da45",
    "deepnote_cell_type": "markdown"
   }
  },
  {
   "cell_type": "markdown",
   "source": "The remainder of the course is organized as follows:\n* We will look at ways to import, clean and visualize data in lecture 2. We will consider energy demand from 200 (simulated) Belgian households.\n* In lecture 3, we discuss how to better understand the trends in time series data, and make forecasts using various techniques.\n* Lecture 4 will introduce a general purpose, derivative-free framework to solve optimization problems in energy. More specifically, we will look at ways to minimizing energy costs using a battery. \n* Lecture 5 on advanced topics will not contain any coding per se, and will therefore take on the form of a discussion.\n\n<img src=\"course-content.png\">",
   "metadata": {
    "cell_id": "00019-63db3fe8-4cc5-47a5-b4db-fc03b1ca7afc",
    "deepnote_cell_type": "markdown"
   }
  },
  {
   "cell_type": "markdown",
   "source": "## Why Python?\n\nThe material for this course has been developed in Python, a high level programming language. Python is among the most popular programming languages at the moment. Some of the advantages that it offers include:\n\n1. Extensive support for data science with open source libraries and frameworks\n2. Straightforward interfaces with other programming languages\n3. nteractive development environments and the IPython framework. \n\nAt the same type, there are also some disadvantages associated with using Python. These include:\n1. Relatively slow computational speed (especially when code is not written in Pythonic syntax)\n2. Non-typed language\n3. Compatibility issues between Python 2 and 3\n\nFor more details on where Python ranks at the moment in terms of popularity as estimated by the Tiobe Index, look [here](https://www.tiobe.com/tiobe-index/). For more details on some of the reasons behind Python's popularity with the data science community, check out [this](https://www.kdnuggets.com/2017/07/6-reasons-python-suddenly-super-popular.html) and [this](https://medium.com/@mindfiresolutions.usa/advantages-and-disadvantages-of-python-programming-language-fd0b394f2121) blog.\n\nMore specifically, we use the Jupyter notebooks to teach Python and data science skills in this course. However, you can execute these notebooks also on your local machine using IDE's such as [PyCharm](https://www.jetbrains.com/pycharm/).",
   "metadata": {
    "cell_id": "00020-0eeb2c66-4274-4499-b3e0-7be402510902",
    "deepnote_cell_type": "markdown"
   }
  },
  {
   "cell_type": "markdown",
   "source": "## Additional resources\n\nIn general, for those interested in data science, [Medium](https://medium.com) and [KDNuggets](https://www.kdnuggets.com) have plenty of (introductory) content written by bloggers. In this section, we include a list of some additional resources that might be useful for the interested student.",
   "metadata": {
    "cell_id": "00021-429bcc15-fdba-4f19-ba37-e5c977f579d0",
    "deepnote_cell_type": "markdown"
   }
  },
  {
   "cell_type": "markdown",
   "source": "### Introduction to programming\n\nThis course expects a basic familiarity with programming in Python. If this sounds intimidating, make sure to follow the prerequisites lecture in this course before proceeding to the next lecture. If learning from static notebooks is not your thing, there are a number of online resources to bring you up to speed with Python. These include:\n\n\n1. [Introduction to Python](https://www.datacamp.com/courses/intro-to-python-for-data-science)\nThis course provides a quick and brief introduction to lists, numpy arrays and in-built functions in Python. After this course, you will know how to create and manipulate data in multiple forms.\n\n\n2. [Intermediate Python](https://www.datacamp.com/courses/intermediate-python-for-data-science)\nThis course introduces two key data science libraries: Pandas (for loading and working with your data) and Matplotlib (for visualizing). It also introduces logical operators and loops - necessary tools for any serious project.\n\n\n3. Numerous courses on Pandas and Matplotlib:\nA number of courses on DataCamp cover these in much greater detail. These are not essential for following the course, but will provide you with greater knowledge and skills to tackle real world problems.\n\n\n4. [Lecture notes from a one day course on Numpy and Linear Algebra](https://github.com/ADGEfficiency/teaching-monolith/tree/master/numpy) that explains vector, matrix and tensor data processing.\n\n\n5. An [introduction to coding standards in Python](https://www.datacamp.com/community/tutorials/pep8-tutorial-python-code) that goes over the PEP-8 standard.\n\n\n### Introduction to machine learning\n\nThis course will introduce a number of machine learning and optimization concepts for the energy domain. Here is a non-exhaustive list of courses and material that focus more on machine learning and artificial intelligence itself. These can serve either as follow-up to the course or a complement, but they are not required for this course.\n\n1. [Andrew Ng's introduction to machine learning](https://www.youtube.com/playlist?list=PLoR5VjrKytrCv-Vxnhp5UyS1UjZsXP0Kj) is perhaps the most watched lecture series on the internet about machine learning. This course offers an extremely accessible introduction to machine learning (and is also pretty watered down). For the more adventurous, Ng also has a much more comprehensive [machine learning course](https://www.youtube.com/playlist?list=PLA89DCFA6ADACE599) he taught at Stanford online. Finally, he has also made his [deep learning course](https://www.youtube.com/playlist?list=PLoROMvodv4rOABXSygHTsbvUz4G_YQhOb) available online recently - however, unlike the other two, this one focuses exclusively on deep learning (as opposed to the more general machine learning content of earlier courses).\n\n\n2. Like Prof. Ng, Nando de Freitas also has multiple courses on machine learning online. These start from an [undergrad level course](https://www.youtube.com/playlist?list=PLE6Wd9FR--Ecf_5nCbnSQMHqORpiChfJf) to a [graduate level course](https://www.youtube.com/playlist?list=PLE6Wd9FR--EdyJ5lbFl8UuGjecvVw66F6) on machine learning. Finally, there is also a course on [deep learning](https://www.youtube.com/playlist?list=PLjK8ddCbDMphIMSXn-w1IjyYpHU3DaUYw). The content covered by these courses is quite different, and can provide complementary information to Prof. Ng's lectures.\n\n\n3. For an excellent (but comprehensive) introduction to reinforcement learning, check out [David Silver's course](https://www.youtube.com/playlist?list=PLzuuYNsE1EZAXYR4FJ75jcJseBmo4KQ9-). These lectures follow the seminal book by Sutton and Barto, introduction to reinforcment learning, available online and in LIMO. Pieter Abbeel also covers the foundations of RL in his [artificial intelligence course](https://www.youtube.com/watch?v=i0o-ui1N35U) (which is also a good complement to the courses discussed earlier).\n\n\n4. For more details on deep learning, check out the recent book by Goodfellow et al. For computer vision applications, Stanford has a set of very intuitive [courses](https://www.youtube.com/playlist?list=PL3FW7Lu3i5JvHM8ljYj-zLfQRF3EO8sYv) online as well.\n\n\n5. Finally, Zico Kolter has a [course](https://www.youtube.com/playlist?list=PLTOBJKrkhpoOjsfYdEeKskarea09we9DJ) online on computational methods for sustainable energy which covers smart grids and machine learning.\n\n\n",
   "metadata": {
    "cell_id": "00022-9f9893a8-18a3-441c-b40b-aad610015291",
    "deepnote_cell_type": "markdown"
   }
  },
  {
   "cell_type": "code",
   "metadata": {
    "cell_id": "00023-c30d3f3c-da5f-4ba1-9afd-534d48b6c178",
    "deepnote_cell_type": "code"
   },
   "source": "",
   "execution_count": null,
   "outputs": []
  },
  {
   "cell_type": "markdown",
   "source": "<a style='text-decoration:none;line-height:16px;display:flex;color:#5B5B62;padding:10px;justify-content:end;' href='https://deepnote.com?utm_source=created-in-deepnote-cell&projectId=b21ecfca-1024-46a4-860c-35a51c91b2b7' target=\"_blank\">\n<img alt='Created in deepnote.com' style='display:inline;max-height:16px;margin:0px;margin-right:7.5px;' src='data:image/svg+xml;base64,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' > </img>\nCreated in <span style='font-weight:600;margin-left:4px;'>Deepnote</span></a>",
   "metadata": {
    "tags": [],
    "created_in_deepnote_cell": true,
    "deepnote_cell_type": "markdown"
   }
  }
 ],
 "nbformat": 4,
 "nbformat_minor": 2,
 "metadata": {
  "hide_input": false,
  "kernelspec": {
   "display_name": "Python 3",
   "language": "python",
   "name": "python3"
  },
  "language_info": {
   "codemirror_mode": {
    "name": "ipython",
    "version": 3
   },
   "file_extension": ".py",
   "mimetype": "text/x-python",
   "name": "python",
   "nbconvert_exporter": "python",
   "pygments_lexer": "ipython3",
   "version": "3.7.3"
  },
  "toc": {
   "base_numbering": 1,
   "nav_menu": {},
   "number_sections": true,
   "sideBar": true,
   "skip_h1_title": false,
   "title_cell": "Table of Contents",
   "title_sidebar": "Contents",
   "toc_cell": false,
   "toc_position": {
    "height": "calc(100% - 180px)",
    "left": "10px",
    "top": "150px",
    "width": "262.390625px"
   },
   "toc_section_display": true,
   "toc_window_display": true
  },
  "varInspector": {
   "cols": {
    "lenName": 16,
    "lenType": 16,
    "lenVar": 40
   },
   "kernels_config": {
    "python": {
     "delete_cmd_postfix": "",
     "delete_cmd_prefix": "del ",
     "library": "var_list.py",
     "varRefreshCmd": "print(var_dic_list())"
    },
    "r": {
     "delete_cmd_postfix": ") ",
     "delete_cmd_prefix": "rm(",
     "library": "var_list.r",
     "varRefreshCmd": "cat(var_dic_list()) "
    }
   },
   "types_to_exclude": [
    "module",
    "function",
    "builtin_function_or_method",
    "instance",
    "_Feature"
   ],
   "window_display": false
  },
  "deepnote_notebook_id": "dd4b7c3a-9f55-48b7-ae74-2f88a6e27a8f",
  "deepnote": {},
  "deepnote_execution_queue": []
 }
}