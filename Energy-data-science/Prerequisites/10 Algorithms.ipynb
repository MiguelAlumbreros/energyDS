{
 "cells": [
  {
   "cell_type": "markdown",
   "source": "# Introduction\n\nAn algorithm is a step-by-step structured 'recipe' of calculations (operations) for solving a problem. \nAlgorithms are important in computing because this is what computers do - perform structured \nsets of operations. To solve a problem using a computer we need an *algorithm*.\n\nOur computer programs are the expression of algorithms in a computing language.\nAlmost everything you have done so far has been an algorithm. Now we want to identify\nmore carefully some algorithms, and how we can describe them. This is a step towards \n*algorithmic complexity*, which is in the next notebook.\n\n\n## Characterising algorithms\n\nThere is usually more than one way to solve a problem, hence there will\nusually be more than one algorithm to solve a given problem. Some algorithms may be fast but\ninaccurate, others slow and accurate; some can be fast but use a lot of memory, while others may be \nlow-memory but slower. Some will be simple to program, others much harder.\nWe will look more at characterising the performance of algorithms in the next notebook on \n*algorithmic complexity*.  For now we will focus on turning descriptions of algorithms \ninto computer implementations.\n\n\n## Objectives\n\n- Develop appreciation of what an algorithm is\n- Learn to create an algorithm to solve a problem\n- Use *pseudocode* to describe algorithms",
   "metadata": {
    "cell_id": "00000-3828be43-4e09-4cbe-b67b-fb06dea4e690",
    "deepnote_cell_type": "markdown"
   }
  },
  {
   "cell_type": "markdown",
   "source": "We will be using NumPy is this notebook, so we import it now:",
   "metadata": {
    "cell_id": "00001-23e5340a-0883-4a10-acdc-2cf179c0906f",
    "deepnote_cell_type": "markdown"
   }
  },
  {
   "cell_type": "code",
   "metadata": {
    "cell_id": "00002-ec1e573a-5066-41de-8216-f690d21840dc",
    "deepnote_cell_type": "code"
   },
   "source": "import numpy as np",
   "outputs": [],
   "execution_count": null
  },
  {
   "cell_type": "markdown",
   "source": "# Pseudocode\n\n*Pseudocode* is commonly used to express algorithms. It involves presenting an algorithm in a way that\nresembles a high-level programming language, like Python. Pseudocode is not formally defined, but uses \ncontrol statements and loops that you are now familiar with.\n\nIn Activity 02, you worked on implementing a bisection algorithm. A presentation of a bisection algorithm\nin pseudocode can be found at https://en.wikipedia.org/wiki/Bisection_method#Algorithm, which we reproduce here:\n\n```\nINPUT: Function f, endpoint values a, b, tolerance TOL, maximum iterations NMAX\nCONDITIONS: a < b, either f(a) < 0 and f(b) > 0 or f(a) > 0 and f(b) < 0\nOUTPUT: value which differs from a root of f(x)=0 by less than TOL \n\nN ← 1\nWhile N ≤ NMAX # limit iterations to prevent infinite loop\n  c ← (a + b)/2 # new midpoint\n  If f(c) = 0 or (b – a)/2 < TOL then # solution found\n    Output(c)\n    Stop\n  EndIf\n  N ← N + 1 # increment step counter\n  If sign(f(c)) = sign(f(a)) then a ← c else b ← c # new interval\nEndWhile\nOutput(\"Method failed.\") # max number of steps exceeded\n```\n\nPython syntax is close to a form of pseudocode, so we will generally present algorithms using Python syntax.\nFrom an algorithm in pseudocode it is usually straightforward to produce a working Python program.",
   "metadata": {
    "collapsed": true,
    "cell_id": "00003-10c78b92-5cff-4a98-89ab-c7add88df98b",
    "deepnote_cell_type": "markdown"
   }
  },
  {
   "cell_type": "markdown",
   "source": "# Search\n\nSome classic algorithms involve searching in a list.\nOften, we need to know if a value exists in a list. We have already seen something like this with the Python built-in types, `dict` and `list` where we can say '`x in y`', e.g.:",
   "metadata": {
    "cell_id": "00004-3d8146aa-0f50-4b49-b10c-d1df02f6566f",
    "deepnote_cell_type": "markdown"
   }
  },
  {
   "cell_type": "code",
   "metadata": {
    "cell_id": "00005-a8f103d4-bd37-4427-9b96-87406b922141",
    "deepnote_cell_type": "code"
   },
   "source": "# Create a list\ny = [4, 2, 1, 3, 5]\n\n# Check if '2' is in the list y\nprint(2 in y)\n\n# Check if '2.5' is in the list y\nprint(2.5 in y)",
   "outputs": [],
   "execution_count": null
  },
  {
   "cell_type": "markdown",
   "source": "Behind this syntax is an *algorithm* for performing the search. There are different ways to search, and the speed of a search can depend heavily on the algorithm. The speed of a given algorithm for a problem can depend on the nature of the data, how it is stored, and how many search operations we want to perform.",
   "metadata": {
    "cell_id": "00006-20b4fa8f-2edc-4b4c-a34c-a84cf04dd50b",
    "deepnote_cell_type": "markdown"
   }
  },
  {
   "cell_type": "markdown",
   "source": "## Linear search\n\nThe simplest search is linear search, where we iterate over all entries in a list/tuple/dictionary, etc, and check for the value(s) we are looking for. Here is an example of searching if a given colour is in a list:",
   "metadata": {
    "cell_id": "00007-1ccb1c58-2cb5-4f65-a33e-48f8abcd3e9f",
    "deepnote_cell_type": "markdown"
   }
  },
  {
   "cell_type": "code",
   "metadata": {
    "cell_id": "00008-ccf6e11e-5b9d-4698-8915-5543a0198860",
    "deepnote_cell_type": "code"
   },
   "source": "def linear_search(x, val):\n    \"Return True if val is in x, otherwise return False\"\n    for item in x:\n        if item == val:\n            return True\n    return False\n\nmy_colours = [\"yellow\", \"green\", \"blue\", \"orange\", \"purple\"]\n\nprint(linear_search(my_colours, \"blue\"))\nprint(linear_search(my_colours, \"black\"))",
   "outputs": [],
   "execution_count": null
  },
  {
   "cell_type": "markdown",
   "source": "This is a very simple algorithm. It is generally fast for short lists, but might not be the best approach for long lists.",
   "metadata": {
    "cell_id": "00009-b6335d57-6980-4ee3-9ecc-17579ddda061",
    "deepnote_cell_type": "markdown"
   }
  },
  {
   "cell_type": "markdown",
   "source": "## Binary search\n\nLinear search does not place any requirements on the order of the data, i.e. on the list we are searching. \nHowever, if we have a list that is *sorted*, such as a list of names sorted into alphabetical order,\nrather than using a linear search we can do something cleverer and perform a *binary search* (https://en.wikipedia.org/wiki/Binary_search_algorithm).\n\nBinary search has similarities to bisection, that we have seen before. If we want to check if `y` is in \nthe *sorted* array `x` of length `n`, we:\n\n1. Check that the search value `y` is possibly in the array by checking that it lies between \n   the end values of `x`.\n1. Set lower bound position to 0 and upper bound position to `n`-1\n1. Evaluate the midpoint value of `x` , and determine if `y` lies to the left or right of \n   the mid-point.\n   - if `y < x[mid]`, then set the upper bound position equal to the midpoint position - 1 \n   - else if `y > x[mid]`, then set the lower bound position equal to the midpoint position + 1  \n   - else if `y == x[mid]`, then we have found `y`, so return position `mid`\n   - else if upper bound position < lower bound position, then `y` cannot be in the list, so return `None`",
   "metadata": {
    "cell_id": "00010-d93eace8-919a-43fd-a1cc-281039d64741",
    "deepnote_cell_type": "markdown"
   }
  },
  {
   "cell_type": "markdown",
   "source": "### Example\n\nConsider the ordered array `x` of length 9:\n\n| position  | 0 | 1 | 2 | 3 | 4  | 5  | 6  |  7 | 8  |\n|-----------|---|---|---|---|----|----|----|----|-----\n| value     | 2 | 5 | 7 | 8 | 32 | 34 | 47 | 52 | 61 |\n\nWe want to check if 52 is in the array, and if so in which position. The process is as follows: \n\n1. `upper=8, lower=0 -> midpoint=(8+0)/2=4` \n2. `x[8 (upper)]=61, x[0 (lower)]=2, x[4 (midpoint)]= 32 -> upper=8, lower=4+1=5, midpoint=(8+5)/2=6`  \n3. `x[8 (upper)]=61, x[5 (lower)]=34, x[6 (midpoint)]= 47 -> upper=8, lower=6+1=7` \n4. `x[8 (upper)]=61, x[7 (lower)]=52 -> return 7 (position of 52)` ",
   "metadata": {
    "cell_id": "00011-55575887-ffb0-4494-9111-c0db397a36e5",
    "deepnote_cell_type": "markdown"
   }
  },
  {
   "cell_type": "markdown",
   "source": "### Implementation\n\nA Python implementation of the binary sort algorithm is below. When implementing an algorithm, particular care needs to be taken with initialising values, updating at the appropriate points, and avoiding infinite loops.",
   "metadata": {
    "cell_id": "00012-138f5a6a-fac8-4e3c-8632-32b7c887a282",
    "deepnote_cell_type": "markdown"
   }
  },
  {
   "cell_type": "code",
   "metadata": {
    "cell_id": "00013-f9625ac5-d2de-43a9-a83b-bbf784214dfb",
    "deepnote_cell_type": "code"
   },
   "source": "def binary_search(x, y):\n    \"Peform binary search on x to find y. If found returns position, otherwise returns None.\"\n\n    # Intialise end point indices\n    lower, upper = 0, len(x) - 1\n\n    # If value is outside of interval, return None \n    if y < x[lower] or y > x[upper]:\n        return None\n\n    # Perform binary search\n    while True:\n                \n        # Compute midpoint index (integer division)\n        midpoint = (upper + lower)//2\n\n        # Check which side of x[midpoint] y lies, and update midpoint accordingly\n        if y < x[midpoint]:\n            upper = midpoint - 1\n        elif y > x[midpoint]:\n            lower = midpoint + 1\n        elif y == x[midpoint]:  # found, so return\n            return midpoint\n       \n        # In this case val is not in list (return None)\n        if upper < lower:\n            return None",
   "outputs": [],
   "execution_count": null
  },
  {
   "cell_type": "markdown",
   "source": "We now add some tests to check that our algorithm is functioning correctly:",
   "metadata": {
    "cell_id": "00014-e64ceed9-fbe7-44e0-a1b5-fc90c5399319",
    "deepnote_cell_type": "markdown"
   }
  },
  {
   "cell_type": "code",
   "metadata": {
    "cell_id": "00015-806e4d10-8985-43ee-a3fa-d2ab1b248293",
    "deepnote_cell_type": "code"
   },
   "source": "# Generate an array of sorted integers\nx = np.array([-19, -15, -12,  -8,  -7,  -6,  -4 ,  1,  2,   8,   9,  15,  15,  18,  22])\n\n# Test for values we know are in the array\nassert binary_search(x, x[0]) == 0 \nassert binary_search(x, x[2]) == 2 \nassert binary_search(x, x[7]) == 7 \nassert binary_search(x, x[14]) == 14 \n\n# Test for values we know are outside the array interval\nassert binary_search(x, -21) == None \nassert binary_search(x, 38) == None \n\n# Test for values we know are not in the array but are inside the array interval\nassert binary_search(x, -11) == None\nassert binary_search(x, 12) == None\nassert binary_search(x, 21) == None",
   "outputs": [],
   "execution_count": null
  },
  {
   "cell_type": "markdown",
   "source": "For large sorted arrays, binary search is much faster than linear search. We will look at this more in the next notebook. It does however rely on having a sorted array. If an array is unordered and we need to do a large number of searches, rather than using linear search it may be more efficient to first sort the array, and then use binary search.",
   "metadata": {
    "cell_id": "00016-984bce74-68af-40fe-bc0e-410feaace035",
    "deepnote_cell_type": "markdown"
   }
  },
  {
   "cell_type": "markdown",
   "source": "# Sorting\n\nAnother classic algorithmic problem is sorting. There are numerous sort algorithms listed at https://en.wikipedia.org/wiki/Sorting_algorithm. The reason for multiple algorithms is that there is no universal *best*. The appropriate algorithm depends on the problem - maybe the size of the problem,\nany pre-existing (partial) ordering, or even the CPU or memory (RAM) type.\n\nWe will consider two classic sorting algorithms - bubble sort and quicksort. Bubble sort is educational, \nand quicksort is widely used in practice.",
   "metadata": {
    "cell_id": "00017-a44920d3-1284-4351-a2e3-8ebc9bd797f9",
    "deepnote_cell_type": "markdown"
   }
  },
  {
   "cell_type": "markdown",
   "source": "## Bubble Sort\n\nOne of the simplest sorting algorithms is bubble sort. We just iterate over values in an array, and if any neighbours are in the wrong order we swap them. To sort the entire list, we have to repeat this process many times. \n\nHere is a pseudocode implementation of bubble sort:\n\n```\nprocedure bubbleSort( A : list of sortable items )\n    N ← length(A)\n    repeat\n       for i = 1 to N-1 inclusive do\n          if A[i] > A[i+1] then\n             swap(A[i], A[i+1])\n          end if\n       end for\n       N ← N - 1\n    until N = 0\nend procedure\n```\n\nNote that this pseudocode assumes that the list `A` has entries indexed from `1` to `N`. \nThis is because some languages, e.g. Fortran and MATLAB, use '1' for the index of the first entry in an array. Python, C, and numerous other languages use '0' as the index for the first entry in an array.\nBecause different languages have different conventions, it is important to pay attention to details like this when reading pseudocode. Mistakes due to 0-based or 1-based indexing are common, sufficiently so that there is a name for\nsuch an error - 'off-by-one error'.\n\nBelow is an implementation of bubble sort in Python:",
   "metadata": {
    "cell_id": "00018-ff7d24ed-c65d-4180-88e1-64e02448376c",
    "deepnote_cell_type": "markdown"
   }
  },
  {
   "cell_type": "code",
   "metadata": {
    "cell_id": "00019-ab38f63c-e611-4243-8694-e2827d57b50f",
    "deepnote_cell_type": "code"
   },
   "source": "def bubble_sort(A):\n    \"Sort A and return\"\n\n    # Make a copy of A    \n    A = A.copy()\n\n    # Perform sorting    \n    N = len(A)\n    while N > 0:\n        for i in range(N - 1):\n            # Swap data if in wrong order\n            if A[i] > A[i + 1]:\n                A[i + 1], A[i] = A[i], A[i + 1]\n        N = N - 1\n\n    return A",
   "outputs": [],
   "execution_count": null
  },
  {
   "cell_type": "markdown",
   "source": "We can test our bubble sort implementation with some random data:",
   "metadata": {
    "collapsed": true,
    "cell_id": "00020-bd34e2dd-101c-4232-ac7c-3324db0e098d",
    "deepnote_cell_type": "markdown"
   }
  },
  {
   "cell_type": "code",
   "metadata": {
    "cell_id": "00021-d432d319-0199-4a36-93ed-99cac51257ee",
    "deepnote_cell_type": "code"
   },
   "source": "# Generate array of 20 random values\nx = np.random.rand(20)\n\n# Sort array and print\nprint(bubble_sort(x))",
   "outputs": [
    {
     "name": "stdout",
     "output_type": "stream",
     "text": "[0.03233232 0.03251829 0.07103294 0.14805153 0.21321488 0.25989539\n 0.32179124 0.42797162 0.44328155 0.47101761 0.53783258 0.54020027\n 0.57795516 0.66561489 0.70048737 0.71369816 0.76156279 0.88026078\n 0.92664082 0.96710071]\n"
    }
   ],
   "execution_count": null
  },
  {
   "cell_type": "markdown",
   "source": "Bubble sort is not a sophisticated algorithm, and as we will see, it is very inefficient for large lists. But, it performs the task. Performance is not always a concern. We just need implementations that are sufficiently fast for a given application. If performance is not critical, clarity and simplicity of the code should be prized.",
   "metadata": {
    "cell_id": "00022-58724b38-61ee-4bdd-be7f-7085a5a2b32c",
    "deepnote_cell_type": "markdown"
   }
  },
  {
   "cell_type": "markdown",
   "source": "## Quicksort\n\nA widely used algorithm for sorting, developed in 1959, is *quicksort*. It is known as a 'divide and conquer' type algorithm. It essentially picks a value in the array (the pivot), and partitions the entries into two groups; those less than the pivot and those greater than or equal to the pivot. It then repeats the process on each group. This make quicksort a *recursive* algorithm.\n\nBelow is the quicksort algorithm in pseudocode, taken from https://en.wikipedia.org/wiki/Quicksort#Lomuto_partition_scheme:",
   "metadata": {
    "cell_id": "00023-7222486c-e697-46ac-b636-f4de9f87558a",
    "deepnote_cell_type": "markdown"
   }
  },
  {
   "cell_type": "markdown",
   "source": "```\nalgorithm quicksort(A, lo, hi) is\n    if lo < hi then\n        p := partition(A, lo, hi)\n        quicksort(A, lo, p – 1)\n        quicksort(A, p + 1, hi)\n\nalgorithm partition(A, lo, hi) is\n    pivot := A[hi]\n    i := lo        // place for swapping\n    for j := lo to hi – 1 do\n        if A[j] ≤ pivot then\n            swap A[i] with A[j]\n            i := i + 1\n    swap A[i] with A[hi]\n    return i\n```\n\nThe algorithm is started with `quicksort(A, 0, len(A)-1)`\n\nWe implement this now in Python:",
   "metadata": {
    "cell_id": "00024-fa24b2a2-9bb2-4e71-88c4-678ae1058a36",
    "deepnote_cell_type": "markdown"
   }
  },
  {
   "cell_type": "code",
   "metadata": {
    "cell_id": "00025-6360eceb-da2c-40f3-9c67-be4bb8e1a0f7",
    "deepnote_cell_type": "code"
   },
   "source": "import numpy as np\ndef quicksort(A, lo=0, hi=None):\n    \"Sort A and return sorted array\"\n\n    # Initialise data the first time function is called    \n    if hi is None:\n        A = A.copy()\n        hi = len(A) - 1\n\n    # Sort    \n    if lo < hi:\n        p = partition(A, lo,  hi)\n        quicksort(A, lo, p - 1)\n        quicksort(A, p + 1, hi)\n    return A\n\n\ndef partition(A, lo, hi):\n    \"Partitioning function for use in quicksort\"\n    pivot = A[hi]\n    i = lo\n    for j in range(lo,  hi):\n        if A[j] <= pivot:\n            A[i], A[j] = A[j], A[i]\n            i += 1\n    A[i], A[hi] = A[hi], A[i]\n    return i",
   "outputs": [],
   "execution_count": null
  },
  {
   "cell_type": "markdown",
   "source": "We do not want to focus on details of the quicksort algorithm, but do wish to highlight the close resemblance between the pseudocode and the Python implementation.\n\nWe now test the implementation for an array of random numbers:",
   "metadata": {
    "cell_id": "00026-30f3860e-6d67-466e-afb5-eb3a1e3401b7",
    "deepnote_cell_type": "markdown"
   }
  },
  {
   "cell_type": "code",
   "metadata": {
    "cell_id": "00027-2834ba17-15b5-414c-ad89-32d70ffb9594",
    "deepnote_cell_type": "code"
   },
   "source": "x = np.random.rand(10)\nprint(\"Unsorted:\", x)\n\ny = quicksort(x)\nprint(\"Sorted:\", y)",
   "outputs": [
    {
     "name": "stdout",
     "output_type": "stream",
     "text": "Unsorted: [0.81955124 0.61694178 0.58068718 0.30874128 0.73170659 0.28017789\n 0.89566209 0.57739993 0.64522469 0.89958876]\nSorted: [0.28017789 0.30874128 0.57739993 0.58068718 0.61694178 0.64522469\n 0.73170659 0.81955124 0.89566209 0.89958876]\n"
    }
   ],
   "execution_count": null
  },
  {
   "cell_type": "markdown",
   "source": "## Sort performance \n\nBubble sort and quicksort both sort arrays. So which is better? Let's test \nthe performance on an array of 5,000 random numbers:",
   "metadata": {
    "cell_id": "00028-739a80ef-7114-4d16-89ac-f3b282bbfc0f",
    "deepnote_cell_type": "markdown"
   }
  },
  {
   "cell_type": "code",
   "metadata": {
    "cell_id": "00029-21ec5320-4381-4112-88f6-d01bffeef7b0",
    "deepnote_cell_type": "code"
   },
   "source": "data = np.random.rand(5000)",
   "outputs": [],
   "execution_count": null
  },
  {
   "cell_type": "markdown",
   "source": "We first time bubble sort, using the magic command [`%time`](Notebook%20tips.ipynb#Simple-timing) to get the execution time:",
   "metadata": {
    "cell_id": "00030-43c89a9c-3c61-4934-8749-b41ac345f53b",
    "deepnote_cell_type": "markdown"
   }
  },
  {
   "cell_type": "code",
   "metadata": {
    "cell_id": "00031-b451af42-e191-41c4-81fd-26267e33e003",
    "deepnote_cell_type": "code"
   },
   "source": "%time x = bubble_sort(data)",
   "outputs": [
    {
     "name": "stdout",
     "output_type": "stream",
     "text": "CPU times: user 3.32 s, sys: 0 ns, total: 3.32 s\nWall time: 3.32 s\n"
    }
   ],
   "execution_count": null
  },
  {
   "cell_type": "markdown",
   "source": "And now quicksort:",
   "metadata": {
    "cell_id": "00032-4752f622-6113-4d99-9917-4600d11a406c",
    "deepnote_cell_type": "markdown"
   }
  },
  {
   "cell_type": "code",
   "metadata": {
    "cell_id": "00033-cdba9781-af31-49d0-9927-c59ec7750b82",
    "deepnote_cell_type": "code"
   },
   "source": "%time x = quicksort(data)",
   "outputs": [
    {
     "name": "stdout",
     "output_type": "stream",
     "text": "CPU times: user 25.4 ms, sys: 0 ns, total: 25.4 ms\nWall time: 25.2 ms\n"
    }
   ],
   "execution_count": null
  },
  {
   "cell_type": "markdown",
   "source": "Clearly, quicksort is *much* faster than bubble sort. \n\nFinally, we test the NumPy quicksort function:",
   "metadata": {
    "cell_id": "00034-254bae0a-9121-4a7d-8258-e112cc3b16e4",
    "deepnote_cell_type": "markdown"
   }
  },
  {
   "cell_type": "code",
   "metadata": {
    "cell_id": "00035-c8b8f158-6287-4be6-ae0c-68167fd8aeb2",
    "deepnote_cell_type": "code"
   },
   "source": "%time x = np.sort(data, kind='quicksort')",
   "outputs": [
    {
     "name": "stdout",
     "output_type": "stream",
     "text": "CPU times: user 368 µs, sys: 6 µs, total: 374 µs\nWall time: 269 µs\n"
    }
   ],
   "execution_count": null
  },
  {
   "cell_type": "markdown",
   "source": "The NumPy implementation is considerably faster than our implementation of quicksort.",
   "metadata": {
    "cell_id": "00036-60e52bb0-17a9-4acf-a279-c33a2df0dda6",
    "deepnote_cell_type": "markdown"
   }
  },
  {
   "cell_type": "markdown",
   "source": "# Summary\n\nWe have looked at search and sorting as examples of algorithms.\nSometimes we need to write algorithms for a\nspecialised problem. However, for common algorithms like search and sorting always use the built-in/library versions. These will be faster and better tested.",
   "metadata": {
    "cell_id": "00037-a2d75b38-fb86-40a1-bdde-a81dd0d3bde7",
    "deepnote_cell_type": "markdown"
   }
  },
  {
   "cell_type": "markdown",
   "source": "# Exercises\n\nComplete now the [10 Exercises](Exercises/10%20Exercises.ipynb) notebook.",
   "metadata": {
    "cell_id": "00038-28909752-756c-4e25-9c6d-9087be014ede",
    "deepnote_cell_type": "markdown"
   }
  },
  {
   "cell_type": "markdown",
   "source": "<a style='text-decoration:none;line-height:16px;display:flex;color:#5B5B62;padding:10px;justify-content:end;' href='https://deepnote.com?utm_source=created-in-deepnote-cell&projectId=b21ecfca-1024-46a4-860c-35a51c91b2b7' target=\"_blank\">\n<img alt='Created in deepnote.com' style='display:inline;max-height:16px;margin:0px;margin-right:7.5px;' src='data:image/svg+xml;base64,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' > </img>\nCreated in <span style='font-weight:600;margin-left:4px;'>Deepnote</span></a>",
   "metadata": {
    "tags": [],
    "created_in_deepnote_cell": true,
    "deepnote_cell_type": "markdown"
   }
  }
 ],
 "nbformat": 4,
 "nbformat_minor": 1,
 "metadata": {
  "kernelspec": {
   "display_name": "Python 3",
   "language": "python",
   "name": "python3"
  },
  "language_info": {
   "codemirror_mode": {
    "name": "ipython",
    "version": 3
   },
   "file_extension": ".py",
   "mimetype": "text/x-python",
   "name": "python",
   "nbconvert_exporter": "python",
   "pygments_lexer": "ipython3",
   "version": "3.6.6"
  },
  "deepnote_notebook_id": "7fb50f66-0316-4003-8dca-ada7ee41b5e4",
  "deepnote": {},
  "deepnote_execution_queue": []
 }
}