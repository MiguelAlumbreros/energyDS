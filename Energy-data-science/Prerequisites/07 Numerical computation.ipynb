{
 "cells": [
  {
   "cell_type": "markdown",
   "source": "# Introduction\n\nWorking with numbers is central to almost all scientific and engineering computations. \nThe topic is so important that there are many dedicated libraries to help implement efficient numerical\ncomputations. There are even languages that are specifically designed for numerical computation, such as Fortran\nand MATLAB.\n\nNumPy (http://www.numpy.org/) is the most widely used Python library for numerical computations.  It provides an extensive range of data structures and functions for numerical\ncomputation. In this notebook we will explore just some of the functionality.\nYou will be seeing NumPy in other courses. NumPy can perform many of the operations that you will learn\nduring the mathematics courses.\n\nAnother library, which largely builds on NumPy and provides additional functionality, is SciPy (https://www.scipy.org/). SciPy provides some  more specialised data structures and functions over NumPy. \nIf you are familiar with MATLAB, NumPy and SciPy provide much of what is available in MATLAB.\n\nNumPy is a large and extensive library and this activity is just a very brief introduction.\nTo discover how to perform operations with NumPy, your best resources are search engines, such as http://stackoverflow.com/.\n\n\n## Objectives\n\n- Introduction to 1D and 2D arrays (vector and matrices) \n- Manipulating arrays (indexing, slicing, etc)\n- Apply elementary numerical operations\n- Demonstrate efficiency differences between vectorised and non-vectorised functions",
   "metadata": {
    "cell_id": "00000-1b1d4077-d07c-431e-aa68-459a9aafa041",
    "deepnote_cell_type": "markdown"
   }
  },
  {
   "cell_type": "markdown",
   "source": "# Importing the NumPy module\n\nTo make NumPy available in our programs, we need to import the module. It has become an informal custom to import NumPy using the shortcut '`np`': ",
   "metadata": {
    "cell_id": "00001-21433a0d-083e-44bc-91d9-c35f4341c7f9",
    "deepnote_cell_type": "markdown"
   }
  },
  {
   "cell_type": "code",
   "metadata": {
    "cell_id": "00002-824c5c7d-7ac0-4301-a069-a1b4b39504cc",
    "deepnote_cell_type": "code"
   },
   "source": "import numpy as np",
   "execution_count": null,
   "outputs": []
  },
  {
   "cell_type": "markdown",
   "source": "# Numerical arrays\n\nWe have already seen Python 'lists', which hold 'arrays' of data.  We can access the elements of a list using an index because the entries are stored in order. Python lists are very flexible and can hold mixed data types, e.g. combinations of floats and strings, or even lists of lists of lists . . .\n\nThe flexibility of Python lists comes at the expense of performance. Many science, engineering and mathematics problems involve very large problems with operations on numbers, and computational speed is important for large problems. To serve this need, we normally use specialised functions and data structures for numerical computation, and in particular for arrays of numbers. Some of the flexibility of lists is traded for performance.",
   "metadata": {
    "collapsed": true,
    "cell_id": "00003-fa2027f6-5a9b-416a-a7ba-39779f0a605f",
    "deepnote_cell_type": "markdown"
   }
  },
  {
   "cell_type": "markdown",
   "source": "## One-dimensional arrays\n\nA one-dimensional array is a collection of numbers which we can access by index (it preserves order).",
   "metadata": {
    "cell_id": "00004-80a5b6eb-b801-45e4-a62b-ca973673ccad",
    "deepnote_cell_type": "markdown"
   }
  },
  {
   "cell_type": "markdown",
   "source": "### Creating arrays and indexing \n\nTo create a NumPy array of length 10 and initially filled with zeros:",
   "metadata": {
    "cell_id": "00005-629e7df7-89f8-4a52-81e5-3eecee5a93b6",
    "deepnote_cell_type": "markdown"
   }
  },
  {
   "cell_type": "code",
   "metadata": {
    "cell_id": "00006-eb9c8986-6c2e-44fd-abdd-d83fe30a679b",
    "deepnote_cell_type": "code"
   },
   "source": "x = np.zeros(10)\n\nprint(x)\nprint(type(x))",
   "execution_count": null,
   "outputs": []
  },
  {
   "cell_type": "markdown",
   "source": "The default type of a NumPy array is `float`. The type can be checked with",
   "metadata": {
    "cell_id": "00007-802535dd-82e1-4171-ac59-85457a3b8ba2",
    "deepnote_cell_type": "markdown"
   }
  },
  {
   "cell_type": "code",
   "metadata": {
    "cell_id": "00008-4671f7c3-d912-4d65-b9a1-13cf3f6c30fd",
    "deepnote_cell_type": "code"
   },
   "source": "print(x.dtype)",
   "execution_count": null,
   "outputs": []
  },
  {
   "cell_type": "markdown",
   "source": "You cannot, for example, add a `string` to a `numpy.ndarray`. All entries in the array have the same type.\n\nWe can check the length of an array using `len`, which gives the number of entries in the array:",
   "metadata": {
    "cell_id": "00009-baaf20b6-122a-4799-a236-ef96191ad259",
    "deepnote_cell_type": "markdown"
   }
  },
  {
   "cell_type": "code",
   "metadata": {
    "cell_id": "00010-de544305-93cf-4934-8ba3-f98341223289",
    "deepnote_cell_type": "code"
   },
   "source": "print(len(x))",
   "execution_count": null,
   "outputs": []
  },
  {
   "cell_type": "markdown",
   "source": "A better way to check the length is to use `x.shape`, which returns a tuple with the dimensions of the array:",
   "metadata": {
    "cell_id": "00011-c1f8434a-7d7a-4353-8359-f3c0db1983dc",
    "deepnote_cell_type": "markdown"
   }
  },
  {
   "cell_type": "code",
   "metadata": {
    "cell_id": "00012-da2076c4-07de-4a9f-b11c-57963a4d2374",
    "deepnote_cell_type": "code"
   },
   "source": "print(x.shape)",
   "execution_count": null,
   "outputs": []
  },
  {
   "cell_type": "markdown",
   "source": "`shape` tells us the size of the array in *each* direction. We will see two-dimensional arrays shortly (matrices), which have a size in each direction.",
   "metadata": {
    "cell_id": "00013-95ac7d3f-da8b-4e40-a17f-1842f7e8d62e",
    "deepnote_cell_type": "markdown"
   }
  },
  {
   "cell_type": "markdown",
   "source": "We can change the entries of an array using indexing,",
   "metadata": {
    "cell_id": "00014-26142f6a-e41a-4b3e-be2d-9984a8247a47",
    "deepnote_cell_type": "markdown"
   }
  },
  {
   "cell_type": "code",
   "metadata": {
    "cell_id": "00015-f0540419-0850-48db-8aee-f7d8637bcbe1",
    "deepnote_cell_type": "code"
   },
   "source": "print(x)\n\nx[0] = 10.0\nx[3] = -4.3\nx[9] = 1.0\n\nprint(x)",
   "execution_count": null,
   "outputs": [
    {
     "name": "stdout",
     "output_type": "stream",
     "text": "[0. 0. 0. 0. 0. 0. 0. 0. 0. 0.]\n[10.   0.   0.  -4.3  0.   0.   0.   0.   0.   1. ]\n"
    }
   ]
  },
  {
   "cell_type": "markdown",
   "source": "Remember that indexing starts from zero!\n\nThere are other ways to create arrays, such as an array of 'ones':",
   "metadata": {
    "cell_id": "00016-685d0c8c-d6fc-4dd0-ae92-2d309bad2101",
    "deepnote_cell_type": "markdown"
   }
  },
  {
   "cell_type": "code",
   "metadata": {
    "cell_id": "00017-10f3c77f-aaac-43f3-bcdb-eb57d753d5de",
    "deepnote_cell_type": "code"
   },
   "source": "y = np.ones(5)\nprint(y)",
   "execution_count": null,
   "outputs": [
    {
     "name": "stdout",
     "output_type": "stream",
     "text": "[1. 1. 1. 1. 1.]\n"
    }
   ]
  },
  {
   "cell_type": "markdown",
   "source": "an array of random values:",
   "metadata": {
    "cell_id": "00018-f8055d7c-2961-4489-8980-11ecebb901e1",
    "deepnote_cell_type": "markdown"
   }
  },
  {
   "cell_type": "code",
   "metadata": {
    "cell_id": "00019-4dcd25f6-ae1b-485b-aac5-c0a176f13ae0",
    "deepnote_cell_type": "code"
   },
   "source": "y = np.random.rand(6)\nprint(y)",
   "execution_count": null,
   "outputs": [
    {
     "name": "stdout",
     "output_type": "stream",
     "text": "[0.60861561 0.6364807  0.27694109 0.68383925 0.76173909 0.56105644]\n"
    }
   ]
  },
  {
   "cell_type": "markdown",
   "source": "or a NumPy array from a Python list:",
   "metadata": {
    "cell_id": "00020-90570209-8d64-49f9-a014-65c9f6d60851",
    "deepnote_cell_type": "markdown"
   }
  },
  {
   "cell_type": "code",
   "metadata": {
    "cell_id": "00021-4a354098-f003-4e1d-a06d-3270deb77410",
    "deepnote_cell_type": "code"
   },
   "source": "x = [4.0, 8.0, 9.0, 11.0, -2.0]\ny = np.array(x)\nprint(y)",
   "execution_count": null,
   "outputs": [
    {
     "name": "stdout",
     "output_type": "stream",
     "text": "[ 4.  8.  9. 11. -2.]\n"
    }
   ]
  },
  {
   "cell_type": "markdown",
   "source": "Two more methods for creating arrays which we will use in later notebooks are:\n\n- `numpy.arange`; and \n- `numpy.linspace`. \n\nThey are particularly useful for plotting functions.\nThe function `arange` creates an array with equally spaced values. It is similar in some cases to `range`, which we have seen earlier. To create the array `[0 1 2 3 4 5]` using `arange`:",
   "metadata": {
    "cell_id": "00022-9a1a492d-4e89-4055-9a70-e7c2e2a16f08",
    "deepnote_cell_type": "markdown"
   }
  },
  {
   "cell_type": "code",
   "metadata": {
    "cell_id": "00023-0b6a4f2d-fa76-4080-805e-a2c779ee2e5e",
    "deepnote_cell_type": "code"
   },
   "source": "x = np.arange(6)\nprint(x)\nprint(type(x))",
   "execution_count": null,
   "outputs": [
    {
     "name": "stdout",
     "output_type": "stream",
     "text": "[0 1 2 3 4 5]\n<class 'numpy.ndarray'>\n"
    }
   ]
  },
  {
   "cell_type": "markdown",
   "source": "Note that '6' is not included. We can change the start value, e.g.:",
   "metadata": {
    "cell_id": "00024-d615d297-101b-44d9-aae5-4edb8645a230",
    "deepnote_cell_type": "markdown"
   }
  },
  {
   "cell_type": "code",
   "metadata": {
    "cell_id": "00025-cf9784b5-1497-4b84-a905-61780574b265",
    "deepnote_cell_type": "code"
   },
   "source": "x = np.arange(2, 6)\nprint(x)",
   "execution_count": null,
   "outputs": [
    {
     "name": "stdout",
     "output_type": "stream",
     "text": "[2 3 4 5]\n"
    }
   ]
  },
  {
   "cell_type": "markdown",
   "source": "The function `linspace` creates an array with prescribed start and end values (both are included), and a prescribed number on values, all equally spaced:",
   "metadata": {
    "cell_id": "00026-274434a3-efbf-4c86-b64d-50b7f1069aa5",
    "deepnote_cell_type": "markdown"
   }
  },
  {
   "cell_type": "code",
   "metadata": {
    "cell_id": "00027-13f3def5-a7e6-4da9-a292-720e1fab26ea",
    "deepnote_cell_type": "code"
   },
   "source": "x = np.linspace(0, 100, 6)\nprint(x)",
   "execution_count": null,
   "outputs": [
    {
     "name": "stdout",
     "output_type": "stream",
     "text": "[  0.  20.  40.  60.  80. 100.]\n"
    }
   ]
  },
  {
   "cell_type": "markdown",
   "source": "The `linspace` function is used extensively for plotting, as we will see in the next notebook.",
   "metadata": {
    "cell_id": "00028-c4b00a0c-ae99-468f-b364-fc1b47ed9374",
    "deepnote_cell_type": "markdown"
   }
  },
  {
   "cell_type": "markdown",
   "source": "### Array arithmetic and functions\n\nNumPy arrays support common arithmetic operations, such as addition of two arrays",
   "metadata": {
    "cell_id": "00029-a04870b2-57a7-4012-86c0-e6f440b3104d",
    "deepnote_cell_type": "markdown"
   }
  },
  {
   "cell_type": "code",
   "metadata": {
    "cell_id": "00030-fc887f62-3dfa-4fe8-be4b-22910a0a318f",
    "deepnote_cell_type": "code"
   },
   "source": "x = np.array([1.0, 0.2, 1.2])\ny = np.array([2.0, 0.1, 2.1])\nprint(x)\nprint(y)\n\n# Sum x and y\nz = x + y\nprint(z)",
   "execution_count": null,
   "outputs": [
    {
     "name": "stdout",
     "output_type": "stream",
     "text": "[1.  0.2 1.2]\n[2.  0.1 2.1]\n[3.  0.3 3.3]\n"
    }
   ]
  },
  {
   "cell_type": "markdown",
   "source": "and multiplication of components by a scalar,",
   "metadata": {
    "cell_id": "00031-b4ea2820-8a29-4626-a18c-5bafe74dd244",
    "deepnote_cell_type": "markdown"
   }
  },
  {
   "cell_type": "code",
   "metadata": {
    "cell_id": "00032-ffa72f02-f50f-4468-b653-49009bdbb630",
    "deepnote_cell_type": "code"
   },
   "source": "z = 10.0*x\nprint(z)",
   "execution_count": null,
   "outputs": [
    {
     "name": "stdout",
     "output_type": "stream",
     "text": "[10.  2. 12.]\n"
    }
   ]
  },
  {
   "cell_type": "markdown",
   "source": "and raising components to a power:",
   "metadata": {
    "cell_id": "00033-bcbafe54-e721-442d-9f62-76e7d274bfc4",
    "deepnote_cell_type": "markdown"
   }
  },
  {
   "cell_type": "code",
   "metadata": {
    "cell_id": "00034-8c5c2eda-9703-4183-b42c-0e31c383a1a1",
    "deepnote_cell_type": "code"
   },
   "source": "x = np.array([2, 3, 4])\nprint(x**2)",
   "execution_count": null,
   "outputs": [
    {
     "name": "stdout",
     "output_type": "stream",
     "text": "[ 4  9 16]\n"
    }
   ]
  },
  {
   "cell_type": "markdown",
   "source": "We can also apply functions to the components of an array:",
   "metadata": {
    "cell_id": "00035-548c3987-24ff-4442-9d44-ff5f069a891c",
    "deepnote_cell_type": "markdown"
   }
  },
  {
   "cell_type": "code",
   "metadata": {
    "cell_id": "00036-8829a538-f3ee-4f94-aec4-1105a277716e",
    "deepnote_cell_type": "code"
   },
   "source": "# Create an array [0, π/2, π, 3π/2]\nx = np.array([0.0, np.pi/2, np.pi, 3*np.pi/2])\nprint(x)\n\n# Compute sine of each entry\ny = np.sin(x)\nprint(y)",
   "execution_count": null,
   "outputs": [
    {
     "name": "stdout",
     "output_type": "stream",
     "text": "[0.         1.57079633 3.14159265 4.71238898]\n[ 0.0000000e+00  1.0000000e+00  1.2246468e-16 -1.0000000e+00]\n"
    }
   ]
  },
  {
   "cell_type": "markdown",
   "source": "The above has computed the sine of each entry in the array `x`.\n\nNote that the function `np.sin` is used, and not `math.sin` (which was used in previous notebooks). The reason is that `np.sin` is more general -  it can act on lists/arrays of values rather than on just one value. We will apply functions to arrays in the next notebook to plot functions.",
   "metadata": {
    "cell_id": "00037-30476581-b24c-4a3c-a32b-a2b5687c9531",
    "deepnote_cell_type": "markdown"
   }
  },
  {
   "cell_type": "markdown",
   "source": "We could have computed the sine of each array entry using `for` loops:",
   "metadata": {
    "cell_id": "00038-c671fc91-9e00-469c-bc72-ca5299490548",
    "deepnote_cell_type": "markdown"
   }
  },
  {
   "cell_type": "code",
   "metadata": {
    "cell_id": "00039-2ad98487-56a4-4a49-a7ec-245fd2a9d77e",
    "deepnote_cell_type": "code"
   },
   "source": "y = np.zeros(len(x))\nfor i in range(len(x)):\n    y[i] = np.sin(x[i])\n\nprint(y)",
   "execution_count": null,
   "outputs": [
    {
     "name": "stdout",
     "output_type": "stream",
     "text": "[ 0.0000000e+00  1.0000000e+00  1.2246468e-16 -1.0000000e+00]\n"
    }
   ]
  },
  {
   "cell_type": "markdown",
   "source": "but the program becomes longer and harder to read. Additionally, in many cases it will be much slower. \nYou might see manipulation of arrays without indexing referred to as 'vectorisation'. When possible, vectorisation is a good thing to do. We compare the performance of indexing versus vectorisation below.",
   "metadata": {
    "cell_id": "00040-fe0cd3b5-c928-4dd8-9f29-23ca87122263",
    "deepnote_cell_type": "markdown"
   }
  },
  {
   "cell_type": "markdown",
   "source": "### Performance example: computing the norm of a long vector\n\nThe norm of a vector $x$ is given by: \n\n$$\n\\| x \\| = \\sqrt{\\sum_{i=0}^{n-1} x_{i} x_{i}}\n$$\n\nwhere $x_{i}$ is the $i$th entry of $x$. It is the dot product of a vector with itself, \nfollowed by taking the square root.\nTo compute the norm, we could loop/iterate over the entries of the vector and sum the square of each entry, and then take the square root of the result.\n\nWe will evaluate the norm using two methods for computing the norm of an array of length 10 million to compare their performance. We first create a vector with 10 million random entries, using NumPy:",
   "metadata": {
    "cell_id": "00041-2332126d-ce8d-4ec1-af26-acc1e696e16b",
    "deepnote_cell_type": "markdown"
   }
  },
  {
   "cell_type": "code",
   "metadata": {
    "cell_id": "00042-be0e2724-7edf-4952-bb74-efc2132e7b81",
    "deepnote_cell_type": "code"
   },
   "source": "# Create a NumPy array with 10 million random values\nx = np.random.rand(10000000)\nprint(type(x))",
   "execution_count": null,
   "outputs": [
    {
     "name": "stdout",
     "output_type": "stream",
     "text": "<class 'numpy.ndarray'>\n"
    }
   ]
  },
  {
   "cell_type": "markdown",
   "source": "We now time how long it takes to compute the norm of the vector using the NumPy function '`numpy.dot`'. We use the Jupyter 'magic command' [`%time`](Notebook%20tips.ipynb#Simple-timing) to time the operation: ",
   "metadata": {
    "cell_id": "00043-061570f0-f7e2-49a0-8c7d-9da52a912a9b",
    "deepnote_cell_type": "markdown"
   }
  },
  {
   "cell_type": "code",
   "metadata": {
    "cell_id": "00044-59d74228-e976-43f2-a559-6b5e286cb866",
    "deepnote_cell_type": "code"
   },
   "source": "%time norm = np.sqrt(np.dot(x, x))\nprint(norm)",
   "execution_count": null,
   "outputs": [
    {
     "name": "stdout",
     "output_type": "stream",
     "text": "CPU times: user 6.34 ms, sys: 0 ns, total: 6.34 ms\nWall time: 5.34 ms\n1825.4805730455523\n"
    }
   ]
  },
  {
   "cell_type": "markdown",
   "source": "The time output of interest is '`Wall time`'.\n\n> The details of how `%time` works are not important for this course. We use it as a compact and covenient tool to \n> measure how much time a command takes to execute.\n\nWe now perform the same operation with our own function for computing the norm:",
   "metadata": {
    "cell_id": "00045-75a50271-39f2-4ba4-afd2-f0fc2336aff9",
    "deepnote_cell_type": "markdown"
   }
  },
  {
   "cell_type": "code",
   "metadata": {
    "cell_id": "00046-79e98d81-914a-46a6-8b70-1a3447f6b0fb",
    "deepnote_cell_type": "code"
   },
   "source": "def compute_norm(x):\n    norm = 0.0\n    for xi in x:\n        norm += xi*xi\n    return np.sqrt(norm)\n\n%time norm =compute_norm(x)\nprint(norm)",
   "execution_count": null,
   "outputs": [
    {
     "name": "stdout",
     "output_type": "stream",
     "text": "CPU times: user 1.15 s, sys: 2.24 ms, total: 1.15 s\nWall time: 1.15 s\n1825.480573045718\n"
    }
   ]
  },
  {
   "cell_type": "markdown",
   "source": "You should see that the two approaches give the same result, but the \nNumPy function is more than 100 times faster, and possibly more than 100,000 times faster!\n\nThe message is that specialised functions and data structures for numerical computations can be many orders of magnitude faster than your own general implementations. On top of that, the specialised functions are much less \nlikely to have bugs!",
   "metadata": {
    "cell_id": "00047-e97a2698-00fe-4ec6-98bf-3ddcdc263ea5",
    "deepnote_cell_type": "markdown"
   }
  },
  {
   "cell_type": "markdown",
   "source": "## Two-dimensional arrays\n\nTwo-dimensional arrays are very useful for arranging data in many engineering applications and for performing mathematical operations. Commonly, 2D arrays are used to represents matrices. To create the matrix\n\n$$\nA = \n\\begin{bmatrix} \n2.2 & 3.7 & 9.1\\\\ \n-4 & 3.1 & 1.3\n\\end{bmatrix} \n$$\n\nwe use:",
   "metadata": {
    "cell_id": "00048-95437628-ef6c-49cb-87b9-7f32e4cfb6d9",
    "deepnote_cell_type": "markdown"
   }
  },
  {
   "cell_type": "code",
   "metadata": {
    "cell_id": "00049-32ce57ad-4fd8-4360-8bdd-e0e6298b9272",
    "deepnote_cell_type": "code"
   },
   "source": "A = np.array([[2.2, 3.7, 9.1], [-4.0, 3.1, 1.3]])\nprint(A)",
   "execution_count": null,
   "outputs": [
    {
     "name": "stdout",
     "output_type": "stream",
     "text": "[[ 2.2  3.7  9.1]\n [-4.   3.1  1.3]]\n"
    }
   ]
  },
  {
   "cell_type": "markdown",
   "source": "If we check the length of `A`:",
   "metadata": {
    "cell_id": "00050-c024abfc-061f-4c77-9536-848c90cf0148",
    "deepnote_cell_type": "markdown"
   }
  },
  {
   "cell_type": "code",
   "metadata": {
    "cell_id": "00051-a1763dcb-c94b-4b9b-a549-1fd0ae5727b6",
    "deepnote_cell_type": "code"
   },
   "source": "print(len(A))",
   "execution_count": null,
   "outputs": [
    {
     "name": "stdout",
     "output_type": "stream",
     "text": "2\n"
    }
   ]
  },
  {
   "cell_type": "markdown",
   "source": "it reports the number of rows. To get the shape of the array, we use:",
   "metadata": {
    "cell_id": "00052-5d6f081e-7e17-4a37-ae5f-9bef2d5db8b6",
    "deepnote_cell_type": "markdown"
   }
  },
  {
   "cell_type": "code",
   "metadata": {
    "cell_id": "00053-f87cbbc3-c2da-4d6f-a88a-c82bc237a75a",
    "deepnote_cell_type": "code"
   },
   "source": "print(A.shape)",
   "execution_count": null,
   "outputs": [
    {
     "name": "stdout",
     "output_type": "stream",
     "text": "(2, 3)\n"
    }
   ]
  },
  {
   "cell_type": "markdown",
   "source": "which reports 2 rows and 3 columns (stored using a tuple). To get the number of rows and the number of columns,",
   "metadata": {
    "cell_id": "00054-914441f1-01c0-4e76-abfe-d57b3eea46e4",
    "deepnote_cell_type": "markdown"
   }
  },
  {
   "cell_type": "code",
   "metadata": {
    "cell_id": "00055-d36501bc-5a24-44d7-b61a-be90c003340c",
    "deepnote_cell_type": "code"
   },
   "source": "num_rows = A.shape[0]\nnum_cols = A.shape[1]\nprint(\"Number of rows is {}, number of columns is {}.\".format(num_rows, num_cols))",
   "execution_count": null,
   "outputs": [
    {
     "name": "stdout",
     "output_type": "stream",
     "text": "Number of rows is 2, number of columns is 3.\n"
    }
   ]
  },
  {
   "cell_type": "markdown",
   "source": "We can 'index' into a 2D array using two indices, the first for the row index and the second for the column index:",
   "metadata": {
    "cell_id": "00056-eb33e3a6-573c-4c55-9ceb-24c7bf232e2d",
    "deepnote_cell_type": "markdown"
   }
  },
  {
   "cell_type": "code",
   "metadata": {
    "cell_id": "00057-7ee9fb22-6d0b-4bb2-bad6-ed4c067686da",
    "deepnote_cell_type": "code"
   },
   "source": "A02 = A[0, 2]\nprint(A02)",
   "execution_count": null,
   "outputs": [
    {
     "name": "stdout",
     "output_type": "stream",
     "text": "9.1\n"
    }
   ]
  },
  {
   "cell_type": "markdown",
   "source": "With `A[1]`, we will get the second row:",
   "metadata": {
    "cell_id": "00058-176e0970-f7d5-4fae-9b93-1743799c9170",
    "deepnote_cell_type": "markdown"
   }
  },
  {
   "cell_type": "code",
   "metadata": {
    "cell_id": "00059-60d66f29-303c-46a0-9e22-7ac996cbf647",
    "deepnote_cell_type": "code"
   },
   "source": "print(A[1])",
   "execution_count": null,
   "outputs": [
    {
     "name": "stdout",
     "output_type": "stream",
     "text": "[-4.   3.1  1.3]\n"
    }
   ]
  },
  {
   "cell_type": "markdown",
   "source": "We can iterate over the entries of `A` by iterating over the rows, and then the entry in each row:",
   "metadata": {
    "cell_id": "00060-48372dd3-4949-4e10-b2e4-712015d353d3",
    "deepnote_cell_type": "markdown"
   }
  },
  {
   "cell_type": "code",
   "metadata": {
    "cell_id": "00061-1c122aa8-bc93-4b5e-86cf-1835c1a714b0",
    "deepnote_cell_type": "code"
   },
   "source": "for row in A:\n    print(\"-----\")\n    for c in row:\n        print(c)",
   "execution_count": null,
   "outputs": [
    {
     "name": "stdout",
     "output_type": "stream",
     "text": "-----\n2.2\n3.7\n9.1\n-----\n-4.0\n3.1\n1.3\n"
    }
   ]
  },
  {
   "cell_type": "markdown",
   "source": "> **Warning:** NumPy has a `numpy.matrix` data structure. Its use is not recommended as it behaves inconsistently in some cases.",
   "metadata": {
    "cell_id": "00062-995cb6ce-9725-4f31-b5a0-d6ec394b707a",
    "deepnote_cell_type": "markdown"
   }
  },
  {
   "cell_type": "markdown",
   "source": "### 2D array (matrix) operations\n\nFor those who have seen matrices previously, the operations in this section will be familiar. For those who have not encountered matrices, you might want to revisit this section once matrices have been covered in the mathematics lectures.",
   "metadata": {
    "cell_id": "00063-eafe9909-ebd0-4409-ae75-d65cf03a9a5c",
    "deepnote_cell_type": "markdown"
   }
  },
  {
   "cell_type": "markdown",
   "source": "#### Matrix-vector and matrix-matrix multiplication\n\nWe will consider the matrix $A$:\n\n$$\nA  = \n\\begin{bmatrix}\n3.4 & 2.6 \\\\\n2.1 & 4.5\n\\end{bmatrix}\n$$\n\nand the vector $x$:\n\n$$\nx  = \n\\begin{bmatrix}\n0.2 \\\\ -1.1\n\\end{bmatrix}\n$$",
   "metadata": {
    "cell_id": "00064-93417183-3266-467e-b58d-ff430d5304e2",
    "deepnote_cell_type": "markdown"
   }
  },
  {
   "cell_type": "code",
   "metadata": {
    "cell_id": "00065-9a8cb96c-802d-4028-8a78-3fac10e9c68e",
    "deepnote_cell_type": "code"
   },
   "source": "A = np.array([[3.4, 2.6], [2.1, 4.5]])\nprint(\"Matrix A:\\n {}\".format(A))\n\nx = np.array([0.2, -1.1])\nprint(\"Vector x:\\n {}\".format(x))",
   "execution_count": null,
   "outputs": [
    {
     "name": "stdout",
     "output_type": "stream",
     "text": "Matrix A:\n [[3.4 2.6]\n [2.1 4.5]]\nVector x:\n [ 0.2 -1.1]\n"
    }
   ]
  },
  {
   "cell_type": "markdown",
   "source": "We can compute the matrix-vector product $y = Ax$ by:",
   "metadata": {
    "cell_id": "00066-cbb0d6a8-9aba-4e5c-b6fb-034d1d00d1df",
    "deepnote_cell_type": "markdown"
   }
  },
  {
   "cell_type": "code",
   "metadata": {
    "cell_id": "00067-2ce4956e-d6d0-4c13-ad7c-9bab61f026b3",
    "deepnote_cell_type": "code"
   },
   "source": "y = A.dot(x)\nprint(y)",
   "execution_count": null,
   "outputs": [
    {
     "name": "stdout",
     "output_type": "stream",
     "text": "[-2.18 -4.53]\n"
    }
   ]
  },
  {
   "cell_type": "markdown",
   "source": "Matrix-matrix multiplication is performed similarly. Computing $C = AB$, where $A$, $B$, and $C$ are all matrices:",
   "metadata": {
    "cell_id": "00068-a9f42c9c-3f84-4413-9d1f-679d278788cd",
    "deepnote_cell_type": "markdown"
   }
  },
  {
   "cell_type": "code",
   "metadata": {
    "cell_id": "00069-48bfb22a-3163-47cf-8b9c-340dc95d38ca",
    "deepnote_cell_type": "code"
   },
   "source": "B = np.array([[1.3, 0], [0, 2.0]])\n\nC = A.dot(B)\nprint(C)",
   "execution_count": null,
   "outputs": [
    {
     "name": "stdout",
     "output_type": "stream",
     "text": "[[4.42 5.2 ]\n [2.73 9.  ]]\n"
    }
   ]
  },
  {
   "cell_type": "markdown",
   "source": "The inverse of a matrix ($A^{-1}$) and the determinant ($\\det(A)$) can be computed using functions in the NumPy submodule `linalg`:",
   "metadata": {
    "cell_id": "00070-e67264be-f568-4dd5-8451-31c8a166d724",
    "deepnote_cell_type": "markdown"
   }
  },
  {
   "cell_type": "code",
   "metadata": {
    "cell_id": "00071-0d96510a-de5d-4f36-9272-12720c82e342",
    "deepnote_cell_type": "code"
   },
   "source": "Ainv = np.linalg.inv(A)\nprint(\"Inverse of A:\\n {}\".format(Ainv))\n\nAdet = np.linalg.det(A)\nprint(\"Determinant of A: {}\".format(Adet))",
   "execution_count": null,
   "outputs": [
    {
     "name": "stdout",
     "output_type": "stream",
     "text": "Inverse of A:\n [[ 0.45731707 -0.26422764]\n [-0.21341463  0.34552846]]\nDeterminant of A: 9.839999999999998\n"
    }
   ]
  },
  {
   "cell_type": "markdown",
   "source": "> NumPy is large library, so it uses sub-modules to arrange functionality.\n\nA very common matrix is the *identity matrix* $I$. We can create a $4 \\times 4$ identity matrix using:",
   "metadata": {
    "cell_id": "00072-53d5484d-384a-4883-a218-9a491d11f04e",
    "deepnote_cell_type": "markdown"
   }
  },
  {
   "cell_type": "code",
   "metadata": {
    "cell_id": "00073-378508ba-22b9-4868-ad3b-e04f210b9e99",
    "deepnote_cell_type": "code"
   },
   "source": "I = np.eye(4)\nprint(I)",
   "execution_count": null,
   "outputs": [
    {
     "name": "stdout",
     "output_type": "stream",
     "text": "[[1. 0. 0. 0.]\n [0. 1. 0. 0.]\n [0. 0. 1. 0.]\n [0. 0. 0. 1.]]\n"
    }
   ]
  },
  {
   "cell_type": "markdown",
   "source": "# Array slicing\n\nWhen working with arrays, it is often useful to extract subsets of an array. We might want just the first 3 entries of a long array, or we might want the second column of a 2D array (matrix). These operations are known as *array slicing* (https://en.wikipedia.org/wiki/Array_slicing).\n\nWe will explore slicing through examples. We start by creating an array filled with random values:",
   "metadata": {
    "cell_id": "00074-1294e855-a671-4a75-b077-9d129470f071",
    "deepnote_cell_type": "markdown"
   }
  },
  {
   "cell_type": "code",
   "metadata": {
    "cell_id": "00075-5e40dc87-d523-4d33-b8a3-402c9fca7736",
    "deepnote_cell_type": "code"
   },
   "source": "x = np.random.rand(5)\nprint(x)",
   "execution_count": null,
   "outputs": [
    {
     "name": "stdout",
     "output_type": "stream",
     "text": "[0.65273043 0.2217967  0.71295528 0.95785112 0.02222443]\n"
    }
   ]
  },
  {
   "cell_type": "markdown",
   "source": "Below are some slicing operations:",
   "metadata": {
    "cell_id": "00076-3315f0e8-22c0-40e4-bf7b-61c5994b176e",
    "deepnote_cell_type": "markdown"
   }
  },
  {
   "cell_type": "code",
   "metadata": {
    "cell_id": "00077-1ba7cece-f796-40bb-8926-95101f59a4ad",
    "deepnote_cell_type": "code"
   },
   "source": "# Using ':' implies the whole range of indices, i.e. from 0 -> (length-1)\ny = x[:]\nprint(\"Slice using '[:]' {}\".format(y))\n\n# Using '1:3' implies indices 1 -> 3 (not including 3)\ny = x[1:3]\nprint(\"Slice using '[1:3]': {}\".format(y))\n\n# Using '2:-1' implies indices 2 -> second-from-last\ny = x[2:-1]\nprint(\"Slice using '[2:-1]': {}\".format(y))\n\n# Using '2:-2' implies indices 2 -> third-from-last\ny = x[2:-2]\nprint(\"Slice using '[2:-2]': {}\".format(y))",
   "execution_count": null,
   "outputs": [
    {
     "name": "stdout",
     "output_type": "stream",
     "text": "Slice using '[:]' [0.65273043 0.2217967  0.71295528 0.95785112 0.02222443]\nSlice using '[1:3]': [0.2217967  0.71295528]\nSlice using '[2:-1]': [0.71295528 0.95785112]\nSlice using '[2:-2]': [0.71295528]\n"
    }
   ]
  },
  {
   "cell_type": "markdown",
   "source": "> Note the use of the index `-1`. The index `-1` corresponds to the last entry in the array, and `-2` the \n> second last entry, etc. This is convenient if we know how far in from the end of an array a desired entry is.\n> By using negative indices we can express this without reference to the length of the array.",
   "metadata": {
    "cell_id": "00078-20a43ec2-770c-4d95-abe7-fcbb7de11575",
    "deepnote_cell_type": "markdown"
   }
  },
  {
   "cell_type": "markdown",
   "source": "If we want a slice to run from the start of an array, or to the end of an array, we do: ",
   "metadata": {
    "cell_id": "00079-5e9fa8a3-bdf4-44a4-803c-58ecdf0c0bb2",
    "deepnote_cell_type": "markdown"
   }
  },
  {
   "cell_type": "code",
   "metadata": {
    "cell_id": "00080-3c726534-345c-4939-8130-36170dd51067",
    "deepnote_cell_type": "code"
   },
   "source": "# Using ':3' implies start -> 3 (not including 3)\ny = x[:3]\nprint(\"Slice using '[:3]': {}\".format(y))\n\n# Using '4:' implies 4 -> end\ny = x[4:]\nprint(\"Slice using '[4:]': {}\".format(y))\n\n# Using ':' implies start -> end\ny = x[:]\nprint(\"Slice using '[:]': {}\".format(y))",
   "execution_count": null,
   "outputs": [
    {
     "name": "stdout",
     "output_type": "stream",
     "text": "Slice using '[:3]': [0.65273043 0.2217967  0.71295528]\nSlice using '[4:]': [0.02222443]\nSlice using '[:]': [0.65273043 0.2217967  0.71295528 0.95785112 0.02222443]\n"
    }
   ]
  },
  {
   "cell_type": "markdown",
   "source": "Slicing can be applied to 2D arrays:",
   "metadata": {
    "cell_id": "00081-67936317-f21f-4279-b886-61f9b873b5b2",
    "deepnote_cell_type": "markdown"
   }
  },
  {
   "cell_type": "code",
   "metadata": {
    "cell_id": "00082-35f61d9c-7f6d-4497-8381-640f98677524",
    "deepnote_cell_type": "code"
   },
   "source": "B = np.array([[1.3, 0], [0, 2.0]])\nprint(B)\n\n# Extract second row\nr = B[1, :]\nprint(r)",
   "execution_count": null,
   "outputs": [
    {
     "name": "stdout",
     "output_type": "stream",
     "text": "[[1.3 0. ]\n [0.  2. ]]\n[0. 2.]\n"
    }
   ]
  },
  {
   "cell_type": "markdown",
   "source": "There is more to array slicing syntax, for example it is possible to extract every 3rd entry. If you need to extract a sub-array, check first if you can do it using the compact array slicing syntax.",
   "metadata": {
    "cell_id": "00083-4c8ba260-88cf-4312-9fb1-a427bd200e3c",
    "deepnote_cell_type": "markdown"
   }
  },
  {
   "cell_type": "markdown",
   "source": "# Exercises\n\nComplete now the [07 Exercises](Exercises/07%20Exercises.ipynb) notebook.",
   "metadata": {
    "cell_id": "00084-9b40ea38-a352-4d2f-a741-7f4227a8c928",
    "deepnote_cell_type": "markdown"
   }
  },
  {
   "cell_type": "markdown",
   "source": "<a style='text-decoration:none;line-height:16px;display:flex;color:#5B5B62;padding:10px;justify-content:end;' href='https://deepnote.com?utm_source=created-in-deepnote-cell&projectId=b21ecfca-1024-46a4-860c-35a51c91b2b7' target=\"_blank\">\n<img alt='Created in deepnote.com' style='display:inline;max-height:16px;margin:0px;margin-right:7.5px;' src='data:image/svg+xml;base64,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' > </img>\nCreated in <span style='font-weight:600;margin-left:4px;'>Deepnote</span></a>",
   "metadata": {
    "tags": [],
    "created_in_deepnote_cell": true,
    "deepnote_cell_type": "markdown"
   }
  }
 ],
 "nbformat": 4,
 "nbformat_minor": 1,
 "metadata": {
  "kernelspec": {
   "display_name": "Python 3",
   "language": "python",
   "name": "python3"
  },
  "language_info": {
   "codemirror_mode": {
    "name": "ipython",
    "version": 3
   },
   "file_extension": ".py",
   "mimetype": "text/x-python",
   "name": "python",
   "nbconvert_exporter": "python",
   "pygments_lexer": "ipython3",
   "version": "3.6.6"
  },
  "deepnote_notebook_id": "a8f73e03-0778-4bef-8e5c-1e0269c5f687",
  "deepnote": {},
  "deepnote_execution_queue": []
 }
}