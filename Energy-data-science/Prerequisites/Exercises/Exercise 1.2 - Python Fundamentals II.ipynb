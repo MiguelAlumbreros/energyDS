{
 "cells": [
  {
   "cell_type": "markdown",
   "source": "# Data Science for Construction, Architecture and Engineering\n\n### Week 1 -  Introduction and Python Fundamentals\n\n### Exercise Set 1.2 - Python Fundamentals - Control Statements, Functions, and Libraries\n\nThis pair of exercises is the second of two sets for Week 1. These exercises are designed to give you some hands on experience in trying out the concepts from the second set of videos for this week.\n\nThere is an introduction video available to explain the process of using this exercise video.\n\nThese exercises were adapted from the Introduction to Python resources from [Garth Wells](https://notebooks.azure.com/garth-wells/projects/CUED-IA-Computing-Michaelmas).",
   "metadata": {
    "id": "6ja6S3Po4C9I",
    "colab_type": "text",
    "cell_id": "00000-1fb91519-ff8f-470c-b7e8-1ba56df2b684",
    "deepnote_cell_type": "markdown"
   }
  },
  {
   "cell_type": "markdown",
   "source": "# Exercise Set 01.2\n\nThere are three exercises in this set, each one focused on a generic exercise in the use of Python control statements and functions.\n\n### Please note that you will need to use the resultant output from Exercise 01.2.2 for the Quiz 1.2.",
   "metadata": {
    "id": "4rVMs5nJMWRF",
    "colab_type": "text",
    "cell_id": "00001-79b69a96-dbf6-47b2-b752-873592e87964",
    "deepnote_cell_type": "markdown"
   }
  },
  {
   "cell_type": "markdown",
   "source": "## Exercise 01.2.1 - Creating a short program using `if` statements\n\nConsider the following assessment criteria which map a score out of 100 to an \nassessment grade:\n\n| Grade            | Raw score  (/100)      |\n| ---------------- | ---------------------- |\n| Excellent        | $\\ge 82$               |\n| Very good        | $\\ge 76.5$ and $< 82$  |\n| Good             | $\\ge 66$ and $< 76.5$  |\n| Need improvement | $\\ge 45$ and $< 66$    |\n| Did you try?     | $< 45$                 |\n\nWrite a program that using `if`, `elif`, and `else` that given an a score, prints the appropriate grade. Print an error message if the input score is greater than 100 or less than zero.\n",
   "metadata": {
    "id": "MeE39azs4oct",
    "colab_type": "text",
    "cell_id": "00002-c11ac7a2-47c8-48bc-b31c-34d0b1eec613",
    "deepnote_cell_type": "markdown"
   }
  },
  {
   "cell_type": "code",
   "metadata": {
    "id": "C6bGD7LT43dc",
    "colab_type": "code",
    "colab": {},
    "cell_id": "00003-f29ce3bc-a782-44d6-ae6d-40a07f92c054",
    "deepnote_cell_type": "code"
   },
   "source": "# Score from user\nscore = 45\n\n# YOUR CODE HERE",
   "execution_count": 0,
   "outputs": []
  },
  {
   "cell_type": "markdown",
   "source": "## Exercise 01.2.2 - Complex Order of Operations\n\nFor the polynomial \n\\begin{align}\nf(x, y) &= (x + y)^{6} \n\\\\\n&=  x^6 + 6x^{5}y + 15x^{4}y^{2} + 20x^{3}y^{3} + 15x^{2}y^{4} + 6xy^{5} + y^{6}\n\\end{align}\ncompute $f$ using: (i) the compact form $(x + y)^{6}$; and (ii) the expanded form for:\n\n$x = 10$ and $y = 10.1$\n\nand compare the number of significant digits for which the answers are the same.\n\nStore the answer for the compact version using the variable `f0`, and using the variable `f1` for the expanded version.\n\nFor case (b), compare the computed and analytical solutions and consider the relative error.\nWhich approach would you recommend for computing this expression?",
   "metadata": {
    "id": "8Q-zAbOIUE-1",
    "colab_type": "text",
    "cell_id": "00004-0d54a28a-ed5a-4618-9ca3-f464bb20e61c",
    "deepnote_cell_type": "markdown"
   }
  },
  {
   "cell_type": "code",
   "metadata": {
    "id": "i3D1ElSYXKMf",
    "colab_type": "code",
    "colab": {},
    "cell_id": "00005-76864563-ac58-4a30-81ce-ceafa9dd9f2f",
    "deepnote_cell_type": "code"
   },
   "source": "x = 10.0\ny = 10.1\n\n# YOUR CODE HERE",
   "execution_count": 0,
   "outputs": []
  },
  {
   "cell_type": "markdown",
   "source": "### Please write down the number that you calculated for the variables `f0` and f1` and input in Quiz 1.2",
   "metadata": {
    "id": "dM8DLp5J6GuM",
    "colab_type": "text",
    "cell_id": "00006-d3fa3967-70e9-470c-8051-9563465caa8a",
    "deepnote_cell_type": "markdown"
   }
  },
  {
   "cell_type": "markdown",
   "source": "## Exercise 01.2.3 - Writing a Simple Function\n\nGiven the coordinates of the vertices of a triangle, $(x_0, y_0)$, $(x_1, y_1)$ and $(x_2, y_2)$, the area $A$ of the triangle is given by:\n$$\nA = \\left| \\frac{x_0(y_1  - y_2) + x_1(y_2 - y_0) + x_2(y_0 - y_1)}{2} \\right|\n$$\nWrite a function named `area` that computes the area of a triangle given the coordinates of the vertices.\nThe order of the function arguments must be (`x0, y0, x1, y1, x2, y2)`.\n\nHint: `abs()` calculates the absolute value\n\nTest the output of your function against with the following function inputs:\n\n```\nx0, y0 = 0.0, 0.0\nx1, y1 = 0.0, 2.0\nx2, y2 = 3.0, 0.0\n```",
   "metadata": {
    "nbgrader": {
     "grade": false,
     "grade_id": "cell-668d765c259431ca",
     "locked": true,
     "schema_version": 3,
     "solution": false
    },
    "id": "aDvQQuqJLNe4",
    "colab_type": "text",
    "cell_id": "00007-3fd73243-add8-4334-a8bb-e97959701ef0",
    "deepnote_cell_type": "markdown"
   }
  },
  {
   "cell_type": "code",
   "metadata": {
    "id": "Z6iycVlF6RmN",
    "colab_type": "code",
    "colab": {},
    "cell_id": "00008-c80c483d-0f03-430f-977e-b29bcbb9f5f3",
    "deepnote_cell_type": "code"
   },
   "source": "### WRITE FUNCTION HERE\n",
   "execution_count": 0,
   "outputs": []
  },
  {
   "cell_type": "code",
   "metadata": {
    "id": "ZG3GGMYDNFUV",
    "colab_type": "code",
    "colab": {},
    "cell_id": "00009-d8b93644-5496-4969-936e-f9201ddc41e8",
    "deepnote_cell_type": "code"
   },
   "source": "x0, y0 = 0.0, 0.0\nx1, y1 = 0.0, 2.0\nx2, y2 = 3.0, 0.0\n\n### CALL FUNCTION HERE\n",
   "execution_count": 0,
   "outputs": []
  },
  {
   "cell_type": "code",
   "metadata": {
    "id": "QbQpUDs4NIpw",
    "colab_type": "code",
    "colab": {},
    "cell_id": "00010-12290588-406c-4183-8804-c97c310aba22",
    "deepnote_cell_type": "code"
   },
   "source": "",
   "execution_count": 0,
   "outputs": []
  },
  {
   "cell_type": "markdown",
   "source": "<a style='text-decoration:none;line-height:16px;display:flex;color:#5B5B62;padding:10px;justify-content:end;' href='https://deepnote.com?utm_source=created-in-deepnote-cell&projectId=b21ecfca-1024-46a4-860c-35a51c91b2b7' target=\"_blank\">\n<img alt='Created in deepnote.com' style='display:inline;max-height:16px;margin:0px;margin-right:7.5px;' src='data:image/svg+xml;base64,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' > </img>\nCreated in <span style='font-weight:600;margin-left:4px;'>Deepnote</span></a>",
   "metadata": {
    "tags": [],
    "created_in_deepnote_cell": true,
    "deepnote_cell_type": "markdown"
   }
  }
 ],
 "nbformat": 4,
 "nbformat_minor": 0,
 "metadata": {
  "colab": {
   "name": "Exercise 1.2 - Python Fundamentals II",
   "provenance": [
    {
     "file_id": "1vHY4YcsGCXf4TRtZJmzYKC83WQsnumsg",
     "timestamp": 1586317105093
    }
   ],
   "collapsed_sections": []
  },
  "kernelspec": {
   "name": "python3",
   "display_name": "Python 3"
  },
  "deepnote_notebook_id": "ae0887eb-fcf4-4124-8c41-1da7e270057f",
  "deepnote": {},
  "deepnote_execution_queue": []
 }
}