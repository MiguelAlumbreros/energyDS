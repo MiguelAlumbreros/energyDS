{
 "cells": [
  {
   "cell_type": "markdown",
   "source": "# Introduction\n\nA data structure is an 'object' in a program that holds a collection of data. A simple\ndata structure might be an 'array' that holds the components of a vector, or a list of\nnames. A more complicated data structure might represent a telephone directory, \nholding [name, telephone number] pairs.\n\nModern languages, like Python, provide a range of library (built-in) data structures.\nThese are well-tested and optimised; it is good practice to use library data structures to make programs\nsimpler, easier to read and more efficient. \n\nIt is possible to develop your own data structures for special purposes. In this activity\nwe focus on selecting and using built-in data structures. The creation\nof your own data structures is introduced in Activity 12.\n\n\n### Objectives\n\n- Use `list`, `tuple` and dictionary (`dict`) data structures\n- Use iteratation to visit entries in a data structure \n- Learn to select the right data structure for an application",
   "metadata": {
    "cell_id": "00000-7818d90a-3e20-4bb2-89a4-7eb8f2d35d85",
    "deepnote_cell_type": "markdown"
   }
  },
  {
   "cell_type": "markdown",
   "source": "# Data structures\n\nSo far we have restricted our examples to simple built-in data types, e.g. `string`, `int`, and `float`. In practice, programs will use *data structures* to collect data together into useful packages. For example, rather than representing a vector `r` of length 3 using three floats `u`, `v` and `w`, we could represent \nit as a list of floats, `r = [u, v, w]`. Similarly, if we want to store the names of students in a laboratory group, rather than a string variable for each student, we could work with a list of names, e.g.:",
   "metadata": {
    "cell_id": "00001-2b20671e-4ad5-4fb2-895b-a9d097b78142",
    "deepnote_cell_type": "markdown"
   }
  },
  {
   "cell_type": "code",
   "metadata": {
    "cell_id": "00002-3791e41f-09ad-4f81-904b-17f8a9de3f77",
    "deepnote_cell_type": "code"
   },
   "source": "lab_group0 = [\"Sarah\", \"John\", \"Joe\", \"Emily\"]\nlab_group1 = [\"Roger\", \"Rachel\", \"Amer\", \"Caroline\", \"Colin\"]",
   "outputs": [],
   "execution_count": null
  },
  {
   "cell_type": "markdown",
   "source": "This is a much more powerful construction because we can perform operations on a list, such as checking its length (number of students in a lab group), sort the names in the list into alphabetical order, and add or remove names. We could even make a list-of-lists, e.g.",
   "metadata": {
    "cell_id": "00003-46ec6543-a543-44a8-ba7f-6196c4edc7b3",
    "deepnote_cell_type": "markdown"
   }
  },
  {
   "cell_type": "code",
   "metadata": {
    "cell_id": "00004-b9c64309-8d8d-4118-9e38-e2b1286d1264",
    "deepnote_cell_type": "code"
   },
   "source": "lab_groups = [lab_group0, lab_group1]",
   "outputs": [],
   "execution_count": null
  },
  {
   "cell_type": "markdown",
   "source": "to collect all the lab groups together into a *nested* list.\n\nData structures are particularly useful when passing data to functions. Say we want a function that prints the names of students in a given lab group. Rather than passing the name of each student (with different groups having differing numbers of members), we can pass just the list of lab group members to the function.\nSimilarly, we could develop a function that computes the dot product between two vectors of arbitrary length, passing to the function just the two vectors rather than each component.\n\nWe will look at three built-in Python data structures that are commonly used. They are:\n\n- `list` \n- `tuple`\n- `dict` (dictionary)",
   "metadata": {
    "cell_id": "00005-96c73444-d8c5-4fe5-b134-a719af577269",
    "deepnote_cell_type": "markdown"
   }
  },
  {
   "cell_type": "markdown",
   "source": "# Lists\n\nA `list` is a sequence of data. An 'array' in most other languages is a similar concept, but Python lists are more general than most arrays as they can hold a mixture of types. A list is constructed using square brackets:",
   "metadata": {
    "cell_id": "00006-9590143f-7f57-42ea-8e9f-57c3e2868568",
    "deepnote_cell_type": "markdown"
   }
  },
  {
   "cell_type": "code",
   "metadata": {
    "cell_id": "00007-6ecba509-18dc-4ec4-8a4e-ef73c2363a9a",
    "deepnote_cell_type": "code"
   },
   "source": "lab_group0 = [\"Sarah\", \"John\", \"Joe\", \"Emily\", \"Quang\"]\nprint(\"Lab group members: {}\".format(lab_group0))\nprint(\"Size of lab group: {}\".format(len(lab_group0)))\n\nprint(\"Check the Python object type: {}\".format(type(lab_group0)))",
   "outputs": [
    {
     "name": "stdout",
     "output_type": "stream",
     "text": "Lab group members: ['Sarah', 'John', 'Joe', 'Emily', 'Quang']\nSize of lab group: 5\nCheck the Python object type: <class 'list'>\n"
    }
   ],
   "execution_count": null
  },
  {
   "cell_type": "markdown",
   "source": "The function '`len`' returns the length (number of items) of the list.\n\nAn empty list is created by",
   "metadata": {
    "cell_id": "00008-c8994651-8f23-4bdd-9447-909adb21a704",
    "deepnote_cell_type": "markdown"
   }
  },
  {
   "cell_type": "code",
   "metadata": {
    "cell_id": "00009-7670108c-a99f-4f87-8a78-8ad77b148428",
    "deepnote_cell_type": "code"
   },
   "source": "my_list = []",
   "outputs": [],
   "execution_count": null
  },
  {
   "cell_type": "markdown",
   "source": "A list of length 5 with repeated values can be created by",
   "metadata": {
    "cell_id": "00010-fdac0dfe-da2d-46ec-9b0c-76c9e3d3ce03",
    "deepnote_cell_type": "markdown"
   }
  },
  {
   "cell_type": "code",
   "metadata": {
    "cell_id": "00011-8a8581f8-4dea-4278-94f3-5686d8a0cb12",
    "deepnote_cell_type": "code"
   },
   "source": "my_list = [\"Oliver\"]*5\nprint(my_list)",
   "outputs": [
    {
     "name": "stdout",
     "output_type": "stream",
     "text": "['Oliver', 'Oliver', 'Oliver', 'Oliver', 'Oliver']\n"
    }
   ],
   "execution_count": null
  },
  {
   "cell_type": "markdown",
   "source": "## Iterating over lists\n\nLooping over each item in a list (or more generally a sequence) is called *iterating*. We iterate over the members of the lab group using the syntax:",
   "metadata": {
    "cell_id": "00012-5efba7c8-d59b-4c85-88c7-cb92385d3aac",
    "deepnote_cell_type": "markdown"
   }
  },
  {
   "cell_type": "code",
   "metadata": {
    "cell_id": "00013-e0f20187-945d-42c2-882f-9dd46f1ddf2f",
    "deepnote_cell_type": "code"
   },
   "source": "for member in lab_group0:\n    print(member)",
   "outputs": [
    {
     "name": "stdout",
     "output_type": "stream",
     "text": "Sarah\nJohn\nJoe\nEmily\nQuang\n"
    }
   ],
   "execution_count": null
  },
  {
   "cell_type": "markdown",
   "source": "Say we want to iterate over the names of the lab group members, and get the position\nof each member in the list. We use `enumerate` for this: ",
   "metadata": {
    "cell_id": "00014-6bdd7b69-f3bd-40ab-8973-35322c0cc83d",
    "deepnote_cell_type": "markdown"
   }
  },
  {
   "cell_type": "code",
   "metadata": {
    "cell_id": "00015-53317902-367b-42b1-9f64-847eacb958c9",
    "deepnote_cell_type": "code"
   },
   "source": "for n, member in enumerate(lab_group0):\n    print(n, member)",
   "outputs": [
    {
     "name": "stdout",
     "output_type": "stream",
     "text": "0 Sarah\n1 John\n2 Joe\n3 Emily\n4 Quang\n"
    }
   ],
   "execution_count": null
  },
  {
   "cell_type": "markdown",
   "source": "In the above, `n` is the position in the list and `member` is the $n$th entry in the list. Sometimes we need to know the position, in which case `enumerate` is helpful. However, when possible it is preferable to use a 'plain' iteration. Note that Python counts from zero - it uses zero-based indexing.",
   "metadata": {
    "cell_id": "00016-ae7bbf56-4511-4cc3-9e5b-7b2b06a0bf48",
    "deepnote_cell_type": "markdown"
   }
  },
  {
   "cell_type": "markdown",
   "source": "## Manipulating lists \n\nThere are many functions for manipulating lists. It might be useful to sort the list:",
   "metadata": {
    "cell_id": "00017-60a6218a-7e92-459d-acc3-409b77524578",
    "deepnote_cell_type": "markdown"
   }
  },
  {
   "cell_type": "code",
   "metadata": {
    "cell_id": "00018-c58dc617-a8c9-44e5-b856-58587b02dd0f",
    "deepnote_cell_type": "code"
   },
   "source": "lab_group0.sort()\nfor member in lab_group0:\n    print(member)",
   "outputs": [
    {
     "name": "stdout",
     "output_type": "stream",
     "text": "Emily\nJoe\nJohn\nQuang\nSarah\n"
    }
   ],
   "execution_count": null
  },
  {
   "cell_type": "markdown",
   "source": "In the above, `sort` is known as a 'method' of a `list`. It performs an *in-place* sort, i.e. `lab_group0` is sorted, rather than creating a new list with sorted entries (for the latter we would use `sorted(lab_group0)`, which returns a new list). More on methods later when we get to object-oriented design.\n\nWith lists we can add and remove students:",
   "metadata": {
    "cell_id": "00019-0a7bf2c8-9aff-4865-bd72-2e409d9385b2",
    "deepnote_cell_type": "markdown"
   }
  },
  {
   "cell_type": "code",
   "metadata": {
    "cell_id": "00020-a368c6e0-1727-4a19-9b19-e6c3c662503d",
    "deepnote_cell_type": "code"
   },
   "source": "# Remove the second student (indexing starts from 0, so 1 is the second element)\nlab_group0.pop(1)\nprint(lab_group0)\n\n# Add new student \"Josephine\" at the end of the list\nlab_group0.append(\"Josephine\")\nprint(lab_group0)",
   "outputs": [
    {
     "name": "stdout",
     "output_type": "stream",
     "text": "['Emily', 'John', 'Quang', 'Sarah']\n['Emily', 'John', 'Quang', 'Sarah', 'Josephine']\n"
    }
   ],
   "execution_count": null
  },
  {
   "cell_type": "markdown",
   "source": "or maybe join two groups to create one larger group: ",
   "metadata": {
    "cell_id": "00021-b0ec78b1-4e3f-49e1-b679-a0f24d74b451",
    "deepnote_cell_type": "markdown"
   }
  },
  {
   "cell_type": "code",
   "metadata": {
    "cell_id": "00022-62a6e092-4101-459b-9509-68d09ace8967",
    "deepnote_cell_type": "code"
   },
   "source": "lab_group1 = [\"Roger\", \"Rachel\", \"Amer\", \"Caroline\", \"Colin\"]\n\nlab_group = lab_group0 + lab_group1\nprint(lab_group)",
   "outputs": [
    {
     "name": "stdout",
     "output_type": "stream",
     "text": "['Emily', 'John', 'Quang', 'Sarah', 'Josephine', 'Roger', 'Rachel', 'Amer', 'Caroline', 'Colin']\n"
    }
   ],
   "execution_count": null
  },
  {
   "cell_type": "markdown",
   "source": "or create a list of group lists:",
   "metadata": {
    "cell_id": "00023-d5b2a521-a5ab-4552-85ec-4c1562aef6fb",
    "deepnote_cell_type": "markdown"
   }
  },
  {
   "cell_type": "code",
   "metadata": {
    "cell_id": "00024-ebc29675-6a0b-4113-b5e1-6f2b8e26ab7d",
    "deepnote_cell_type": "code"
   },
   "source": "lab_groups = [lab_group0, lab_group1]\nprint(lab_groups)\n\nprint(\"---\")\n\nprint(\"Print each lab group (name and members):\")\nfor i, lab_group in enumerate(lab_groups):\n    print(i, lab_group)",
   "outputs": [
    {
     "name": "stdout",
     "output_type": "stream",
     "text": "[['Emily', 'John', 'Quang', 'Sarah', 'Josephine'], ['Roger', 'Rachel', 'Amer', 'Caroline', 'Colin']]\n---\nPrint each lab group (name and members):\n0 ['Emily', 'John', 'Quang', 'Sarah', 'Josephine']\n1 ['Roger', 'Rachel', 'Amer', 'Caroline', 'Colin']\n"
    }
   ],
   "execution_count": null
  },
  {
   "cell_type": "markdown",
   "source": "## Indexing\n\nLists store data in order, so it is possible to 'index into' a list using an integer (this will be familiar to anyone who has used C), e.g.:",
   "metadata": {
    "cell_id": "00025-9a43f073-9def-4ef4-8fb9-439b5842d0bb",
    "deepnote_cell_type": "markdown"
   }
  },
  {
   "cell_type": "code",
   "metadata": {
    "cell_id": "00026-79d28450-666e-455d-95cb-62e9f270a93b",
    "deepnote_cell_type": "code"
   },
   "source": "first_member = lab_group0[0]\nthird_member = lab_group0[2]\nprint(first_member, third_member)",
   "outputs": [
    {
     "name": "stdout",
     "output_type": "stream",
     "text": "Emily Quang\n"
    }
   ],
   "execution_count": null
  },
  {
   "cell_type": "markdown",
   "source": "or",
   "metadata": {
    "cell_id": "00027-b78be898-a4c8-427f-bc6d-09bb929af4cd",
    "deepnote_cell_type": "markdown"
   }
  },
  {
   "cell_type": "code",
   "metadata": {
    "cell_id": "00028-03d99a62-0b5e-42f5-9bcc-849ce4a8b072",
    "deepnote_cell_type": "code"
   },
   "source": "for i in range(len(lab_group0)):\n    print(lab_group0[i])",
   "outputs": [
    {
     "name": "stdout",
     "output_type": "stream",
     "text": "Emily\nJohn\nQuang\nSarah\nJosephine\n"
    }
   ],
   "execution_count": null
  },
  {
   "cell_type": "markdown",
   "source": "Indices start from zero, and run through to (length - 1).\n\nIndexing can be useful for numerical computations. We use it here to compute the dot product of two vectors:",
   "metadata": {
    "cell_id": "00029-10a26832-544f-46da-a61b-650a25e94342",
    "deepnote_cell_type": "markdown"
   }
  },
  {
   "cell_type": "code",
   "metadata": {
    "cell_id": "00030-bcf40c9b-3a7d-4c6a-86ab-7bd8aaaa35fd",
    "deepnote_cell_type": "code"
   },
   "source": "# Two vectors of length 4\nx = [1.0, 3.5, 7.2, 8.9]\ny = [-1.0, 27.1, 1.0, 6]\n\n# Compute dot-product\ndot_product = 0.0\nfor i in range(len(x)):\n    dot_product += x[i]*y[i]\n\nprint(dot_product)",
   "outputs": [
    {
     "name": "stdout",
     "output_type": "stream",
     "text": "154.45000000000002\n"
    }
   ],
   "execution_count": null
  },
  {
   "cell_type": "markdown",
   "source": "When possible, it is better to iterate over a list rather than use indexing, since there are data structures that support iterating but do not support indexing.\n\nIf we have a list-of-lists,",
   "metadata": {
    "cell_id": "00031-c33bbb6a-a5c3-4dbb-b00f-3a4b800e5587",
    "deepnote_cell_type": "markdown"
   }
  },
  {
   "cell_type": "code",
   "metadata": {
    "cell_id": "00032-a5b09a1f-460e-4b2f-ba7f-afc7b879bb84",
    "deepnote_cell_type": "code"
   },
   "source": "lab_group0 = [\"Sarah\", \"John\", \"Joe\", \"Emily\"]\nlab_group1 = [\"Roger\", \"Rachel\", \"Amer\", \"Caroline\", \"Colin\"]\nlab_groups = [lab_group0, lab_group1]",
   "outputs": [],
   "execution_count": null
  },
  {
   "cell_type": "markdown",
   "source": "we can use the first index to access a list, and a second index to access the entry in that list:",
   "metadata": {
    "cell_id": "00033-10b1d148-5573-4ff2-86aa-910db43dd76b",
    "deepnote_cell_type": "markdown"
   }
  },
  {
   "cell_type": "code",
   "metadata": {
    "cell_id": "00034-a28837e3-9e33-4712-ad29-2f5f64132dbc",
    "deepnote_cell_type": "code"
   },
   "source": "group = lab_groups[0]\nprint(group)\n\nname = lab_groups[1][2]\nprint(name)",
   "outputs": [
    {
     "name": "stdout",
     "output_type": "stream",
     "text": "['Sarah', 'John', 'Joe', 'Emily']\nAmer\n"
    }
   ],
   "execution_count": null
  },
  {
   "cell_type": "markdown",
   "source": "## Heterogeneity (lists with mixed types)\n\nPython lists are heterogeneous data structures - this means they can store mixed types, e.g.",
   "metadata": {
    "cell_id": "00035-7b4793fa-0434-4536-8322-e4a08d6a5f21",
    "deepnote_cell_type": "markdown"
   }
  },
  {
   "cell_type": "code",
   "metadata": {
    "cell_id": "00036-17c5fa4a-6d9d-45f3-8bd4-1994f4924a87",
    "deepnote_cell_type": "code"
   },
   "source": "mixed_list = [\"Adam\", 2 + 4j, 1.0, 4]\nfor entry in mixed_list:\n    print(entry, type(entry))",
   "outputs": [
    {
     "name": "stdout",
     "output_type": "stream",
     "text": "Adam <class 'str'>\n(2+4j) <class 'complex'>\n1.0 <class 'float'>\n4 <class 'int'>\n"
    }
   ],
   "execution_count": null
  },
  {
   "cell_type": "markdown",
   "source": "Arrays in most languages are homogeneous - all types in the array must be the same.\n\nThere are *many* ways in which lists can be manipulated. The best way to learn how to perform a specific operation is to use a search engine.",
   "metadata": {
    "cell_id": "00037-b91edb07-2022-4ee6-85e5-076e3a019b01",
    "deepnote_cell_type": "markdown"
   }
  },
  {
   "cell_type": "markdown",
   "source": "## List comprehension (advanced, optional)\n\nA powerful construct in modern languages, including Python, is *list comprehension*. It is a way to succinctly build lists from other lists. It can be very useful, but should be applied sensibly as it can sometimes be difficult to read. There is an optional extension exercise at the end of this notebook that uses list comprehension.\n\nSay we have a list of numbers, and we wish to create a new list that squares each number in the original list and adds 5. Using list comprehension:",
   "metadata": {
    "cell_id": "00038-e4536841-d414-498f-af4e-214be918606e",
    "deepnote_cell_type": "markdown"
   }
  },
  {
   "cell_type": "code",
   "metadata": {
    "cell_id": "00039-015f9b52-d793-431d-b689-d3529730341c",
    "deepnote_cell_type": "code"
   },
   "source": "x = [4, 6, 10, 11]\ny = [a*a + 5 for a in x]\n\nprint(x)\nprint(y)",
   "outputs": [
    {
     "name": "stdout",
     "output_type": "stream",
     "text": "[4, 6, 10, 11]\n[21, 41, 105, 126]\n"
    }
   ],
   "execution_count": null
  },
  {
   "cell_type": "markdown",
   "source": "To understand the meaning, read the statement left-to-right.\n\nAs another example, say we have a list of names and we want to \n\n- build a new list of names that contains only the names with more than 5 characters; and \n- for these names we want to add a full stop at the end.\n\nUsing list comprehension:",
   "metadata": {
    "cell_id": "00040-6106c79a-275e-4090-a8aa-907bf4e1c126",
    "deepnote_cell_type": "markdown"
   }
  },
  {
   "cell_type": "code",
   "metadata": {
    "cell_id": "00041-4d2397eb-fb26-4f22-b59b-01e97815689d",
    "deepnote_cell_type": "code"
   },
   "source": "lab_group1 = [\"Roger\", \"Rachel\", \"Amer\", \"Caroline\", \"Colin\"]\ngroup = [name + \".\" for name in lab_group1 if len(name) > 5]\n\nprint(lab_group1)\nprint(group)",
   "outputs": [
    {
     "name": "stdout",
     "output_type": "stream",
     "text": "['Roger', 'Rachel', 'Amer', 'Caroline', 'Colin']\n['Rachel.', 'Caroline.']\n"
    }
   ],
   "execution_count": null
  },
  {
   "cell_type": "markdown",
   "source": "Mastering list comprehension is not simple, but it is very powerful.",
   "metadata": {
    "cell_id": "00042-209f5eb1-02c6-494a-a549-35d49ba62667",
    "deepnote_cell_type": "markdown"
   }
  },
  {
   "cell_type": "markdown",
   "source": "## Tuples\n\nTuples are closely related to lists. The main difference is that a tuple cannot be changed after it has been created. \nIn computing jargon, it is *immutable*.\n\nFor something that should not change after it has been created, such as a vector of length three with fixed entries, a tuple is more appropriate than a list. It is 'safer' in this case since it cannot be modified accidentally in a program. Being immutable ('read-only') also permits implementations to be optimised for speed.\n\nTo create a tuple, use round brackets. Say at a college each student is assigned a room, and the rooms are numbered. A student 'Laura' is given room 32:",
   "metadata": {
    "cell_id": "00043-40fcc53e-2d67-4dc0-9f62-54ab1d34cace",
    "deepnote_cell_type": "markdown"
   }
  },
  {
   "cell_type": "code",
   "metadata": {
    "cell_id": "00044-7fa8148e-22a2-483b-916e-8c93271277b4",
    "deepnote_cell_type": "code"
   },
   "source": "room = (\"Laura\", 32)\nprint(\"Room allocation: {}\".format(room))\nprint(\"Length of entry: {}\".format(len(room)))\nprint(type(room))",
   "outputs": [
    {
     "name": "stdout",
     "output_type": "stream",
     "text": "Room allocation: ('Laura', 32)\nLength of entry: 2\n<class 'tuple'>\n"
    }
   ],
   "execution_count": null
  },
  {
   "cell_type": "markdown",
   "source": "We can iterate over tuples in the same way as with lists,",
   "metadata": {
    "cell_id": "00045-03b340a8-0a42-485b-a425-48393b13d966",
    "deepnote_cell_type": "markdown"
   }
  },
  {
   "cell_type": "code",
   "metadata": {
    "cell_id": "00046-d3cf7323-6cc5-4f68-9f6b-183ddf36c7ea",
    "deepnote_cell_type": "code"
   },
   "source": "# Iterate over tuple values\nfor d in room:\n    print(d)",
   "outputs": [
    {
     "name": "stdout",
     "output_type": "stream",
     "text": "Laura\n32\n"
    }
   ],
   "execution_count": null
  },
  {
   "cell_type": "markdown",
   "source": "and we can index into a tuple:",
   "metadata": {
    "cell_id": "00047-a4ce3655-e880-4f45-8ee5-c1bdfcbbec9b",
    "deepnote_cell_type": "markdown"
   }
  },
  {
   "cell_type": "code",
   "metadata": {
    "cell_id": "00048-5c356969-c249-43fc-a4bd-2baa78288534",
    "deepnote_cell_type": "code"
   },
   "source": "# Index into tuple values\nprint(room[1])\nprint(room[0])",
   "outputs": [
    {
     "name": "stdout",
     "output_type": "stream",
     "text": "32\nLaura\n"
    }
   ],
   "execution_count": null
  },
  {
   "cell_type": "markdown",
   "source": "We might have a student who is given permission to live outside of college. To keep track of them we still want an entry for the student, but there is no associated room number. We can create a tuple of length one using '`(\"a\",)`', e.g.:",
   "metadata": {
    "cell_id": "00049-1e4bb93a-b7a6-41bd-9ec4-541bf22f6a53",
    "deepnote_cell_type": "markdown"
   }
  },
  {
   "cell_type": "code",
   "metadata": {
    "cell_id": "00050-37bf31ef-ce20-49a4-827c-4bc0c1d17f70",
    "deepnote_cell_type": "code"
   },
   "source": "room = (\"Adrian\",)\nprint(\"Room allocation: {}\".format(room))\nprint(\"Length of entry: {}\".format(len(room)))\nprint(type(room))",
   "outputs": [
    {
     "name": "stdout",
     "output_type": "stream",
     "text": "Room allocation: ('Adrian',)\nLength of entry: 1\n<class 'tuple'>\n"
    }
   ],
   "execution_count": null
  },
  {
   "cell_type": "markdown",
   "source": "As part of a rooms database, we can create a list of tuples:",
   "metadata": {
    "cell_id": "00051-1bba30a2-8c95-4200-9632-d92bcdf6f01e",
    "deepnote_cell_type": "markdown"
   }
  },
  {
   "cell_type": "code",
   "metadata": {
    "cell_id": "00052-d5de9162-2bb0-4d6a-99f7-0f343a1bccaa",
    "deepnote_cell_type": "code"
   },
   "source": "room_allocation = [(\"Adrian\",), (\"Laura\", 32), (\"John\", 31), (\"Penelope\", 28), (\"Fraser\", 28), (\"Gaurav\", 19)]\nprint(room_allocation)",
   "outputs": [
    {
     "name": "stdout",
     "output_type": "stream",
     "text": "[('Adrian',), ('Laura', 32), ('John', 31), ('Penelope', 28), ('Fraser', 28), ('Gaurav', 19)]\n"
    }
   ],
   "execution_count": null
  },
  {
   "cell_type": "markdown",
   "source": "To make it easier for students to find their rooms on a printed room list, we can sort the list:",
   "metadata": {
    "cell_id": "00053-e301f3eb-f1be-4dd3-b055-053be1eca560",
    "deepnote_cell_type": "markdown"
   }
  },
  {
   "cell_type": "code",
   "metadata": {
    "cell_id": "00054-1fffeae5-fa8d-4f3f-9717-4e3843d0a562",
    "deepnote_cell_type": "code"
   },
   "source": "room_allocation.sort()\nprint(room_allocation)",
   "outputs": [
    {
     "name": "stdout",
     "output_type": "stream",
     "text": "[('Adrian',), ('Fraser', 28), ('Gaurav', 19), ('John', 31), ('Laura', 32), ('Penelope', 28)]\n"
    }
   ],
   "execution_count": null
  },
  {
   "cell_type": "markdown",
   "source": "We could improve the printed list by not printing those living outside of the college:",
   "metadata": {
    "cell_id": "00055-1fb628a8-e7bb-41de-ab88-609c814ceb67",
    "deepnote_cell_type": "markdown"
   }
  },
  {
   "cell_type": "code",
   "metadata": {
    "cell_id": "00056-16473664-262f-476f-bde5-dacaec818f49",
    "deepnote_cell_type": "code"
   },
   "source": "for entry in room_allocation:\n    if len(entry) > 1:\n        print(\"Name: {} \\n  Room: {}\".format(entry[0], entry[1]))",
   "outputs": [
    {
     "name": "stdout",
     "output_type": "stream",
     "text": "Name: Fraser \n  Room: 28\nName: Gaurav \n  Room: 19\nName: John \n  Room: 31\nName: Laura \n  Room: 32\nName: Penelope \n  Room: 28\n"
    }
   ],
   "execution_count": null
  },
  {
   "cell_type": "markdown",
   "source": "In summary, prefer tuples over lists when the length will not change.",
   "metadata": {
    "cell_id": "00057-3a918286-ca9f-4e7b-87e8-0e42ee82643a",
    "deepnote_cell_type": "markdown"
   }
  },
  {
   "cell_type": "markdown",
   "source": "# Dictionaries (maps)\n\nWe used a list of tuples in the previous section to store room allocations. If we wanted to find which room a particular student has been allocated we would need to iterate through the list and check each name. For a very large list, this might not be very efficient.\n\nThere is a better way to do this, using a 'dictionary' (or sometimes called a 'map'). We have used indexing (with integers) into lists and tuples for direct access to a specific entry. This works if we know the index to the entry of interest. But, for a room list we identify individuals by name rather than a contiguous set of integers. Using a dictionary, we can build a 'map' from names (the *keys*) to room numbers (the *values*). \n\nA Python dictionary (`dict`) is declared using curly braces:",
   "metadata": {
    "cell_id": "00058-93ca863c-6cbd-4747-b0e5-a285d19d6f62",
    "deepnote_cell_type": "markdown"
   }
  },
  {
   "cell_type": "code",
   "metadata": {
    "cell_id": "00059-9bb483c7-55f2-4a07-86d8-7bd897595021",
    "deepnote_cell_type": "code"
   },
   "source": "room_allocation = {\"Adrian\": None, \"Laura\": 32, \"John\": 31, \"Penelope\": 28, \"Fraser\": 28, \"Gaurav\": 19}\nprint(room_allocation)\nprint(type(room_allocation))",
   "outputs": [
    {
     "name": "stdout",
     "output_type": "stream",
     "text": "{'Adrian': None, 'Laura': 32, 'John': 31, 'Penelope': 28, 'Fraser': 28, 'Gaurav': 19}\n<class 'dict'>\n"
    }
   ],
   "execution_count": null
  },
  {
   "cell_type": "markdown",
   "source": "Each entry is separated by a comma. For each entry we have a 'key', which is followed by a colon, and then the 'value'. Note that for Adrian we have used '`None`' for the value, which is a Python keyword for 'nothing' or 'empty'.\n\nNow if we want to know which room Fraser has been allocated, we can query the dictionary by key:",
   "metadata": {
    "cell_id": "00060-209b8c3e-796d-48f1-9c50-bc20661ec07f",
    "deepnote_cell_type": "markdown"
   }
  },
  {
   "cell_type": "code",
   "metadata": {
    "cell_id": "00061-cc6881ce-c564-4869-8bec-6a274a5ba753",
    "deepnote_cell_type": "code"
   },
   "source": "frasers_room = room_allocation[\"Fraser\"]\nprint(frasers_room)",
   "outputs": [
    {
     "name": "stdout",
     "output_type": "stream",
     "text": "28\n"
    }
   ],
   "execution_count": null
  },
  {
   "cell_type": "markdown",
   "source": "If we try to use a key that does not exist in the dictionary, e.g.\n\n    frasers_room = room_allocation[\"Frasers\"]\n\nPython will give an error (raise an exception). If we're not sure that a key is present, we can check:",
   "metadata": {
    "cell_id": "00062-cb811dd3-b000-47fb-b8b6-f23325b6c7b6",
    "deepnote_cell_type": "markdown"
   }
  },
  {
   "cell_type": "code",
   "metadata": {
    "cell_id": "00063-0e9799a2-8a59-4da3-9a1c-4105b0f84ee5",
    "deepnote_cell_type": "code"
   },
   "source": "print(\"Fraser\" in room_allocation)\nprint(\"Frasers\" in room_allocation)",
   "outputs": [
    {
     "name": "stdout",
     "output_type": "stream",
     "text": "True\nFalse\n"
    }
   ],
   "execution_count": null
  },
  {
   "cell_type": "markdown",
   "source": "(We can also use '`in`' to check if an entry exists in a list or tuple).\nWe can iterate over the keys in a dictionary:",
   "metadata": {
    "cell_id": "00064-f146e196-a5b5-43de-9435-a103b5310b71",
    "deepnote_cell_type": "markdown"
   }
  },
  {
   "cell_type": "code",
   "metadata": {
    "cell_id": "00065-c0dc4a03-ed40-4376-bc8c-f49255e27b07",
    "deepnote_cell_type": "code"
   },
   "source": "for d in room_allocation:\n    print(d)",
   "outputs": [
    {
     "name": "stdout",
     "output_type": "stream",
     "text": "Adrian\nLaura\nJohn\nPenelope\nFraser\nGaurav\n"
    }
   ],
   "execution_count": null
  },
  {
   "cell_type": "markdown",
   "source": "or iterate over both the keys and the values:",
   "metadata": {
    "cell_id": "00066-9d5bf198-329f-4457-87ad-f0923549054c",
    "deepnote_cell_type": "markdown"
   }
  },
  {
   "cell_type": "code",
   "metadata": {
    "cell_id": "00067-fee59253-733b-4432-b0cd-8f3adb7e6cc7",
    "deepnote_cell_type": "code"
   },
   "source": "for name, room_number in room_allocation.items():\n    print(name, room_number)",
   "outputs": [
    {
     "name": "stdout",
     "output_type": "stream",
     "text": "Adrian None\nLaura 32\nJohn 31\nPenelope 28\nFraser 28\nGaurav 19\n"
    }
   ],
   "execution_count": null
  },
  {
   "cell_type": "markdown",
   "source": "Note that the order of the printed entries in the dictionary is different from the input order. This is because a dictionary stores data differently from a list or tuple. Lists and tuples store entries 'linearly' in memory\n(contiguous pieces of memory), which is why we can access entries by index. Dictionaries use a different type of storage which allows us to perform look-ups using a 'key'.\n\nWe have used a string as the key so far, which is common. However, we can use almost any type as a key, and we can mix types. For example, we might want to 'invert' the room allocation dictionary to create a room-to-name map: ",
   "metadata": {
    "cell_id": "00068-0ce91aae-4049-4751-9262-3c378025bab6",
    "deepnote_cell_type": "markdown"
   }
  },
  {
   "cell_type": "code",
   "metadata": {
    "cell_id": "00069-382f7072-dc82-4316-b592-2e0d2f256b5d",
    "deepnote_cell_type": "code"
   },
   "source": "# Create empty dictionary\nroom_allocation_inverse = {}\n\n# Build inverse dictionary to map 'room number' -> name \nfor name, room_number in room_allocation.items():\n    # Insert entry into dictionary\n    room_allocation_inverse[room_number] = name\n\nprint(room_allocation_inverse)",
   "outputs": [
    {
     "name": "stdout",
     "output_type": "stream",
     "text": "{None: 'Adrian', 32: 'Laura', 31: 'John', 28: 'Fraser', 19: 'Gaurav'}\n"
    }
   ],
   "execution_count": null
  },
  {
   "cell_type": "markdown",
   "source": "We can now ask who is in room 28 and who is in room 29. Not all rooms are occupied, so we should include a check that the room number is a key in our dictionary:",
   "metadata": {
    "cell_id": "00070-645506f0-f7c8-4106-9509-2bbd05a2047c",
    "deepnote_cell_type": "markdown"
   }
  },
  {
   "cell_type": "code",
   "metadata": {
    "cell_id": "00071-00743c1f-48e0-4239-82dc-d44a8f26b864",
    "deepnote_cell_type": "code"
   },
   "source": "rooms_to_check = [28, 29]\n\nfor room in rooms_to_check:\n    if room in room_allocation_inverse:\n        print(\"Room {} is occupied by {}.\".format(room, room_allocation_inverse[room]))\n    else:\n        print(\"Room {} is unoccupied.\".format(room))",
   "outputs": [
    {
     "name": "stdout",
     "output_type": "stream",
     "text": "Room 28 is occupied by Fraser.\nRoom 29 is unoccupied.\n"
    }
   ],
   "execution_count": null
  },
  {
   "cell_type": "markdown",
   "source": "# Choosing a data structure\n\nAn important task when developing a computer program is selecting the *appropriate* data structure for a task.\nThe more flexible the data structure, generally the less efficient it will be and it will use more memory compared to simpler data structures.\n\n- If efficiency is not critical, pick a data structure that provides the functionality you need, and offers \n  flexibility and ease of use. Safety should also be considered (this can be a good reason for choosing a \n  tuple over a list).\n- Use iterators rather than indexing when possible. This will allow switching from data structures that support \n  indexing to data structures that do not support indexing (such as a '`set`' data structure).\n\nFor many numerical computations, efficiency is essential and picking the right data structure is critical\nfor this. We will look at data structures that are specialied for numerical computations in the next notebook, and we'll see the huge difference in speed there can be between different data structures.",
   "metadata": {
    "collapsed": true,
    "cell_id": "00072-53054188-2594-4838-92ca-407c501b4e9e",
    "deepnote_cell_type": "markdown"
   }
  },
  {
   "cell_type": "markdown",
   "source": "# Exercises\n\nComplete now the [06 Exercises](Exercises/06%20Exercises.ipynb) notebook.",
   "metadata": {
    "cell_id": "00073-c87c59cc-25af-473b-8605-7c14cca99cb2",
    "deepnote_cell_type": "markdown"
   }
  },
  {
   "cell_type": "markdown",
   "source": "<a style='text-decoration:none;line-height:16px;display:flex;color:#5B5B62;padding:10px;justify-content:end;' href='https://deepnote.com?utm_source=created-in-deepnote-cell&projectId=b21ecfca-1024-46a4-860c-35a51c91b2b7' target=\"_blank\">\n<img alt='Created in deepnote.com' style='display:inline;max-height:16px;margin:0px;margin-right:7.5px;' src='data:image/svg+xml;base64,PD94bWwgdmVyc2lvbj0iMS4wIiBlbmNvZGluZz0iVVRGLTgiPz4KPHN2ZyB3aWR0aD0iODBweCIgaGVpZ2h0PSI4MHB4IiB2aWV3Qm94PSIwIDAgODAgODAiIHZlcnNpb249IjEuMSIgeG1sbnM9Imh0dHA6Ly93d3cudzMub3JnLzIwMDAvc3ZnIiB4bWxuczp4bGluaz0iaHR0cDovL3d3dy53My5vcmcvMTk5OS94bGluayI+CiAgICA8IS0tIEdlbmVyYXRvcjogU2tldGNoIDU0LjEgKDc2NDkwKSAtIGh0dHBzOi8vc2tldGNoYXBwLmNvbSAtLT4KICAgIDx0aXRsZT5Hcm91cCAzPC90aXRsZT4KICAgIDxkZXNjPkNyZWF0ZWQgd2l0aCBTa2V0Y2guPC9kZXNjPgogICAgPGcgaWQ9IkxhbmRpbmciIHN0cm9rZT0ibm9uZSIgc3Ryb2tlLXdpZHRoPSIxIiBmaWxsPSJub25lIiBmaWxsLXJ1bGU9ImV2ZW5vZGQiPgogICAgICAgIDxnIGlkPSJBcnRib2FyZCIgdHJhbnNmb3JtPSJ0cmFuc2xhdGUoLTEyMzUuMDAwMDAwLCAtNzkuMDAwMDAwKSI+CiAgICAgICAgICAgIDxnIGlkPSJHcm91cC0zIiB0cmFuc2Zvcm09InRyYW5zbGF0ZSgxMjM1LjAwMDAwMCwgNzkuMDAwMDAwKSI+CiAgICAgICAgICAgICAgICA8cG9seWdvbiBpZD0iUGF0aC0yMCIgZmlsbD0iIzAyNjVCNCIgcG9pbnRzPSIyLjM3NjIzNzYyIDgwIDM4LjA0NzY2NjcgODAgNTcuODIxNzgyMiA3My44MDU3NTkyIDU3LjgyMTc4MjIgMzIuNzU5MjczOSAzOS4xNDAyMjc4IDMxLjY4MzE2ODMiPjwvcG9seWdvbj4KICAgICAgICAgICAgICAgIDxwYXRoIGQ9Ik0zNS4wMDc3MTgsODAgQzQyLjkwNjIwMDcsNzYuNDU0OTM1OCA0Ny41NjQ5MTY3LDcxLjU0MjI2NzEgNDguOTgzODY2LDY1LjI2MTk5MzkgQzUxLjExMjI4OTksNTUuODQxNTg0MiA0MS42NzcxNzk1LDQ5LjIxMjIyODQgMjUuNjIzOTg0Niw0OS4yMTIyMjg0IEMyNS40ODQ5Mjg5LDQ5LjEyNjg0NDggMjkuODI2MTI5Niw0My4yODM4MjQ4IDM4LjY0NzU4NjksMzEuNjgzMTY4MyBMNzIuODcxMjg3MSwzMi41NTQ0MjUgTDY1LjI4MDk3Myw2Ny42NzYzNDIxIEw1MS4xMTIyODk5LDc3LjM3NjE0NCBMMzUuMDA3NzE4LDgwIFoiIGlkPSJQYXRoLTIyIiBmaWxsPSIjMDAyODY4Ij48L3BhdGg+CiAgICAgICAgICAgICAgICA8cGF0aCBkPSJNMCwzNy43MzA0NDA1IEwyNy4xMTQ1MzcsMC4yNTcxMTE0MzYgQzYyLjM3MTUxMjMsLTEuOTkwNzE3MDEgODAsMTAuNTAwMzkyNyA4MCwzNy43MzA0NDA1IEM4MCw2NC45NjA0ODgyIDY0Ljc3NjUwMzgsNzkuMDUwMzQxNCAzNC4zMjk1MTEzLDgwIEM0Ny4wNTUzNDg5LDc3LjU2NzA4MDggNTMuNDE4MjY3Nyw3MC4zMTM2MTAzIDUzLjQxODI2NzcsNTguMjM5NTg4NSBDNTMuNDE4MjY3Nyw0MC4xMjg1NTU3IDM2LjMwMzk1NDQsMzcuNzMwNDQwNSAyNS4yMjc0MTcsMzcuNzMwNDQwNSBDMTcuODQzMDU4NiwzNy43MzA0NDA1IDkuNDMzOTE5NjYsMzcuNzMwNDQwNSAwLDM3LjczMDQ0MDUgWiIgaWQ9IlBhdGgtMTkiIGZpbGw9IiMzNzkzRUYiPjwvcGF0aD4KICAgICAgICAgICAgPC9nPgogICAgICAgIDwvZz4KICAgIDwvZz4KPC9zdmc+' > </img>\nCreated in <span style='font-weight:600;margin-left:4px;'>Deepnote</span></a>",
   "metadata": {
    "tags": [],
    "created_in_deepnote_cell": true,
    "deepnote_cell_type": "markdown"
   }
  }
 ],
 "nbformat": 4,
 "nbformat_minor": 1,
 "metadata": {
  "kernelspec": {
   "display_name": "Python 3",
   "language": "python",
   "name": "python3"
  },
  "language_info": {
   "codemirror_mode": {
    "name": "ipython",
    "version": 3
   },
   "file_extension": ".py",
   "mimetype": "text/x-python",
   "name": "python",
   "nbconvert_exporter": "python",
   "pygments_lexer": "ipython3",
   "version": "3.6.6"
  },
  "deepnote_notebook_id": "ff0b56d0-bff8-4268-9cd8-7690606ebbf4",
  "deepnote": {},
  "deepnote_execution_queue": []
 }
}