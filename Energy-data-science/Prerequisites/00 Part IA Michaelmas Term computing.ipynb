{
 "cells": [
  {
   "cell_type": "markdown",
   "source": "# Part IA Michaelmas Term computing\n\nThis is the introductory notebook for Michaelmas Term computing at the Department of Engineering at University of Cambridge. \n\nThe course is for first year students in their first term, and does not assume any prior computing experience. It does assume a level of mathematical knowledge.",
   "metadata": {
    "colab_type": "text",
    "id": "XR9wEktGFjWX",
    "cell_id": "00000-d8cfda62-1487-4511-a068-36d1f9ab6d38",
    "deepnote_cell_type": "markdown"
   }
  },
  {
   "cell_type": "markdown",
   "source": "# Structure\n\nComputing is best learned by doing, and seeking help when you need it. This course involves 12 self-study, interactive Jupyter notebook 'activities', with exercises at the end of each\nactivity. The activity notebooks cover:\n\n1. [Variables, assignment and operator precedence](01%20Variables,%20assignment%20and%20operator%20precedence.ipynb)\n1. [Control statements](02%20Control%20statements.ipynb)\n1. [Types, type conversions and floating point arithmetic](03%20Types,%20type%20conversions%20and%20floating%20point%20arithmetic.ipynb)\n1. [Functions](04%20Functions.ipynb)\n1. [Library functions](05%20Library%20functions.ipynb)\n1. [Data structures](06%20Data%20structures.ipynb)\n1. [Numerical computation](07%20Numerical%20computation.ipynb)\n1. [Plotting](08%20Plotting.ipynb)\n1. [Error handling and testing](09%20Error%20handling%20and%20testing.ipynb)\n1. [Algorithms](10%20Algorithms.ipynb)\n1. [Complexity](11%20Complexity.ipynb)\n1. [Object-oriented design](12%20Object-oriented%20design.ipynb)\n\nThe notebooks are designed to be completed in order. To complete an activity:\n\n1. Read through a notebook, and change parts of the programs if you want to experiment with what \n   happens - this will help your understanding. \n1. Complete the exercises for the notebook before moving onto the next activity.\n\nAs you move through the activities you might need to revise some of the earlier notebooks.",
   "metadata": {
    "colab_type": "text",
    "id": "uTPejDsvFjWY",
    "cell_id": "00001-7aa6e729-8278-4efc-bb26-979d1bf47c4e",
    "deepnote_cell_type": "markdown"
   }
  },
  {
   "cell_type": "markdown",
   "source": "# Completing exercises\n\nExercises for each notebook are in the [Exercises](Exercises/) directory.\n\n- Use Markdown cells, and where appropriate add equations using LaTeX, to describe what your program is doing.\n- For longer exercises, you may want to break your program into multiple cells, with descriptions in \n  Markdown before cells with code.\n- Most exercises include some automated testing to provide feedback on the correctness of \n  your implementations. You are not expected to understand the test syntax to start.   \n  \nYou are required to present your exercise solutions at a marking session. Check the lab rota for your timetabled marking slot.",
   "metadata": {
    "colab_type": "text",
    "id": "SvekVvVfFjWZ",
    "cell_id": "00002-8b3aef92-f678-4997-bd07-234b9c522e67",
    "deepnote_cell_type": "markdown"
   }
  },
  {
   "cell_type": "markdown",
   "source": "# Getting help\n\nThe best resource is the Internet. For Cambridge students there is also:\n\n1. The help forum at https://www.allanswered.com/community/s/cued-part-ia-computing/.\n   \n   This should be the first place you look for help - at any time \n   of the day or night. Check first if your question has already\n   been asked and answered, and if not post a new question. Follow the forum guidelines \n   on how to ask a question.\n   \n2. Help Desk in the DPO",
   "metadata": {
    "colab_type": "text",
    "id": "X3uMRAE7FjWa",
    "cell_id": "00003-60c607ad-c96e-4929-b932-2b9703c0ef46",
    "deepnote_cell_type": "markdown"
   }
  },
  {
   "cell_type": "markdown",
   "source": "## Providing help\n\nPlease help out by answering questions on the AllAnswered forum. Helping each other is encouraged - if you receive help make sure that you do understand what you have done.",
   "metadata": {
    "colab_type": "text",
    "id": "7QUZxw5KFjWb",
    "cell_id": "00004-95573466-4d8f-41ce-8d12-94db60bb2e10",
    "deepnote_cell_type": "markdown"
   }
  },
  {
   "cell_type": "markdown",
   "source": "# Jupyter notebooks\n\nThis is a Jupyter Notebook. We will be computing using Jupyter Notebooks (https://jupyter.org/) and \nthe programming language Python (https://www.python.org/).\nJupyter Notebooks  provide an interactive environment where you can mix text, equations, programming\nand visual outputs. This is new technology that is increasingly widely used, and it is all open-source. \nYou will find Jupyter Notebooks useful throughout the course.",
   "metadata": {
    "colab_type": "text",
    "id": "SDPyZv09FjWb",
    "cell_id": "00005-78270439-7f98-41b0-98f7-a885d9013c0c",
    "deepnote_cell_type": "markdown"
   }
  },
  {
   "cell_type": "markdown",
   "source": "## Using notebooks\n\nSee the notebook [Using notebooks](Using%20notebooks.ipynb) for guidence.",
   "metadata": {
    "colab_type": "text",
    "id": "vz2EpMvAFjWc",
    "cell_id": "00006-da356cd8-547f-4f0c-8acc-c9f53d954da7",
    "deepnote_cell_type": "markdown"
   }
  },
  {
   "cell_type": "markdown",
   "source": "## Running notebooks\n\n### Azure notebook service\n\nUsing the Jupyter service hosted at https://notebooks.azure.com/ is recommended. Log in using your CRSid.\n\n### Running locally\n\nJupyter can be run locally. If you choose to do so, the [Anaconda](https://www.anaconda.com/download) distribution is recommended. Be sure to download the Python 3 version. Anaconda is also installed in the DPO.",
   "metadata": {
    "colab_type": "text",
    "id": "OoI0IvxIFjWd",
    "cell_id": "00007-fc550968-fc80-415c-be8e-020b40e917f0",
    "deepnote_cell_type": "markdown"
   }
  },
  {
   "cell_type": "markdown",
   "source": "## Python version\n\nWe will be using exclusively Python 3. There are some subtle differences between Python 2 and Python 3. Bear this in mind if using a book or searching online. Most books still use Python 2 syntax.",
   "metadata": {
    "colab_type": "text",
    "id": "6sPLqMKUFjWd",
    "cell_id": "00008-c8b10934-039d-4b64-816d-649ce284472a",
    "deepnote_cell_type": "markdown"
   }
  },
  {
   "cell_type": "markdown",
   "source": "# Other resources\n\nThere are many online resources for learning computing, Python, and on using Jupyter notebooks.\nA search engine is the best way to find relevant material. Remember that we are using\nPython 3 and not Python 2 - you might want to add 'python 3' to any search query.\n\nA useful resource for beginners is https://www.codecademy.com/learn/python.",
   "metadata": {
    "colab_type": "text",
    "id": "6iTdFCtdFjWe",
    "cell_id": "00009-7fff1360-1a4b-4f2c-b02a-28de7bcb82dd",
    "deepnote_cell_type": "markdown"
   }
  },
  {
   "cell_type": "markdown",
   "source": "<a style='text-decoration:none;line-height:16px;display:flex;color:#5B5B62;padding:10px;justify-content:end;' href='https://deepnote.com?utm_source=created-in-deepnote-cell&projectId=b21ecfca-1024-46a4-860c-35a51c91b2b7' target=\"_blank\">\n<img alt='Created in deepnote.com' style='display:inline;max-height:16px;margin:0px;margin-right:7.5px;' src='data:image/svg+xml;base64,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' > </img>\nCreated in <span style='font-weight:600;margin-left:4px;'>Deepnote</span></a>",
   "metadata": {
    "tags": [],
    "created_in_deepnote_cell": true,
    "deepnote_cell_type": "markdown"
   }
  }
 ],
 "nbformat": 4,
 "nbformat_minor": 1,
 "metadata": {
  "colab": {
   "name": "00 Part IA Michaelmas Term computing.ipynb",
   "provenance": [],
   "version": "0.3.2"
  },
  "hide_input": false,
  "kernelspec": {
   "display_name": "Python 3",
   "language": "python",
   "name": "python3"
  },
  "language_info": {
   "codemirror_mode": {
    "name": "ipython",
    "version": 3
   },
   "file_extension": ".py",
   "mimetype": "text/x-python",
   "name": "python",
   "nbconvert_exporter": "python",
   "pygments_lexer": "ipython3",
   "version": "3.7.3"
  },
  "toc": {
   "base_numbering": 1,
   "nav_menu": {},
   "number_sections": true,
   "sideBar": true,
   "skip_h1_title": false,
   "title_cell": "Table of Contents",
   "title_sidebar": "Contents",
   "toc_cell": false,
   "toc_position": {},
   "toc_section_display": true,
   "toc_window_display": false
  },
  "varInspector": {
   "cols": {
    "lenName": 16,
    "lenType": 16,
    "lenVar": 40
   },
   "kernels_config": {
    "python": {
     "delete_cmd_postfix": "",
     "delete_cmd_prefix": "del ",
     "library": "var_list.py",
     "varRefreshCmd": "print(var_dic_list())"
    },
    "r": {
     "delete_cmd_postfix": ") ",
     "delete_cmd_prefix": "rm(",
     "library": "var_list.r",
     "varRefreshCmd": "cat(var_dic_list()) "
    }
   },
   "types_to_exclude": [
    "module",
    "function",
    "builtin_function_or_method",
    "instance",
    "_Feature"
   ],
   "window_display": false
  },
  "deepnote_notebook_id": "081eae38-aeb5-494b-9d3e-b18bc5b7930f",
  "deepnote": {},
  "deepnote_execution_queue": []
 }
}